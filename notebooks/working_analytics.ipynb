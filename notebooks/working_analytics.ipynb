{
 "cells": [
  {
   "cell_type": "code",
   "execution_count": 1,
   "metadata": {},
   "outputs": [],
   "source": [
    "# Pandas\n",
    "import pandas as pd\n",
    "import numpy as np"
   ]
  },
  {
   "cell_type": "code",
   "execution_count": null,
   "metadata": {},
   "outputs": [],
   "source": [
    "from datetime import datetime\n",
    "import seaborn as sns\n",
    "import matplotlib.pyplot as plt\n",
    "\n",
    "%matplotlib inline"
   ]
  },
  {
   "cell_type": "code",
   "execution_count": 346,
   "metadata": {},
   "outputs": [],
   "source": [
    "# Открытие файла 'МАСТЕР ОТЧЕТОВ' из загрузок в компьютере\n",
    "master_origin = pd.read_csv('C:/Users/Андрей/Downloads/master.csv', sep=';')"
   ]
  },
  {
   "cell_type": "code",
   "execution_count": 312,
   "metadata": {},
   "outputs": [
    {
     "data": {
      "text/html": [
       "<div>\n",
       "<style scoped>\n",
       "    .dataframe tbody tr th:only-of-type {\n",
       "        vertical-align: middle;\n",
       "    }\n",
       "\n",
       "    .dataframe tbody tr th {\n",
       "        vertical-align: top;\n",
       "    }\n",
       "\n",
       "    .dataframe thead th {\n",
       "        text-align: right;\n",
       "    }\n",
       "</style>\n",
       "<table border=\"1\" class=\"dataframe\">\n",
       "  <thead>\n",
       "    <tr style=\"text-align: right;\">\n",
       "      <th></th>\n",
       "      <th>Дата</th>\n",
       "      <th>Кампания</th>\n",
       "      <th>№ Кампании</th>\n",
       "      <th>Группа</th>\n",
       "      <th>№ Группы</th>\n",
       "      <th>№ Объявления</th>\n",
       "      <th>Тип объявления</th>\n",
       "      <th>Условие показа</th>\n",
       "      <th>№ Условия показа</th>\n",
       "      <th>Регион местонахождения</th>\n",
       "      <th>...</th>\n",
       "      <th>Глубина (стр.)</th>\n",
       "      <th>Конверсия (%)/Спасибо</th>\n",
       "      <th>Конверсия (%)/Звонок с мобильного</th>\n",
       "      <th>Конверсия (%)/Переход в WhatsApp</th>\n",
       "      <th>Цена цели (руб.)/Спасибо</th>\n",
       "      <th>Цена цели (руб.)/Звонок с мобильного</th>\n",
       "      <th>Цена цели (руб.)/Переход в WhatsApp</th>\n",
       "      <th>Конверсии/Спасибо</th>\n",
       "      <th>Конверсии/Звонок с мобильного</th>\n",
       "      <th>Конверсии/Переход в WhatsApp</th>\n",
       "    </tr>\n",
       "  </thead>\n",
       "  <tbody>\n",
       "    <tr>\n",
       "      <th>0</th>\n",
       "      <td>29.11.2021</td>\n",
       "      <td>Спектр - Пиломатериалы - Поиск</td>\n",
       "      <td>67374988</td>\n",
       "      <td>без группы</td>\n",
       "      <td>NaN</td>\n",
       "      <td>M-0</td>\n",
       "      <td>Текстово-графическое объявление</td>\n",
       "      <td>NaN</td>\n",
       "      <td>-</td>\n",
       "      <td>Архангельская область (более точно регион не о...</td>\n",
       "      <td>...</td>\n",
       "      <td>-</td>\n",
       "      <td>-</td>\n",
       "      <td>-</td>\n",
       "      <td>-</td>\n",
       "      <td>-</td>\n",
       "      <td>-</td>\n",
       "      <td>-</td>\n",
       "      <td>-</td>\n",
       "      <td>-</td>\n",
       "      <td>-</td>\n",
       "    </tr>\n",
       "    <tr>\n",
       "      <th>1</th>\n",
       "      <td>29.11.2021</td>\n",
       "      <td>Спектр - Пиломатериалы - Поиск</td>\n",
       "      <td>67374988</td>\n",
       "      <td>без группы</td>\n",
       "      <td>NaN</td>\n",
       "      <td>M-0</td>\n",
       "      <td>Текстово-графическое объявление</td>\n",
       "      <td>NaN</td>\n",
       "      <td>-</td>\n",
       "      <td>Архангельская область (более точно регион не о...</td>\n",
       "      <td>...</td>\n",
       "      <td>-</td>\n",
       "      <td>-</td>\n",
       "      <td>-</td>\n",
       "      <td>-</td>\n",
       "      <td>-</td>\n",
       "      <td>-</td>\n",
       "      <td>-</td>\n",
       "      <td>-</td>\n",
       "      <td>-</td>\n",
       "      <td>-</td>\n",
       "    </tr>\n",
       "    <tr>\n",
       "      <th>2</th>\n",
       "      <td>29.11.2021</td>\n",
       "      <td>Спектр - Пиломатериалы - Поиск</td>\n",
       "      <td>67374988</td>\n",
       "      <td>без группы</td>\n",
       "      <td>NaN</td>\n",
       "      <td>M-0</td>\n",
       "      <td>Текстово-графическое объявление</td>\n",
       "      <td>NaN</td>\n",
       "      <td>-</td>\n",
       "      <td>Котлас</td>\n",
       "      <td>...</td>\n",
       "      <td>-</td>\n",
       "      <td>-</td>\n",
       "      <td>-</td>\n",
       "      <td>-</td>\n",
       "      <td>-</td>\n",
       "      <td>-</td>\n",
       "      <td>-</td>\n",
       "      <td>-</td>\n",
       "      <td>-</td>\n",
       "      <td>-</td>\n",
       "    </tr>\n",
       "    <tr>\n",
       "      <th>3</th>\n",
       "      <td>29.11.2021</td>\n",
       "      <td>Спектр - Пиломатериалы - Поиск</td>\n",
       "      <td>67374988</td>\n",
       "      <td>без группы</td>\n",
       "      <td>NaN</td>\n",
       "      <td>M-0</td>\n",
       "      <td>Текстово-графическое объявление</td>\n",
       "      <td>NaN</td>\n",
       "      <td>-</td>\n",
       "      <td>Котлас</td>\n",
       "      <td>...</td>\n",
       "      <td>-</td>\n",
       "      <td>-</td>\n",
       "      <td>-</td>\n",
       "      <td>-</td>\n",
       "      <td>-</td>\n",
       "      <td>-</td>\n",
       "      <td>-</td>\n",
       "      <td>-</td>\n",
       "      <td>-</td>\n",
       "      <td>-</td>\n",
       "    </tr>\n",
       "    <tr>\n",
       "      <th>4</th>\n",
       "      <td>29.11.2021</td>\n",
       "      <td>Спектр - Пиломатериалы - Поиск</td>\n",
       "      <td>67374988</td>\n",
       "      <td>Стройматериалы</td>\n",
       "      <td>4.745135e+09</td>\n",
       "      <td>M-11388884384</td>\n",
       "      <td>Текстово-графическое объявление</td>\n",
       "      <td>\"стройматериалы коряжма купить\"</td>\n",
       "      <td>34909765423</td>\n",
       "      <td>Архангельская область (более точно регион не о...</td>\n",
       "      <td>...</td>\n",
       "      <td>-</td>\n",
       "      <td>-</td>\n",
       "      <td>-</td>\n",
       "      <td>-</td>\n",
       "      <td>-</td>\n",
       "      <td>-</td>\n",
       "      <td>-</td>\n",
       "      <td>-</td>\n",
       "      <td>-</td>\n",
       "      <td>-</td>\n",
       "    </tr>\n",
       "  </tbody>\n",
       "</table>\n",
       "<p>5 rows × 31 columns</p>\n",
       "</div>"
      ],
      "text/plain": [
       "         Дата                        Кампания  № Кампании          Группа  \\\n",
       "0  29.11.2021  Спектр - Пиломатериалы - Поиск    67374988      без группы   \n",
       "1  29.11.2021  Спектр - Пиломатериалы - Поиск    67374988      без группы   \n",
       "2  29.11.2021  Спектр - Пиломатериалы - Поиск    67374988      без группы   \n",
       "3  29.11.2021  Спектр - Пиломатериалы - Поиск    67374988      без группы   \n",
       "4  29.11.2021  Спектр - Пиломатериалы - Поиск    67374988  Стройматериалы   \n",
       "\n",
       "       № Группы   № Объявления                   Тип объявления  \\\n",
       "0           NaN            M-0  Текстово-графическое объявление   \n",
       "1           NaN            M-0  Текстово-графическое объявление   \n",
       "2           NaN            M-0  Текстово-графическое объявление   \n",
       "3           NaN            M-0  Текстово-графическое объявление   \n",
       "4  4.745135e+09  M-11388884384  Текстово-графическое объявление   \n",
       "\n",
       "                    Условие показа № Условия показа  \\\n",
       "0                              NaN                -   \n",
       "1                              NaN                -   \n",
       "2                              NaN                -   \n",
       "3                              NaN                -   \n",
       "4  \"стройматериалы коряжма купить\"      34909765423   \n",
       "\n",
       "                              Регион местонахождения  ... Глубина (стр.)  \\\n",
       "0  Архангельская область (более точно регион не о...  ...              -   \n",
       "1  Архангельская область (более точно регион не о...  ...              -   \n",
       "2                                             Котлас  ...              -   \n",
       "3                                             Котлас  ...              -   \n",
       "4  Архангельская область (более точно регион не о...  ...              -   \n",
       "\n",
       "  Конверсия (%)/Спасибо Конверсия (%)/Звонок с мобильного  \\\n",
       "0                     -                                 -   \n",
       "1                     -                                 -   \n",
       "2                     -                                 -   \n",
       "3                     -                                 -   \n",
       "4                     -                                 -   \n",
       "\n",
       "   Конверсия (%)/Переход в WhatsApp  Цена цели (руб.)/Спасибо  \\\n",
       "0                                 -                         -   \n",
       "1                                 -                         -   \n",
       "2                                 -                         -   \n",
       "3                                 -                         -   \n",
       "4                                 -                         -   \n",
       "\n",
       "  Цена цели (руб.)/Звонок с мобильного Цена цели (руб.)/Переход в WhatsApp  \\\n",
       "0                                    -                                   -   \n",
       "1                                    -                                   -   \n",
       "2                                    -                                   -   \n",
       "3                                    -                                   -   \n",
       "4                                    -                                   -   \n",
       "\n",
       "  Конверсии/Спасибо Конверсии/Звонок с мобильного Конверсии/Переход в WhatsApp  \n",
       "0                 -                             -                            -  \n",
       "1                 -                             -                            -  \n",
       "2                 -                             -                            -  \n",
       "3                 -                             -                            -  \n",
       "4                 -                             -                            -  \n",
       "\n",
       "[5 rows x 31 columns]"
      ]
     },
     "execution_count": 312,
     "metadata": {},
     "output_type": "execute_result"
    }
   ],
   "source": [
    "master_origin.head(5)"
   ]
  },
  {
   "cell_type": "code",
   "execution_count": 93,
   "metadata": {},
   "outputs": [
    {
     "data": {
      "text/html": [
       "<div>\n",
       "<style scoped>\n",
       "    .dataframe tbody tr th:only-of-type {\n",
       "        vertical-align: middle;\n",
       "    }\n",
       "\n",
       "    .dataframe tbody tr th {\n",
       "        vertical-align: top;\n",
       "    }\n",
       "\n",
       "    .dataframe thead th {\n",
       "        text-align: right;\n",
       "    }\n",
       "</style>\n",
       "<table border=\"1\" class=\"dataframe\">\n",
       "  <thead>\n",
       "    <tr style=\"text-align: right;\">\n",
       "      <th></th>\n",
       "      <th>Дата</th>\n",
       "      <th>Кампания</th>\n",
       "      <th>№ Кампании</th>\n",
       "      <th>Группа</th>\n",
       "      <th>№ Группы</th>\n",
       "      <th>№ Объявления</th>\n",
       "      <th>Условие показа</th>\n",
       "      <th>№ Условия показа</th>\n",
       "      <th>Регион местонахождения</th>\n",
       "      <th>Тип устройства</th>\n",
       "      <th>...</th>\n",
       "      <th>Глубина (стр.)</th>\n",
       "      <th>Конверсия (%)/Спасибо</th>\n",
       "      <th>Конверсия (%)/Звонок с мобильного</th>\n",
       "      <th>Конверсия (%)/Переход в WhatsApp</th>\n",
       "      <th>Цена цели (руб.)/Спасибо</th>\n",
       "      <th>Цена цели (руб.)/Звонок с мобильного</th>\n",
       "      <th>Цена цели (руб.)/Переход в WhatsApp</th>\n",
       "      <th>Конверсии/Спасибо</th>\n",
       "      <th>Конверсии/Звонок с мобильного</th>\n",
       "      <th>Конверсии/Переход в WhatsApp</th>\n",
       "    </tr>\n",
       "  </thead>\n",
       "  <tbody>\n",
       "    <tr>\n",
       "      <th>129</th>\n",
       "      <td>06.12.2021</td>\n",
       "      <td>Спектр - Стройматериалы - Поиск</td>\n",
       "      <td>67782461</td>\n",
       "      <td>Стройматериалы</td>\n",
       "      <td>4.753623e+09</td>\n",
       "      <td>M-11425986761</td>\n",
       "      <td>стройматериалы -магазин -купить -сайт -каталог...</td>\n",
       "      <td>35055502665</td>\n",
       "      <td>Архангельская область (более точно регион не о...</td>\n",
       "      <td>десктоп</td>\n",
       "      <td>...</td>\n",
       "      <td>-</td>\n",
       "      <td>-</td>\n",
       "      <td>-</td>\n",
       "      <td>-</td>\n",
       "      <td>-</td>\n",
       "      <td>-</td>\n",
       "      <td>-</td>\n",
       "      <td>-</td>\n",
       "      <td>-</td>\n",
       "      <td>-</td>\n",
       "    </tr>\n",
       "    <tr>\n",
       "      <th>130</th>\n",
       "      <td>06.12.2021</td>\n",
       "      <td>Спектр - Стройматериалы - Поиск</td>\n",
       "      <td>67782461</td>\n",
       "      <td>Стройматериалы</td>\n",
       "      <td>4.753623e+09</td>\n",
       "      <td>M-11425986761</td>\n",
       "      <td>стройматериалы -магазин -купить -сайт -каталог...</td>\n",
       "      <td>35055502665</td>\n",
       "      <td>Архангельская область (более точно регион не о...</td>\n",
       "      <td>мобильные</td>\n",
       "      <td>...</td>\n",
       "      <td>-</td>\n",
       "      <td>-</td>\n",
       "      <td>-</td>\n",
       "      <td>-</td>\n",
       "      <td>-</td>\n",
       "      <td>-</td>\n",
       "      <td>-</td>\n",
       "      <td>-</td>\n",
       "      <td>-</td>\n",
       "      <td>-</td>\n",
       "    </tr>\n",
       "    <tr>\n",
       "      <th>131</th>\n",
       "      <td>06.12.2021</td>\n",
       "      <td>Спектр - Стройматериалы - Поиск</td>\n",
       "      <td>67782461</td>\n",
       "      <td>Стекло</td>\n",
       "      <td>4.753623e+09</td>\n",
       "      <td>M-11425986763</td>\n",
       "      <td>стекло -купить -матовое -продажа -рифленое</td>\n",
       "      <td>35055502687</td>\n",
       "      <td>Архангельская область (более точно регион не о...</td>\n",
       "      <td>десктоп</td>\n",
       "      <td>...</td>\n",
       "      <td>-</td>\n",
       "      <td>-</td>\n",
       "      <td>-</td>\n",
       "      <td>-</td>\n",
       "      <td>-</td>\n",
       "      <td>-</td>\n",
       "      <td>-</td>\n",
       "      <td>-</td>\n",
       "      <td>-</td>\n",
       "      <td>-</td>\n",
       "    </tr>\n",
       "    <tr>\n",
       "      <th>132</th>\n",
       "      <td>06.12.2021</td>\n",
       "      <td>Спектр - Стройматериалы - Поиск</td>\n",
       "      <td>67782461</td>\n",
       "      <td>Фанера</td>\n",
       "      <td>4.753623e+09</td>\n",
       "      <td>M-11425986766</td>\n",
       "      <td>фанера купить -коряжма</td>\n",
       "      <td>35055502715</td>\n",
       "      <td>Котлас</td>\n",
       "      <td>мобильные</td>\n",
       "      <td>...</td>\n",
       "      <td>-</td>\n",
       "      <td>-</td>\n",
       "      <td>-</td>\n",
       "      <td>-</td>\n",
       "      <td>-</td>\n",
       "      <td>-</td>\n",
       "      <td>-</td>\n",
       "      <td>-</td>\n",
       "      <td>-</td>\n",
       "      <td>-</td>\n",
       "    </tr>\n",
       "    <tr>\n",
       "      <th>133</th>\n",
       "      <td>06.12.2021</td>\n",
       "      <td>Спектр - Стройматериалы - Поиск</td>\n",
       "      <td>67782461</td>\n",
       "      <td>Гипсокартон</td>\n",
       "      <td>4.755180e+09</td>\n",
       "      <td>M-11433418713</td>\n",
       "      <td>лист гипсокартона -размеры -цена</td>\n",
       "      <td>35088182709</td>\n",
       "      <td>Архангельская область (более точно регион не о...</td>\n",
       "      <td>мобильные</td>\n",
       "      <td>...</td>\n",
       "      <td>-</td>\n",
       "      <td>-</td>\n",
       "      <td>-</td>\n",
       "      <td>-</td>\n",
       "      <td>-</td>\n",
       "      <td>-</td>\n",
       "      <td>-</td>\n",
       "      <td>-</td>\n",
       "      <td>-</td>\n",
       "      <td>-</td>\n",
       "    </tr>\n",
       "  </tbody>\n",
       "</table>\n",
       "<p>5 rows × 30 columns</p>\n",
       "</div>"
      ],
      "text/plain": [
       "           Дата                         Кампания  № Кампании          Группа  \\\n",
       "129  06.12.2021  Спектр - Стройматериалы - Поиск    67782461  Стройматериалы   \n",
       "130  06.12.2021  Спектр - Стройматериалы - Поиск    67782461  Стройматериалы   \n",
       "131  06.12.2021  Спектр - Стройматериалы - Поиск    67782461          Стекло   \n",
       "132  06.12.2021  Спектр - Стройматериалы - Поиск    67782461          Фанера   \n",
       "133  06.12.2021  Спектр - Стройматериалы - Поиск    67782461     Гипсокартон   \n",
       "\n",
       "         № Группы   № Объявления  \\\n",
       "129  4.753623e+09  M-11425986761   \n",
       "130  4.753623e+09  M-11425986761   \n",
       "131  4.753623e+09  M-11425986763   \n",
       "132  4.753623e+09  M-11425986766   \n",
       "133  4.755180e+09  M-11433418713   \n",
       "\n",
       "                                        Условие показа № Условия показа  \\\n",
       "129  стройматериалы -магазин -купить -сайт -каталог...      35055502665   \n",
       "130  стройматериалы -магазин -купить -сайт -каталог...      35055502665   \n",
       "131         стекло -купить -матовое -продажа -рифленое      35055502687   \n",
       "132                             фанера купить -коряжма      35055502715   \n",
       "133                   лист гипсокартона -размеры -цена      35088182709   \n",
       "\n",
       "                                Регион местонахождения Тип устройства  ...  \\\n",
       "129  Архангельская область (более точно регион не о...        десктоп  ...   \n",
       "130  Архангельская область (более точно регион не о...      мобильные  ...   \n",
       "131  Архангельская область (более точно регион не о...        десктоп  ...   \n",
       "132                                             Котлас      мобильные  ...   \n",
       "133  Архангельская область (более точно регион не о...      мобильные  ...   \n",
       "\n",
       "    Глубина (стр.) Конверсия (%)/Спасибо  Конверсия (%)/Звонок с мобильного  \\\n",
       "129              -                     -                                  -   \n",
       "130              -                     -                                  -   \n",
       "131              -                     -                                  -   \n",
       "132              -                     -                                  -   \n",
       "133              -                     -                                  -   \n",
       "\n",
       "     Конверсия (%)/Переход в WhatsApp Цена цели (руб.)/Спасибо  \\\n",
       "129                                 -                        -   \n",
       "130                                 -                        -   \n",
       "131                                 -                        -   \n",
       "132                                 -                        -   \n",
       "133                                 -                        -   \n",
       "\n",
       "    Цена цели (руб.)/Звонок с мобильного Цена цели (руб.)/Переход в WhatsApp  \\\n",
       "129                                    -                                   -   \n",
       "130                                    -                                   -   \n",
       "131                                    -                                   -   \n",
       "132                                    -                                   -   \n",
       "133                                    -                                   -   \n",
       "\n",
       "    Конверсии/Спасибо Конверсии/Звонок с мобильного  \\\n",
       "129                 -                             -   \n",
       "130                 -                             -   \n",
       "131                 -                             -   \n",
       "132                 -                             -   \n",
       "133                 -                             -   \n",
       "\n",
       "    Конверсии/Переход в WhatsApp  \n",
       "129                            -  \n",
       "130                            -  \n",
       "131                            -  \n",
       "132                            -  \n",
       "133                            -  \n",
       "\n",
       "[5 rows x 30 columns]"
      ]
     },
     "execution_count": 93,
     "metadata": {},
     "output_type": "execute_result"
    }
   ],
   "source": [
    "master_origin.tail(5)"
   ]
  },
  {
   "cell_type": "code",
   "execution_count": 313,
   "metadata": {},
   "outputs": [
    {
     "data": {
      "text/plain": [
       "(152, 31)"
      ]
     },
     "execution_count": 313,
     "metadata": {},
     "output_type": "execute_result"
    }
   ],
   "source": [
    "# Проверяем размер таблицы\n",
    "master_origin.shape"
   ]
  },
  {
   "cell_type": "code",
   "execution_count": 95,
   "metadata": {},
   "outputs": [
    {
     "data": {
      "text/plain": [
       "Дата                                     object\n",
       "Кампания                                 object\n",
       "№ Кампании                                int64\n",
       "Группа                                   object\n",
       "№ Группы                                float64\n",
       "№ Объявления                             object\n",
       "Условие показа                           object\n",
       "№ Условия показа                         object\n",
       "Регион местонахождения                   object\n",
       "Тип устройства                           object\n",
       "Пол                                      object\n",
       "Категория таргетинга                     object\n",
       "Показы                                    int64\n",
       "Клики                                     int64\n",
       "CTR (%)                                  object\n",
       "Расход (руб.)                            object\n",
       "Ср. цена клика (руб.)                    object\n",
       "Ср. позиция показов                      object\n",
       "Ср. позиция кликов                       object\n",
       "Отказы (%)                               object\n",
       "Глубина (стр.)                           object\n",
       "Конверсия (%)/Спасибо                    object\n",
       "Конверсия (%)/Звонок с мобильного        object\n",
       "Конверсия (%)/Переход в WhatsApp         object\n",
       "Цена цели (руб.)/Спасибо                 object\n",
       "Цена цели (руб.)/Звонок с мобильного     object\n",
       "Цена цели (руб.)/Переход в WhatsApp      object\n",
       "Конверсии/Спасибо                        object\n",
       "Конверсии/Звонок с мобильного            object\n",
       "Конверсии/Переход в WhatsApp             object\n",
       "dtype: object"
      ]
     },
     "execution_count": 95,
     "metadata": {},
     "output_type": "execute_result"
    }
   ],
   "source": [
    "# Проверяем типы переменных\n",
    "master_origin.dtypes"
   ]
  },
  {
   "cell_type": "code",
   "execution_count": 347,
   "metadata": {},
   "outputs": [
    {
     "data": {
      "text/plain": [
       "Index(['Дата', 'Кампания', '№ Кампании', 'Группа', '№ Группы', '№ Объявления',\n",
       "       'Условие показа', '№ Условия показа', 'Регион местонахождения',\n",
       "       'Тип устройства', 'Пол', 'Категория таргетинга', 'Показы', 'Клики',\n",
       "       'CTR (%)', 'Расход (руб.)', 'Ср. цена клика (руб.)',\n",
       "       'Ср. позиция показов', 'Ср. позиция кликов', 'Отказы (%)',\n",
       "       'Глубина (стр.)', 'Конверсия (%)/Спасибо',\n",
       "       'Конверсия (%)/Звонок с мобильного', 'Конверсия (%)/Переход в WhatsApp',\n",
       "       'Цена цели (руб.)/Спасибо', 'Цена цели (руб.)/Звонок с мобильного',\n",
       "       'Цена цели (руб.)/Переход в WhatsApp', 'Конверсии/Спасибо',\n",
       "       'Конверсии/Звонок с мобильного', 'Конверсии/Переход в WhatsApp'],\n",
       "      dtype='object')"
      ]
     },
     "execution_count": 347,
     "metadata": {},
     "output_type": "execute_result"
    }
   ],
   "source": [
    "master_origin.columns"
   ]
  },
  {
   "cell_type": "code",
   "execution_count": 360,
   "metadata": {},
   "outputs": [],
   "source": [
    "file_master = 'C:/Users/Андрей/Downloads/master.csv'\n",
    "#file_path = file_path.format('master')"
   ]
  },
  {
   "cell_type": "code",
   "execution_count": 361,
   "metadata": {},
   "outputs": [],
   "source": [
    "# $$$$$$$$$$$$$$$$$$$$$$$$$$$$ FUNCTION MASTER $$$$$$$$$$$$$$$$$$$$$$$$$$$$$$$$$\n",
    "# Функция считывает файл, переименовывает колонки, считает суммы, сохраняет результат в новый файл.\n",
    "def master_report(file_path):\n",
    "    df = pd.read_csv(file_path, skiprows=4, sep=';')\n",
    "    df = df \\\n",
    "    .iloc[:, [0, 1, 3, 5, 6, 8, 9, 10, 11, 12, 13, 14, 15, 16, 17, 18, 19, 20, 21, 22, 23, 24, 25, 26, 27, 28, 29]] \\\n",
    "    .rename(columns={'Дата': 'date',\n",
    "                    'Кампания': 'campaign',\n",
    "                    'Группа': 'group',\n",
    "                    '№ Объявления': 'number_ad',\n",
    "                    'Условие показа': 'condition',\n",
    "                    'Регион местонахождения': 'region',\n",
    "                    'Тип устройства': 'device',\n",
    "                    'Пол': 'gender',\n",
    "                    'Категория таргетинга': 'category',\n",
    "                    'Показы': 'shows',\n",
    "                    'Клики': 'click',\n",
    "                    'CTR (%)': 'ctr',\n",
    "                    'Расход (руб.)': 'expense',\n",
    "                    'Ср. цена клика (руб.)': 'average_cost_click',\n",
    "                    'Ср. позиция показов': 'average_position_show',\n",
    "                    'Ср. позиция кликов': 'average_position_click',\n",
    "                    'Отказы (%)': 'refusals',\n",
    "                    'Глубина (стр.)': 'depth',\n",
    "                    'Конверсия (%)/Спасибо': 'conversion_thanks',\n",
    "                    'Конверсия (%)/Звонок с мобильного': 'conversion_calls',\n",
    "                    'Конверсия (%)/Переход в WhatsApp': 'conversion_wa',\n",
    "                    'Цена цели (руб.)/Спасибо': 'price_thanks',\n",
    "                    'Цена цели (руб.)/Звонок с мобильного': 'price_calls',\n",
    "                    'Цена цели (руб.)/Переход в WhatsApp': 'price_wa',\n",
    "                    'Конверсии/Спасибо': 'thanks',\n",
    "                    'Конверсии/Звонок с мобильного': 'calls',\n",
    "                    'Конверсии/Переход в WhatsApp': 'wa'})\n",
    "    df.dropna(subset = ['condition'], inplace = True)\n",
    "    \n",
    "    df['condition'] = df['condition'].apply(lambda x: x.split(' -')[0])\n",
    "    \n",
    "    df['campaign'] = df['campaign'] \\\n",
    "    .replace('Спектр - Пиломатериалы - Поиск', 'Пиломатериалы') \\\n",
    "    .replace('Спектр - Стройматериалы - Поиск', 'Стройматериалы') \\\n",
    "    .replace('Спектр - Услуги - Поиск', 'Услуги') \\\n",
    "    .replace('Спектр - Лестницы - Поиск', 'Лестницы')\n",
    "    \n",
    "    df['region'] = df['region'].replace('Архангельская область (более точно регион не определён)', 'Область')\n",
    "    \n",
    "    return df"
   ]
  },
  {
   "cell_type": "code",
   "execution_count": 292,
   "metadata": {},
   "outputs": [],
   "source": [
    "#    df['campaign'] = df['campaign'] \\\n",
    "#    .replace('Спектр - Пиломатериалы - Поиск', 'Пиломатериалы') \\\n",
    "#    .replace('Спектр - Стройматериалы - Поиск', 'Стройматериалы') \\\n",
    "#     .replace('Спектр - Услуги - Поиск', 'Услуги') \\\n",
    "#     .replace('Спектр - Лестницы - Поиск', 'Лестницы')\n",
    "    \n",
    "#     df['region'] = df['region'].replace('Архангельская область (более точно регион не определён)', 'Область')\n"
   ]
  },
  {
   "cell_type": "code",
   "execution_count": null,
   "metadata": {},
   "outputs": [],
   "source": []
  },
  {
   "cell_type": "code",
   "execution_count": 362,
   "metadata": {},
   "outputs": [],
   "source": [
    "master = master_report(file_master)"
   ]
  },
  {
   "cell_type": "code",
   "execution_count": 332,
   "metadata": {},
   "outputs": [
    {
     "data": {
      "text/plain": [
       "array(['\"стройматериалы коряжма купить\"', 'стекло', 'фанера',\n",
       "       'вставить стекло', 'половая доска', 'имитация бруса', 'вагонка',\n",
       "       'плинтус напольный деревянный', 'гипсокартон цена',\n",
       "       '\"гипсокартон размеры листа\"',\n",
       "       'пиломатериалы от производителя купить', '\"половая доска купить\"',\n",
       "       '\"имитация бруса купить\"', 'сруб из бревна',\n",
       "       'каталог стройматериалов', 'стройматериалы коряжма',\n",
       "       'стекло купить', 'фанера купить', 'брус купить',\n",
       "       'пиломатериал обрезной', 'вагонка купить', 'стройматериалы',\n",
       "       '\"гипсокартон цена\"', 'резка стекла', 'лист гипсокартона'],\n",
       "      dtype=object)"
      ]
     },
     "execution_count": 332,
     "metadata": {},
     "output_type": "execute_result"
    }
   ],
   "source": [
    "master.condition.unique()"
   ]
  },
  {
   "cell_type": "code",
   "execution_count": 363,
   "metadata": {},
   "outputs": [
    {
     "data": {
      "text/html": [
       "<div>\n",
       "<style scoped>\n",
       "    .dataframe tbody tr th:only-of-type {\n",
       "        vertical-align: middle;\n",
       "    }\n",
       "\n",
       "    .dataframe tbody tr th {\n",
       "        vertical-align: top;\n",
       "    }\n",
       "\n",
       "    .dataframe thead th {\n",
       "        text-align: right;\n",
       "    }\n",
       "</style>\n",
       "<table border=\"1\" class=\"dataframe\">\n",
       "  <thead>\n",
       "    <tr style=\"text-align: right;\">\n",
       "      <th></th>\n",
       "      <th>date</th>\n",
       "      <th>campaign</th>\n",
       "      <th>group</th>\n",
       "      <th>number_ad</th>\n",
       "      <th>condition</th>\n",
       "      <th>region</th>\n",
       "      <th>device</th>\n",
       "      <th>gender</th>\n",
       "      <th>category</th>\n",
       "      <th>shows</th>\n",
       "      <th>...</th>\n",
       "      <th>depth</th>\n",
       "      <th>conversion_thanks</th>\n",
       "      <th>conversion_calls</th>\n",
       "      <th>conversion_wa</th>\n",
       "      <th>price_thanks</th>\n",
       "      <th>price_calls</th>\n",
       "      <th>price_wa</th>\n",
       "      <th>thanks</th>\n",
       "      <th>calls</th>\n",
       "      <th>wa</th>\n",
       "    </tr>\n",
       "  </thead>\n",
       "  <tbody>\n",
       "    <tr>\n",
       "      <th>151</th>\n",
       "      <td>08.12.2021</td>\n",
       "      <td>Стройматериалы</td>\n",
       "      <td>Стройматериалы</td>\n",
       "      <td>M-11425986762</td>\n",
       "      <td>стройматериалы</td>\n",
       "      <td>Область</td>\n",
       "      <td>десктоп</td>\n",
       "      <td>мужской</td>\n",
       "      <td>не определена</td>\n",
       "      <td>1</td>\n",
       "      <td>...</td>\n",
       "      <td>-</td>\n",
       "      <td>-</td>\n",
       "      <td>-</td>\n",
       "      <td>-</td>\n",
       "      <td>-</td>\n",
       "      <td>-</td>\n",
       "      <td>-</td>\n",
       "      <td>-</td>\n",
       "      <td>-</td>\n",
       "      <td>-</td>\n",
       "    </tr>\n",
       "    <tr>\n",
       "      <th>152</th>\n",
       "      <td>09.12.2021</td>\n",
       "      <td>Пиломатериалы</td>\n",
       "      <td>Плинтус</td>\n",
       "      <td>M-11430717544</td>\n",
       "      <td>плинтус деревянный купить</td>\n",
       "      <td>Котлас</td>\n",
       "      <td>десктоп</td>\n",
       "      <td>женский</td>\n",
       "      <td>не определена</td>\n",
       "      <td>1</td>\n",
       "      <td>...</td>\n",
       "      <td>-</td>\n",
       "      <td>-</td>\n",
       "      <td>-</td>\n",
       "      <td>-</td>\n",
       "      <td>-</td>\n",
       "      <td>-</td>\n",
       "      <td>-</td>\n",
       "      <td>-</td>\n",
       "      <td>-</td>\n",
       "      <td>-</td>\n",
       "    </tr>\n",
       "    <tr>\n",
       "      <th>156</th>\n",
       "      <td>09.12.2021</td>\n",
       "      <td>Услуги</td>\n",
       "      <td>Услуги</td>\n",
       "      <td>M-11401859567</td>\n",
       "      <td>строительные услуги</td>\n",
       "      <td>Область</td>\n",
       "      <td>десктоп</td>\n",
       "      <td>мужской</td>\n",
       "      <td>не определена</td>\n",
       "      <td>1</td>\n",
       "      <td>...</td>\n",
       "      <td>1,00</td>\n",
       "      <td>-</td>\n",
       "      <td>-</td>\n",
       "      <td>-</td>\n",
       "      <td>-</td>\n",
       "      <td>-</td>\n",
       "      <td>-</td>\n",
       "      <td>-</td>\n",
       "      <td>-</td>\n",
       "      <td>-</td>\n",
       "    </tr>\n",
       "    <tr>\n",
       "      <th>157</th>\n",
       "      <td>09.12.2021</td>\n",
       "      <td>Услуги</td>\n",
       "      <td>Срубы</td>\n",
       "      <td>M-11434735496</td>\n",
       "      <td>купить сруб бани</td>\n",
       "      <td>Область</td>\n",
       "      <td>десктоп</td>\n",
       "      <td>мужской</td>\n",
       "      <td>Целевые запросы</td>\n",
       "      <td>1</td>\n",
       "      <td>...</td>\n",
       "      <td>-</td>\n",
       "      <td>-</td>\n",
       "      <td>-</td>\n",
       "      <td>-</td>\n",
       "      <td>-</td>\n",
       "      <td>-</td>\n",
       "      <td>-</td>\n",
       "      <td>-</td>\n",
       "      <td>-</td>\n",
       "      <td>-</td>\n",
       "    </tr>\n",
       "    <tr>\n",
       "      <th>159</th>\n",
       "      <td>09.12.2021</td>\n",
       "      <td>Стройматериалы</td>\n",
       "      <td>Стройматериалы</td>\n",
       "      <td>M-11425986761</td>\n",
       "      <td>каталог стройматериалов</td>\n",
       "      <td>Область</td>\n",
       "      <td>десктоп</td>\n",
       "      <td>мужской</td>\n",
       "      <td>не определена</td>\n",
       "      <td>3</td>\n",
       "      <td>...</td>\n",
       "      <td>-</td>\n",
       "      <td>-</td>\n",
       "      <td>-</td>\n",
       "      <td>-</td>\n",
       "      <td>-</td>\n",
       "      <td>-</td>\n",
       "      <td>-</td>\n",
       "      <td>-</td>\n",
       "      <td>-</td>\n",
       "      <td>-</td>\n",
       "    </tr>\n",
       "  </tbody>\n",
       "</table>\n",
       "<p>5 rows × 27 columns</p>\n",
       "</div>"
      ],
      "text/plain": [
       "           date        campaign           group      number_ad  \\\n",
       "151  08.12.2021  Стройматериалы  Стройматериалы  M-11425986762   \n",
       "152  09.12.2021   Пиломатериалы         Плинтус  M-11430717544   \n",
       "156  09.12.2021          Услуги          Услуги  M-11401859567   \n",
       "157  09.12.2021          Услуги           Срубы  M-11434735496   \n",
       "159  09.12.2021  Стройматериалы  Стройматериалы  M-11425986761   \n",
       "\n",
       "                     condition   region   device   gender         category  \\\n",
       "151             стройматериалы  Область  десктоп  мужской    не определена   \n",
       "152  плинтус деревянный купить   Котлас  десктоп  женский    не определена   \n",
       "156        строительные услуги  Область  десктоп  мужской    не определена   \n",
       "157           купить сруб бани  Область  десктоп  мужской  Целевые запросы   \n",
       "159    каталог стройматериалов  Область  десктоп  мужской    не определена   \n",
       "\n",
       "     shows  ...  depth conversion_thanks conversion_calls conversion_wa  \\\n",
       "151      1  ...      -                 -                -             -   \n",
       "152      1  ...      -                 -                -             -   \n",
       "156      1  ...   1,00                 -                -             -   \n",
       "157      1  ...      -                 -                -             -   \n",
       "159      3  ...      -                 -                -             -   \n",
       "\n",
       "    price_thanks price_calls price_wa thanks calls wa  \n",
       "151            -           -        -      -     -  -  \n",
       "152            -           -        -      -     -  -  \n",
       "156            -           -        -      -     -  -  \n",
       "157            -           -        -      -     -  -  \n",
       "159            -           -        -      -     -  -  \n",
       "\n",
       "[5 rows x 27 columns]"
      ]
     },
     "execution_count": 363,
     "metadata": {},
     "output_type": "execute_result"
    }
   ],
   "source": [
    "master.tail(5)"
   ]
  },
  {
   "cell_type": "code",
   "execution_count": 269,
   "metadata": {},
   "outputs": [
    {
     "data": {
      "text/plain": [
       "(101, 27)"
      ]
     },
     "execution_count": 269,
     "metadata": {},
     "output_type": "execute_result"
    }
   ],
   "source": [
    "master.shape"
   ]
  },
  {
   "cell_type": "code",
   "execution_count": 257,
   "metadata": {},
   "outputs": [],
   "source": [
    "#master.dtypes"
   ]
  },
  {
   "cell_type": "code",
   "execution_count": 103,
   "metadata": {},
   "outputs": [
    {
     "data": {
      "text/plain": [
       "Index(['date', 'campaign', 'group', 'number_ad', 'condition', 'region',\n",
       "       'device', 'gender', 'category', 'shows', 'click', 'ctr', 'expense',\n",
       "       'average_cost_click', 'average_position_show', 'average_position_click',\n",
       "       'refusals', 'depth', 'conversion_thanks', 'conversion_calls',\n",
       "       'conversion_wa', 'price_thanks', 'price_calls', 'price_wa', 'thanks',\n",
       "       'calls', 'wa'],\n",
       "      dtype='object')"
      ]
     },
     "execution_count": 103,
     "metadata": {},
     "output_type": "execute_result"
    }
   ],
   "source": [
    "master.columns"
   ]
  },
  {
   "cell_type": "code",
   "execution_count": 364,
   "metadata": {},
   "outputs": [
    {
     "data": {
      "text/plain": [
       "array(['Пиломатериалы', 'Стройматериалы', 'Услуги'], dtype=object)"
      ]
     },
     "execution_count": 364,
     "metadata": {},
     "output_type": "execute_result"
    }
   ],
   "source": [
    "master.campaign.unique()"
   ]
  },
  {
   "cell_type": "code",
   "execution_count": 366,
   "metadata": {},
   "outputs": [
    {
     "data": {
      "text/plain": [
       "158"
      ]
     },
     "execution_count": 366,
     "metadata": {},
     "output_type": "execute_result"
    }
   ],
   "source": [
    "master.shows.sum()"
   ]
  },
  {
   "cell_type": "code",
   "execution_count": 367,
   "metadata": {},
   "outputs": [
    {
     "data": {
      "text/plain": [
       "11"
      ]
     },
     "execution_count": 367,
     "metadata": {},
     "output_type": "execute_result"
    }
   ],
   "source": [
    "master.click.sum()"
   ]
  },
  {
   "cell_type": "code",
   "execution_count": 256,
   "metadata": {},
   "outputs": [],
   "source": [
    "# Посчитать в каждом столбце отсутствующие значения 'NaN' можно методом .isnull().\n",
    "# Если значение элемента не существует, .isnull() возвращает True, а иначе — False.\n",
    "# Суммируют эти True вызовом метода sum(), который в этом случае возвращает общее число элементов без определённых значений.\n",
    "#print(master.isnull().sum())"
   ]
  },
  {
   "cell_type": "code",
   "execution_count": 255,
   "metadata": {},
   "outputs": [],
   "source": [
    "# Также подойдёт метод isna(), подсчитывающий пустые значения.\n",
    "# В таблице по холере пропущенные значения качественные, так что этот метод отыщет их все.\n",
    "#print(master.isna().sum())"
   ]
  },
  {
   "cell_type": "code",
   "execution_count": 135,
   "metadata": {},
   "outputs": [],
   "source": [
    "# Чтобы не лишиться строк с важными данными, заполним значения NaN в столбце 'imported_cases' нулями.\n",
    "# Для этого лучше всего использовать метод fillna(), где в качестве аргумента выступает заменитель отсутствующих значений.\n",
    "#master['condition'] = master['condition'].fillna(0)"
   ]
  },
  {
   "cell_type": "code",
   "execution_count": 254,
   "metadata": {},
   "outputs": [],
   "source": [
    "#print(master)"
   ]
  },
  {
   "cell_type": "code",
   "execution_count": 270,
   "metadata": {},
   "outputs": [],
   "source": [
    "#master.head(10)"
   ]
  },
  {
   "cell_type": "code",
   "execution_count": 139,
   "metadata": {},
   "outputs": [],
   "source": [
    "# От строк с нулевыми значениями избавляются методом dropna().\n",
    "# Он удаляет любую строку, где есть хоть одно отсутствующее значение.\n",
    "# У этого метода есть аргументы:\n",
    "# subset = [ ]. Его значением указывают названия столбцов, где нужно искать пропуски.\n",
    "# Уже знакомый нам inplace.\n",
    "master.dropna(subset = ['condition'], inplace = True)"
   ]
  },
  {
   "cell_type": "code",
   "execution_count": 128,
   "metadata": {},
   "outputs": [],
   "source": [
    "#print(master)"
   ]
  },
  {
   "cell_type": "code",
   "execution_count": 271,
   "metadata": {},
   "outputs": [],
   "source": [
    "#master.tail(5)"
   ]
  },
  {
   "cell_type": "code",
   "execution_count": 142,
   "metadata": {},
   "outputs": [
    {
     "name": "stdout",
     "output_type": "stream",
     "text": [
      "0\n"
     ]
    }
   ],
   "source": [
    "# Чтобы посчитать количество дубликатов в наборе данных, нужно вызвать метод sum():\n",
    "print(master.duplicated().sum())"
   ]
  },
  {
   "cell_type": "code",
   "execution_count": 246,
   "metadata": {},
   "outputs": [
    {
     "data": {
      "text/plain": [
       "Index(['date', 'campaign', 'group', 'number_ad', 'condition', 'region',\n",
       "       'device', 'gender', 'category', 'shows', 'click', 'ctr', 'expense',\n",
       "       'average_cost_click', 'average_position_show', 'average_position_click',\n",
       "       'refusals', 'depth', 'conversion_thanks', 'conversion_calls',\n",
       "       'conversion_wa', 'price_thanks', 'price_calls', 'price_wa', 'thanks',\n",
       "       'calls', 'wa'],\n",
       "      dtype='object')"
      ]
     },
     "execution_count": 246,
     "metadata": {},
     "output_type": "execute_result"
    }
   ],
   "source": [
    "master.columns"
   ]
  },
  {
   "cell_type": "code",
   "execution_count": 245,
   "metadata": {},
   "outputs": [
    {
     "data": {
      "text/plain": [
       "(101, 27)"
      ]
     },
     "execution_count": 245,
     "metadata": {},
     "output_type": "execute_result"
    }
   ],
   "source": [
    "master.shape"
   ]
  },
  {
   "cell_type": "code",
   "execution_count": 143,
   "metadata": {},
   "outputs": [
    {
     "name": "stdout",
     "output_type": "stream",
     "text": [
      "['Пиломатериалы' 'Спектр - Стройматериалы - Поиск'\n",
      " 'Спектр - Услуги - Поиск']\n"
     ]
    }
   ],
   "source": [
    "# Заменяем названия кампаний.\n",
    "# Такие задачи решает метод replace(), где первый аргумент — текущее значение, а второй — новое, нужное.\n",
    "master['campaign'] = master['campaign'].replace('Спектр - Пиломатериалы - Поиск', 'Пиломатериалы')\n",
    "print(master['campaign'].unique())"
   ]
  },
  {
   "cell_type": "code",
   "execution_count": 144,
   "metadata": {},
   "outputs": [
    {
     "name": "stdout",
     "output_type": "stream",
     "text": [
      "['Пиломатериалы' 'Стройматериалы' 'Услуги']\n"
     ]
    }
   ],
   "source": [
    "master['campaign'] = master['campaign'] \\\n",
    "    .replace('Спектр - Пиломатериалы - Поиск', 'Пиломатериалы') \\\n",
    "    .replace('Спектр - Стройматериалы - Поиск', 'Стройматериалы') \\\n",
    "    .replace('Спектр - Услуги - Поиск', 'Услуги') \\\n",
    "    .replace('Спектр - Лестницы - Поиск', 'Лестницы')\n",
    "\n",
    "print(master['campaign'].unique())"
   ]
  },
  {
   "cell_type": "code",
   "execution_count": 145,
   "metadata": {},
   "outputs": [
    {
     "name": "stdout",
     "output_type": "stream",
     "text": [
      "['Архангельская область (более точно регион не определён)' 'Котлас']\n"
     ]
    }
   ],
   "source": [
    "print(master['region'].unique())"
   ]
  },
  {
   "cell_type": "code",
   "execution_count": 148,
   "metadata": {},
   "outputs": [
    {
     "name": "stdout",
     "output_type": "stream",
     "text": [
      "['Область' 'Котлас']\n"
     ]
    }
   ],
   "source": [
    "master['region'] = master['region'].replace('Архангельская область (более точно регион не определён)', 'Область')\n",
    "\n",
    "print(master['region'].unique())"
   ]
  },
  {
   "cell_type": "code",
   "execution_count": null,
   "metadata": {},
   "outputs": [],
   "source": []
  },
  {
   "cell_type": "code",
   "execution_count": null,
   "metadata": {},
   "outputs": [],
   "source": [
    "# Пытаемся делать разные выборки для определения одинаковых данных в двух таблицах !!!!!!!!!!!!!!!!!!!"
   ]
  },
  {
   "cell_type": "code",
   "execution_count": 325,
   "metadata": {},
   "outputs": [],
   "source": [
    "# Выборка по дате и группе из таблицы 'master':\n",
    "tab1 = master.query(\"date == '06.12.2021' & group == 'Стройматериалы'\")"
   ]
  },
  {
   "cell_type": "code",
   "execution_count": null,
   "metadata": {},
   "outputs": [],
   "source": []
  },
  {
   "cell_type": "code",
   "execution_count": 326,
   "metadata": {},
   "outputs": [],
   "source": [
    "# Выборка по дате и группе из таблицы 'search':\n",
    "tab2 = search.query(\"date == '06.12.2021' & group == 'Стройматериалы'\")"
   ]
  },
  {
   "cell_type": "code",
   "execution_count": null,
   "metadata": {},
   "outputs": [],
   "source": []
  },
  {
   "cell_type": "code",
   "execution_count": 327,
   "metadata": {},
   "outputs": [],
   "source": [
    "# Объединение 2-х таблиц ('master' и 'search') по двум столбцам ('date' и 'group'):\n",
    "res = tab1.merge(tab2)"
   ]
  },
  {
   "cell_type": "code",
   "execution_count": 328,
   "metadata": {},
   "outputs": [
    {
     "data": {
      "text/html": [
       "<div>\n",
       "<style scoped>\n",
       "    .dataframe tbody tr th:only-of-type {\n",
       "        vertical-align: middle;\n",
       "    }\n",
       "\n",
       "    .dataframe tbody tr th {\n",
       "        vertical-align: top;\n",
       "    }\n",
       "\n",
       "    .dataframe thead th {\n",
       "        text-align: right;\n",
       "    }\n",
       "</style>\n",
       "<table border=\"1\" class=\"dataframe\">\n",
       "  <thead>\n",
       "    <tr style=\"text-align: right;\">\n",
       "      <th></th>\n",
       "      <th>date</th>\n",
       "      <th>campaign</th>\n",
       "      <th>group</th>\n",
       "      <th>number_ad</th>\n",
       "      <th>condition</th>\n",
       "      <th>region</th>\n",
       "      <th>device</th>\n",
       "      <th>gender</th>\n",
       "      <th>category</th>\n",
       "      <th>shows</th>\n",
       "      <th>...</th>\n",
       "      <th>price_calls</th>\n",
       "      <th>price_wa</th>\n",
       "      <th>thanks</th>\n",
       "      <th>calls</th>\n",
       "      <th>wa</th>\n",
       "      <th>search_query</th>\n",
       "      <th>phrase</th>\n",
       "      <th>platform</th>\n",
       "      <th>conversion_percent</th>\n",
       "      <th>price</th>\n",
       "    </tr>\n",
       "  </thead>\n",
       "  <tbody>\n",
       "    <tr>\n",
       "      <th>0</th>\n",
       "      <td>06.12.2021</td>\n",
       "      <td>Стройматериалы</td>\n",
       "      <td>Стройматериалы</td>\n",
       "      <td>M-11425986761</td>\n",
       "      <td>стройматериалы</td>\n",
       "      <td>Область</td>\n",
       "      <td>десктоп</td>\n",
       "      <td>женский</td>\n",
       "      <td>Целевые запросы</td>\n",
       "      <td>2</td>\n",
       "      <td>...</td>\n",
       "      <td>-</td>\n",
       "      <td>-</td>\n",
       "      <td>-</td>\n",
       "      <td>-</td>\n",
       "      <td>-</td>\n",
       "      <td>стройматериалы</td>\n",
       "      <td>-</td>\n",
       "      <td>Яндекс</td>\n",
       "      <td>-</td>\n",
       "      <td>-</td>\n",
       "    </tr>\n",
       "    <tr>\n",
       "      <th>1</th>\n",
       "      <td>06.12.2021</td>\n",
       "      <td>Стройматериалы</td>\n",
       "      <td>Стройматериалы</td>\n",
       "      <td>M-11425986761</td>\n",
       "      <td>стройматериалы</td>\n",
       "      <td>Область</td>\n",
       "      <td>мобильные</td>\n",
       "      <td>женский</td>\n",
       "      <td>Целевые запросы</td>\n",
       "      <td>1</td>\n",
       "      <td>...</td>\n",
       "      <td>-</td>\n",
       "      <td>-</td>\n",
       "      <td>-</td>\n",
       "      <td>-</td>\n",
       "      <td>-</td>\n",
       "      <td>шпаргалка по кубометрам на стройматериалы</td>\n",
       "      <td>-</td>\n",
       "      <td>Яндекс</td>\n",
       "      <td>-</td>\n",
       "      <td>-</td>\n",
       "    </tr>\n",
       "  </tbody>\n",
       "</table>\n",
       "<p>2 rows × 32 columns</p>\n",
       "</div>"
      ],
      "text/plain": [
       "         date        campaign           group      number_ad       condition  \\\n",
       "0  06.12.2021  Стройматериалы  Стройматериалы  M-11425986761  стройматериалы   \n",
       "1  06.12.2021  Стройматериалы  Стройматериалы  M-11425986761  стройматериалы   \n",
       "\n",
       "    region     device   gender         category  shows  ...  price_calls  \\\n",
       "0  Область    десктоп  женский  Целевые запросы      2  ...            -   \n",
       "1  Область  мобильные  женский  Целевые запросы      1  ...            -   \n",
       "\n",
       "  price_wa thanks calls wa                               search_query phrase  \\\n",
       "0        -      -     -  -                             стройматериалы      -   \n",
       "1        -      -     -  -  шпаргалка по кубометрам на стройматериалы      -   \n",
       "\n",
       "  platform conversion_percent price  \n",
       "0   Яндекс                  -     -  \n",
       "1   Яндекс                  -     -  \n",
       "\n",
       "[2 rows x 32 columns]"
      ]
     },
     "execution_count": 328,
     "metadata": {},
     "output_type": "execute_result"
    }
   ],
   "source": [
    "res"
   ]
  },
  {
   "cell_type": "code",
   "execution_count": 329,
   "metadata": {},
   "outputs": [
    {
     "data": {
      "text/plain": [
       "Index(['date', 'campaign', 'group', 'number_ad', 'condition', 'region',\n",
       "       'device', 'gender', 'category', 'shows', 'click', 'ctr', 'expense',\n",
       "       'average_cost_click', 'average_position_show', 'average_position_click',\n",
       "       'refusals', 'depth', 'conversion_thanks', 'conversion_calls',\n",
       "       'conversion_wa', 'price_thanks', 'price_calls', 'price_wa', 'thanks',\n",
       "       'calls', 'wa', 'search_query', 'phrase', 'platform',\n",
       "       'conversion_percent', 'price'],\n",
       "      dtype='object')"
      ]
     },
     "execution_count": 329,
     "metadata": {},
     "output_type": "execute_result"
    }
   ],
   "source": [
    "res.columns"
   ]
  },
  {
   "cell_type": "code",
   "execution_count": null,
   "metadata": {},
   "outputs": [],
   "source": []
  },
  {
   "cell_type": "code",
   "execution_count": null,
   "metadata": {},
   "outputs": [],
   "source": []
  },
  {
   "cell_type": "code",
   "execution_count": 315,
   "metadata": {},
   "outputs": [],
   "source": [
    "# Открытие файла 'ПОИСКОВЫЕ ЗАПРОСЫ' из загрузок в компьютере\n",
    "search_origin = pd.read_csv('C:/Users/Андрей/Downloads/search.csv', sep=';')"
   ]
  },
  {
   "cell_type": "code",
   "execution_count": 316,
   "metadata": {},
   "outputs": [
    {
     "data": {
      "text/html": [
       "<div>\n",
       "<style scoped>\n",
       "    .dataframe tbody tr th:only-of-type {\n",
       "        vertical-align: middle;\n",
       "    }\n",
       "\n",
       "    .dataframe tbody tr th {\n",
       "        vertical-align: top;\n",
       "    }\n",
       "\n",
       "    .dataframe thead th {\n",
       "        text-align: right;\n",
       "    }\n",
       "</style>\n",
       "<table border=\"1\" class=\"dataframe\">\n",
       "  <thead>\n",
       "    <tr style=\"text-align: right;\">\n",
       "      <th></th>\n",
       "      <th>Дата</th>\n",
       "      <th>Поисковый запрос</th>\n",
       "      <th>Кампания</th>\n",
       "      <th>№ Кампании</th>\n",
       "      <th>Группа</th>\n",
       "      <th>№ Группы</th>\n",
       "      <th>№ Объявления</th>\n",
       "      <th>Условие показа</th>\n",
       "      <th>Подобранная фраза</th>\n",
       "      <th>Площадка</th>\n",
       "      <th>...</th>\n",
       "      <th>CTR (%)</th>\n",
       "      <th>Расход (руб.)</th>\n",
       "      <th>Ср. цена клика (руб.)</th>\n",
       "      <th>Ср. позиция показов</th>\n",
       "      <th>Ср. позиция кликов</th>\n",
       "      <th>Отказы (%)</th>\n",
       "      <th>Глубина (стр.)</th>\n",
       "      <th>Конверсия (%)</th>\n",
       "      <th>Цена цели (руб.)</th>\n",
       "      <th>Конверсии</th>\n",
       "    </tr>\n",
       "  </thead>\n",
       "  <tbody>\n",
       "    <tr>\n",
       "      <th>0</th>\n",
       "      <td>30.11.2021</td>\n",
       "      <td>где в архангельске можно заказать нарезку стекла</td>\n",
       "      <td>Спектр - Пиломатериалы - Поиск</td>\n",
       "      <td>67374988</td>\n",
       "      <td>Стекло</td>\n",
       "      <td>4748374403</td>\n",
       "      <td>M-11403351276</td>\n",
       "      <td>стекло -купить -матовое -продажа -рифленое</td>\n",
       "      <td>-</td>\n",
       "      <td>Яндекс</td>\n",
       "      <td>...</td>\n",
       "      <td>100,00</td>\n",
       "      <td>1,84</td>\n",
       "      <td>1,84</td>\n",
       "      <td>6,00</td>\n",
       "      <td>6,00</td>\n",
       "      <td>0,00</td>\n",
       "      <td>1,00</td>\n",
       "      <td>100,00</td>\n",
       "      <td>1,84</td>\n",
       "      <td>1</td>\n",
       "    </tr>\n",
       "    <tr>\n",
       "      <th>1</th>\n",
       "      <td>03.12.2021</td>\n",
       "      <td>имитация бруса купить</td>\n",
       "      <td>Спектр - Пиломатериалы - Поиск</td>\n",
       "      <td>67374988</td>\n",
       "      <td>Имитация</td>\n",
       "      <td>4748398667</td>\n",
       "      <td>M-11403427172</td>\n",
       "      <td>\"имитация бруса купить\"</td>\n",
       "      <td>-</td>\n",
       "      <td>Яндекс</td>\n",
       "      <td>...</td>\n",
       "      <td>50,00</td>\n",
       "      <td>6,35</td>\n",
       "      <td>6,35</td>\n",
       "      <td>3,00</td>\n",
       "      <td>1,00</td>\n",
       "      <td>100,00</td>\n",
       "      <td>1,00</td>\n",
       "      <td>-</td>\n",
       "      <td>-</td>\n",
       "      <td>-</td>\n",
       "    </tr>\n",
       "    <tr>\n",
       "      <th>2</th>\n",
       "      <td>03.12.2021</td>\n",
       "      <td>купить половую доску</td>\n",
       "      <td>Спектр - Пиломатериалы - Поиск</td>\n",
       "      <td>67374988</td>\n",
       "      <td>Пол</td>\n",
       "      <td>4748388472</td>\n",
       "      <td>M-11403407720</td>\n",
       "      <td>\"половая доска купить\"</td>\n",
       "      <td>-</td>\n",
       "      <td>Яндекс</td>\n",
       "      <td>...</td>\n",
       "      <td>100,00</td>\n",
       "      <td>3,08</td>\n",
       "      <td>3,08</td>\n",
       "      <td>8,00</td>\n",
       "      <td>8,00</td>\n",
       "      <td>0,00</td>\n",
       "      <td>1,00</td>\n",
       "      <td>100,00</td>\n",
       "      <td>3,08</td>\n",
       "      <td>1</td>\n",
       "    </tr>\n",
       "    <tr>\n",
       "      <th>3</th>\n",
       "      <td>03.12.2021</td>\n",
       "      <td>фанера коряжма</td>\n",
       "      <td>Спектр - Стройматериалы - Поиск</td>\n",
       "      <td>67782461</td>\n",
       "      <td>Фанера</td>\n",
       "      <td>4753622709</td>\n",
       "      <td>M-11425986766</td>\n",
       "      <td>фанера -купить -продажа</td>\n",
       "      <td>-</td>\n",
       "      <td>Яндекс</td>\n",
       "      <td>...</td>\n",
       "      <td>100,00</td>\n",
       "      <td>2,82</td>\n",
       "      <td>2,82</td>\n",
       "      <td>2,00</td>\n",
       "      <td>2,00</td>\n",
       "      <td>0,00</td>\n",
       "      <td>1,00</td>\n",
       "      <td>100,00</td>\n",
       "      <td>2,82</td>\n",
       "      <td>1</td>\n",
       "    </tr>\n",
       "    <tr>\n",
       "      <th>4</th>\n",
       "      <td>04.12.2021</td>\n",
       "      <td>компания триплекс 1 стекольная</td>\n",
       "      <td>Спектр - Стройматериалы - Поиск</td>\n",
       "      <td>67782461</td>\n",
       "      <td>Стекло</td>\n",
       "      <td>4753622708</td>\n",
       "      <td>M-11425986763</td>\n",
       "      <td>стекло -купить -матовое -продажа -рифленое</td>\n",
       "      <td>стекольный  -купить -матовое -продажа -рифленое</td>\n",
       "      <td>Яндекс</td>\n",
       "      <td>...</td>\n",
       "      <td>100,00</td>\n",
       "      <td>0,40</td>\n",
       "      <td>0,40</td>\n",
       "      <td>7,00</td>\n",
       "      <td>7,00</td>\n",
       "      <td>0,00</td>\n",
       "      <td>1,00</td>\n",
       "      <td>-</td>\n",
       "      <td>-</td>\n",
       "      <td>-</td>\n",
       "    </tr>\n",
       "  </tbody>\n",
       "</table>\n",
       "<p>5 rows × 23 columns</p>\n",
       "</div>"
      ],
      "text/plain": [
       "         Дата                                  Поисковый запрос  \\\n",
       "0  30.11.2021  где в архангельске можно заказать нарезку стекла   \n",
       "1  03.12.2021                             имитация бруса купить   \n",
       "2  03.12.2021                              купить половую доску   \n",
       "3  03.12.2021                                    фанера коряжма   \n",
       "4  04.12.2021                    компания триплекс 1 стекольная   \n",
       "\n",
       "                          Кампания  № Кампании    Группа    № Группы  \\\n",
       "0   Спектр - Пиломатериалы - Поиск    67374988    Стекло  4748374403   \n",
       "1   Спектр - Пиломатериалы - Поиск    67374988  Имитация  4748398667   \n",
       "2   Спектр - Пиломатериалы - Поиск    67374988       Пол  4748388472   \n",
       "3  Спектр - Стройматериалы - Поиск    67782461    Фанера  4753622709   \n",
       "4  Спектр - Стройматериалы - Поиск    67782461    Стекло  4753622708   \n",
       "\n",
       "    № Объявления                              Условие показа  \\\n",
       "0  M-11403351276  стекло -купить -матовое -продажа -рифленое   \n",
       "1  M-11403427172                     \"имитация бруса купить\"   \n",
       "2  M-11403407720                      \"половая доска купить\"   \n",
       "3  M-11425986766                     фанера -купить -продажа   \n",
       "4  M-11425986763  стекло -купить -матовое -продажа -рифленое   \n",
       "\n",
       "                                 Подобранная фраза Площадка  ... CTR (%)  \\\n",
       "0                                                -   Яндекс  ...  100,00   \n",
       "1                                                -   Яндекс  ...   50,00   \n",
       "2                                                -   Яндекс  ...  100,00   \n",
       "3                                                -   Яндекс  ...  100,00   \n",
       "4  стекольный  -купить -матовое -продажа -рифленое   Яндекс  ...  100,00   \n",
       "\n",
       "   Расход (руб.)  Ср. цена клика (руб.) Ср. позиция показов  \\\n",
       "0           1,84                   1,84                6,00   \n",
       "1           6,35                   6,35                3,00   \n",
       "2           3,08                   3,08                8,00   \n",
       "3           2,82                   2,82                2,00   \n",
       "4           0,40                   0,40                7,00   \n",
       "\n",
       "  Ср. позиция кликов Отказы (%) Глубина (стр.) Конверсия (%) Цена цели (руб.)  \\\n",
       "0               6,00       0,00           1,00        100,00             1,84   \n",
       "1               1,00     100,00           1,00             -                -   \n",
       "2               8,00       0,00           1,00        100,00             3,08   \n",
       "3               2,00       0,00           1,00        100,00             2,82   \n",
       "4               7,00       0,00           1,00             -                -   \n",
       "\n",
       "  Конверсии  \n",
       "0         1  \n",
       "1         -  \n",
       "2         1  \n",
       "3         1  \n",
       "4         -  \n",
       "\n",
       "[5 rows x 23 columns]"
      ]
     },
     "execution_count": 316,
     "metadata": {},
     "output_type": "execute_result"
    }
   ],
   "source": [
    "search_origin.head(5)"
   ]
  },
  {
   "cell_type": "code",
   "execution_count": 317,
   "metadata": {},
   "outputs": [
    {
     "data": {
      "text/plain": [
       "(140, 23)"
      ]
     },
     "execution_count": 317,
     "metadata": {},
     "output_type": "execute_result"
    }
   ],
   "source": [
    "# Проверяем размер таблицы\n",
    "search_origin.shape"
   ]
  },
  {
   "cell_type": "code",
   "execution_count": 194,
   "metadata": {},
   "outputs": [
    {
     "data": {
      "text/plain": [
       "Дата                     object\n",
       "Поисковый запрос         object\n",
       "Кампания                 object\n",
       "№ Кампании                int64\n",
       "Группа                   object\n",
       "№ Группы                  int64\n",
       "№ Объявления             object\n",
       "Условие показа           object\n",
       "Подобранная фраза        object\n",
       "Категория таргетинга     object\n",
       "Показы                    int64\n",
       "Клики                     int64\n",
       "CTR (%)                  object\n",
       "Расход (руб.)            object\n",
       "Ср. цена клика (руб.)    object\n",
       "Ср. позиция показов      object\n",
       "Ср. позиция кликов       object\n",
       "Отказы (%)               object\n",
       "Глубина (стр.)           object\n",
       "Конверсия (%)            object\n",
       "Цена цели (руб.)         object\n",
       "Конверсии                object\n",
       "dtype: object"
      ]
     },
     "execution_count": 194,
     "metadata": {},
     "output_type": "execute_result"
    }
   ],
   "source": [
    "# Проверяем типы переменных\n",
    "search_origin.dtypes"
   ]
  },
  {
   "cell_type": "code",
   "execution_count": 318,
   "metadata": {},
   "outputs": [
    {
     "data": {
      "text/plain": [
       "Index(['Дата', 'Поисковый запрос', 'Кампания', '№ Кампании', 'Группа',\n",
       "       '№ Группы', '№ Объявления', 'Условие показа', 'Подобранная фраза',\n",
       "       'Площадка', 'Категория таргетинга', 'Показы', 'Клики', 'CTR (%)',\n",
       "       'Расход (руб.)', 'Ср. цена клика (руб.)', 'Ср. позиция показов',\n",
       "       'Ср. позиция кликов', 'Отказы (%)', 'Глубина (стр.)', 'Конверсия (%)',\n",
       "       'Цена цели (руб.)', 'Конверсии'],\n",
       "      dtype='object')"
      ]
     },
     "execution_count": 318,
     "metadata": {},
     "output_type": "execute_result"
    }
   ],
   "source": [
    "search_origin.columns"
   ]
  },
  {
   "cell_type": "code",
   "execution_count": 352,
   "metadata": {},
   "outputs": [],
   "source": [
    "file_search = 'C:/Users/Андрей/Downloads/search.csv'"
   ]
  },
  {
   "cell_type": "code",
   "execution_count": 368,
   "metadata": {},
   "outputs": [],
   "source": [
    "# $$$$$$$$$$$$$$$$$$$$$$$$$$$$ FUNCTION SEARCH $$$$$$$$$$$$$$$$$$$$$$$$$$$$$$$$$\n",
    "# Функция считывает файл, переименовывает колонки, считает суммы, сохраняет результат в новый файл.\n",
    "def search_report(file_path):\n",
    "    df = pd.read_csv(file_path, skiprows=4, sep=';')\n",
    "    df = df \\\n",
    "    .iloc[:, [0, 1, 2, 4, 6, 7, 8, 9, 10, 11, 12, 13, 14, 15, 16, 17, 18, 19, 20, 21, 22]] \\\n",
    "    .rename(columns={'Дата': 'date',\n",
    "                    'Кампания': 'campaign',\n",
    "                    'Группа': 'group',\n",
    "                    '№ Объявления': 'number_ad',\n",
    "                    'Условие показа': 'condition',\n",
    "                    'Поисковый запрос': 'search_query',\n",
    "                    'Подобранная фраза': 'phrase',\n",
    "                    'Площадка': 'platform',\n",
    "                    'Категория таргетинга': 'category',\n",
    "                    'Показы': 'shows',\n",
    "                    'Клики': 'click',\n",
    "                    'CTR (%)': 'ctr',\n",
    "                    'Расход (руб.)': 'expense',\n",
    "                    'Ср. цена клика (руб.)': 'average_cost_click',\n",
    "                    'Ср. позиция показов': 'average_position_show',\n",
    "                    'Ср. позиция кликов': 'average_position_click',\n",
    "                    'Отказы (%)': 'refusals',\n",
    "                    'Глубина (стр.)': 'depth',\n",
    "                    'Конверсия (%)': 'conversion_percent',\n",
    "                    'Цена цели (руб.)': 'price',\n",
    "                    'Конверсии': 'conversion'})\n",
    "    \n",
    "    df['condition'] = df['condition'].apply(lambda x: x.split(' -')[0])\n",
    "#    df['condition'] = df['condition'].str.split(' -')[0]\n",
    "    \n",
    "    df['campaign'] = df['campaign'] \\\n",
    "    .replace('Спектр - Пиломатериалы - Поиск', 'Пиломатериалы') \\\n",
    "    .replace('Спектр - Стройматериалы - Поиск', 'Стройматериалы') \\\n",
    "    .replace('Спектр - Услуги - Поиск', 'Услуги') \\\n",
    "    .replace('Спектр - Лестницы - Поиск', 'Лестницы')\n",
    "    \n",
    "    \n",
    "    \n",
    "    return df"
   ]
  },
  {
   "cell_type": "code",
   "execution_count": 369,
   "metadata": {},
   "outputs": [],
   "source": [
    "search = search_report(file_search)"
   ]
  },
  {
   "cell_type": "code",
   "execution_count": null,
   "metadata": {},
   "outputs": [],
   "source": [
    "# Как лучше всего перебрать фрейм данных со строками, которые я хотел бы разбить на несколько строк, сохраняя при этом другое значение?\n",
    "# Используйте Series.str.split с назначением заднего столбца с помощью {{X1 }} и {{X2 }},\n",
    "# в последнюю очередь для индекса по умолчанию добавьте DataFrame.reset_index с drop=True:\n",
    "#df1=df.assign(genres = df['genres'].str.split('|')).explode('genres').reset_index(drop=True)"
   ]
  },
  {
   "cell_type": "code",
   "execution_count": 354,
   "metadata": {},
   "outputs": [
    {
     "data": {
      "text/plain": [
       "Index(['date', 'search_query', 'campaign', 'group', 'number_ad', 'condition',\n",
       "       'phrase', 'platform', 'category', 'shows', 'click', 'ctr', 'expense',\n",
       "       'average_cost_click', 'average_position_show', 'average_position_click',\n",
       "       'refusals', 'depth', 'conversion_percent', 'price'],\n",
       "      dtype='object')"
      ]
     },
     "execution_count": 354,
     "metadata": {},
     "output_type": "execute_result"
    }
   ],
   "source": [
    "search.columns"
   ]
  },
  {
   "cell_type": "code",
   "execution_count": 355,
   "metadata": {},
   "outputs": [
    {
     "data": {
      "text/plain": [
       "(146, 20)"
      ]
     },
     "execution_count": 355,
     "metadata": {},
     "output_type": "execute_result"
    }
   ],
   "source": [
    "search.shape"
   ]
  },
  {
   "cell_type": "code",
   "execution_count": 370,
   "metadata": {},
   "outputs": [
    {
     "data": {
      "text/html": [
       "<div>\n",
       "<style scoped>\n",
       "    .dataframe tbody tr th:only-of-type {\n",
       "        vertical-align: middle;\n",
       "    }\n",
       "\n",
       "    .dataframe tbody tr th {\n",
       "        vertical-align: top;\n",
       "    }\n",
       "\n",
       "    .dataframe thead th {\n",
       "        text-align: right;\n",
       "    }\n",
       "</style>\n",
       "<table border=\"1\" class=\"dataframe\">\n",
       "  <thead>\n",
       "    <tr style=\"text-align: right;\">\n",
       "      <th></th>\n",
       "      <th>date</th>\n",
       "      <th>search_query</th>\n",
       "      <th>campaign</th>\n",
       "      <th>group</th>\n",
       "      <th>number_ad</th>\n",
       "      <th>condition</th>\n",
       "      <th>phrase</th>\n",
       "      <th>platform</th>\n",
       "      <th>category</th>\n",
       "      <th>shows</th>\n",
       "      <th>...</th>\n",
       "      <th>ctr</th>\n",
       "      <th>expense</th>\n",
       "      <th>average_cost_click</th>\n",
       "      <th>average_position_show</th>\n",
       "      <th>average_position_click</th>\n",
       "      <th>refusals</th>\n",
       "      <th>depth</th>\n",
       "      <th>conversion_percent</th>\n",
       "      <th>price</th>\n",
       "      <th>conversion</th>\n",
       "    </tr>\n",
       "  </thead>\n",
       "  <tbody>\n",
       "    <tr>\n",
       "      <th>0</th>\n",
       "      <td>08.12.2021</td>\n",
       "      <td>коряжма стройматериалы</td>\n",
       "      <td>Стройматериалы</td>\n",
       "      <td>Стройматериалы</td>\n",
       "      <td>M-11425986761</td>\n",
       "      <td>\"стройматериалы коряжма\"</td>\n",
       "      <td>-</td>\n",
       "      <td>Яндекс</td>\n",
       "      <td>Целевые запросы</td>\n",
       "      <td>1</td>\n",
       "      <td>...</td>\n",
       "      <td>100,00</td>\n",
       "      <td>3,78</td>\n",
       "      <td>3,78</td>\n",
       "      <td>1,00</td>\n",
       "      <td>1,00</td>\n",
       "      <td>0,00</td>\n",
       "      <td>1,00</td>\n",
       "      <td>-</td>\n",
       "      <td>-</td>\n",
       "      <td>-</td>\n",
       "    </tr>\n",
       "    <tr>\n",
       "      <th>1</th>\n",
       "      <td>08.12.2021</td>\n",
       "      <td>строительный сервис платформа услуг коряжма</td>\n",
       "      <td>Услуги</td>\n",
       "      <td>Услуги</td>\n",
       "      <td>M-11401859567</td>\n",
       "      <td>строительные услуги коряжма</td>\n",
       "      <td>-</td>\n",
       "      <td>mail.ru</td>\n",
       "      <td>не определена</td>\n",
       "      <td>1</td>\n",
       "      <td>...</td>\n",
       "      <td>100,00</td>\n",
       "      <td>2,01</td>\n",
       "      <td>2,01</td>\n",
       "      <td>-</td>\n",
       "      <td>-</td>\n",
       "      <td>0,00</td>\n",
       "      <td>7,00</td>\n",
       "      <td>-</td>\n",
       "      <td>-</td>\n",
       "      <td>-</td>\n",
       "    </tr>\n",
       "    <tr>\n",
       "      <th>2</th>\n",
       "      <td>08.12.2021</td>\n",
       "      <td>стройматериалы в каргополе</td>\n",
       "      <td>Стройматериалы</td>\n",
       "      <td>Стройматериалы</td>\n",
       "      <td>M-11425986762</td>\n",
       "      <td>стройматериалы</td>\n",
       "      <td>-</td>\n",
       "      <td>Яндекс</td>\n",
       "      <td>не определена</td>\n",
       "      <td>1</td>\n",
       "      <td>...</td>\n",
       "      <td>100,00</td>\n",
       "      <td>1,66</td>\n",
       "      <td>1,66</td>\n",
       "      <td>5,00</td>\n",
       "      <td>5,00</td>\n",
       "      <td>-</td>\n",
       "      <td>-</td>\n",
       "      <td>-</td>\n",
       "      <td>-</td>\n",
       "      <td>-</td>\n",
       "    </tr>\n",
       "    <tr>\n",
       "      <th>3</th>\n",
       "      <td>09.12.2021</td>\n",
       "      <td>предложение строительных услуг</td>\n",
       "      <td>Услуги</td>\n",
       "      <td>Услуги</td>\n",
       "      <td>M-11401859567</td>\n",
       "      <td>строительные услуги</td>\n",
       "      <td>-</td>\n",
       "      <td>mail.ru</td>\n",
       "      <td>не определена</td>\n",
       "      <td>1</td>\n",
       "      <td>...</td>\n",
       "      <td>100,00</td>\n",
       "      <td>1,57</td>\n",
       "      <td>1,57</td>\n",
       "      <td>-</td>\n",
       "      <td>-</td>\n",
       "      <td>100,00</td>\n",
       "      <td>1,00</td>\n",
       "      <td>-</td>\n",
       "      <td>-</td>\n",
       "      <td>-</td>\n",
       "    </tr>\n",
       "    <tr>\n",
       "      <th>4</th>\n",
       "      <td>08.12.2021</td>\n",
       "      <td>замкнутая пористость строительных материалов</td>\n",
       "      <td>Стройматериалы</td>\n",
       "      <td>Стройматериалы</td>\n",
       "      <td>M-11425986761</td>\n",
       "      <td>стройматериалы</td>\n",
       "      <td>материал строительный  -магазин -купить -сайт ...</td>\n",
       "      <td>Яндекс</td>\n",
       "      <td>не определена</td>\n",
       "      <td>1</td>\n",
       "      <td>...</td>\n",
       "      <td>0,00</td>\n",
       "      <td>0,00</td>\n",
       "      <td>-</td>\n",
       "      <td>5,00</td>\n",
       "      <td>-</td>\n",
       "      <td>-</td>\n",
       "      <td>-</td>\n",
       "      <td>-</td>\n",
       "      <td>-</td>\n",
       "      <td>-</td>\n",
       "    </tr>\n",
       "    <tr>\n",
       "      <th>5</th>\n",
       "      <td>08.12.2021</td>\n",
       "      <td>купить обрезки вагонки в ильинско подомском</td>\n",
       "      <td>Пиломатериалы</td>\n",
       "      <td>Вагонка</td>\n",
       "      <td>M-11403468924</td>\n",
       "      <td>вагонка купить</td>\n",
       "      <td>-</td>\n",
       "      <td>Яндекс</td>\n",
       "      <td>не определена</td>\n",
       "      <td>1</td>\n",
       "      <td>...</td>\n",
       "      <td>0,00</td>\n",
       "      <td>0,00</td>\n",
       "      <td>-</td>\n",
       "      <td>8,00</td>\n",
       "      <td>-</td>\n",
       "      <td>-</td>\n",
       "      <td>-</td>\n",
       "      <td>-</td>\n",
       "      <td>-</td>\n",
       "      <td>-</td>\n",
       "    </tr>\n",
       "    <tr>\n",
       "      <th>6</th>\n",
       "      <td>08.12.2021</td>\n",
       "      <td>пористость строительных материалов</td>\n",
       "      <td>Стройматериалы</td>\n",
       "      <td>Стройматериалы</td>\n",
       "      <td>M-11425986761</td>\n",
       "      <td>стройматериалы</td>\n",
       "      <td>материал строительный  -магазин -купить -сайт ...</td>\n",
       "      <td>Яндекс</td>\n",
       "      <td>не определена</td>\n",
       "      <td>1</td>\n",
       "      <td>...</td>\n",
       "      <td>0,00</td>\n",
       "      <td>0,00</td>\n",
       "      <td>-</td>\n",
       "      <td>5,00</td>\n",
       "      <td>-</td>\n",
       "      <td>-</td>\n",
       "      <td>-</td>\n",
       "      <td>-</td>\n",
       "      <td>-</td>\n",
       "      <td>-</td>\n",
       "    </tr>\n",
       "    <tr>\n",
       "      <th>7</th>\n",
       "      <td>08.12.2021</td>\n",
       "      <td>производство деревянных кольев для забора</td>\n",
       "      <td>Услуги</td>\n",
       "      <td>Заборы</td>\n",
       "      <td>M-11434777586</td>\n",
       "      <td>деревянный забор</td>\n",
       "      <td>-</td>\n",
       "      <td>Яндекс</td>\n",
       "      <td>Целевые запросы</td>\n",
       "      <td>1</td>\n",
       "      <td>...</td>\n",
       "      <td>0,00</td>\n",
       "      <td>0,00</td>\n",
       "      <td>-</td>\n",
       "      <td>5,00</td>\n",
       "      <td>-</td>\n",
       "      <td>-</td>\n",
       "      <td>-</td>\n",
       "      <td>-</td>\n",
       "      <td>-</td>\n",
       "      <td>-</td>\n",
       "    </tr>\n",
       "    <tr>\n",
       "      <th>8</th>\n",
       "      <td>08.12.2021</td>\n",
       "      <td>строительный сервис услуги коряжма частный бизнес</td>\n",
       "      <td>Услуги</td>\n",
       "      <td>Услуги</td>\n",
       "      <td>M-11401646772</td>\n",
       "      <td>строительные услуги коряжма</td>\n",
       "      <td>-</td>\n",
       "      <td>mail.ru</td>\n",
       "      <td>не определена</td>\n",
       "      <td>1</td>\n",
       "      <td>...</td>\n",
       "      <td>0,00</td>\n",
       "      <td>0,00</td>\n",
       "      <td>-</td>\n",
       "      <td>-</td>\n",
       "      <td>-</td>\n",
       "      <td>-</td>\n",
       "      <td>-</td>\n",
       "      <td>-</td>\n",
       "      <td>-</td>\n",
       "      <td>-</td>\n",
       "    </tr>\n",
       "    <tr>\n",
       "      <th>9</th>\n",
       "      <td>08.12.2021</td>\n",
       "      <td>строительный сервис услуги коряжма шабашка</td>\n",
       "      <td>Услуги</td>\n",
       "      <td>Услуги</td>\n",
       "      <td>M-11401646772</td>\n",
       "      <td>строительные услуги коряжма</td>\n",
       "      <td>-</td>\n",
       "      <td>mail.ru</td>\n",
       "      <td>не определена</td>\n",
       "      <td>1</td>\n",
       "      <td>...</td>\n",
       "      <td>0,00</td>\n",
       "      <td>0,00</td>\n",
       "      <td>-</td>\n",
       "      <td>-</td>\n",
       "      <td>-</td>\n",
       "      <td>-</td>\n",
       "      <td>-</td>\n",
       "      <td>-</td>\n",
       "      <td>-</td>\n",
       "      <td>-</td>\n",
       "    </tr>\n",
       "    <tr>\n",
       "      <th>10</th>\n",
       "      <td>08.12.2021</td>\n",
       "      <td>чит коды на все стройматериалы в скайриме</td>\n",
       "      <td>Стройматериалы</td>\n",
       "      <td>Стройматериалы</td>\n",
       "      <td>M-11425986761</td>\n",
       "      <td>стройматериалы</td>\n",
       "      <td>-</td>\n",
       "      <td>Яндекс</td>\n",
       "      <td>не определена</td>\n",
       "      <td>1</td>\n",
       "      <td>...</td>\n",
       "      <td>0,00</td>\n",
       "      <td>0,00</td>\n",
       "      <td>-</td>\n",
       "      <td>5,00</td>\n",
       "      <td>-</td>\n",
       "      <td>-</td>\n",
       "      <td>-</td>\n",
       "      <td>-</td>\n",
       "      <td>-</td>\n",
       "      <td>-</td>\n",
       "    </tr>\n",
       "  </tbody>\n",
       "</table>\n",
       "<p>11 rows × 21 columns</p>\n",
       "</div>"
      ],
      "text/plain": [
       "          date                                       search_query  \\\n",
       "0   08.12.2021                             коряжма стройматериалы   \n",
       "1   08.12.2021        строительный сервис платформа услуг коряжма   \n",
       "2   08.12.2021                         стройматериалы в каргополе   \n",
       "3   09.12.2021                     предложение строительных услуг   \n",
       "4   08.12.2021       замкнутая пористость строительных материалов   \n",
       "5   08.12.2021        купить обрезки вагонки в ильинско подомском   \n",
       "6   08.12.2021                 пористость строительных материалов   \n",
       "7   08.12.2021          производство деревянных кольев для забора   \n",
       "8   08.12.2021  строительный сервис услуги коряжма частный бизнес   \n",
       "9   08.12.2021         строительный сервис услуги коряжма шабашка   \n",
       "10  08.12.2021          чит коды на все стройматериалы в скайриме   \n",
       "\n",
       "          campaign           group      number_ad  \\\n",
       "0   Стройматериалы  Стройматериалы  M-11425986761   \n",
       "1           Услуги          Услуги  M-11401859567   \n",
       "2   Стройматериалы  Стройматериалы  M-11425986762   \n",
       "3           Услуги          Услуги  M-11401859567   \n",
       "4   Стройматериалы  Стройматериалы  M-11425986761   \n",
       "5    Пиломатериалы         Вагонка  M-11403468924   \n",
       "6   Стройматериалы  Стройматериалы  M-11425986761   \n",
       "7           Услуги          Заборы  M-11434777586   \n",
       "8           Услуги          Услуги  M-11401646772   \n",
       "9           Услуги          Услуги  M-11401646772   \n",
       "10  Стройматериалы  Стройматериалы  M-11425986761   \n",
       "\n",
       "                      condition  \\\n",
       "0      \"стройматериалы коряжма\"   \n",
       "1   строительные услуги коряжма   \n",
       "2                стройматериалы   \n",
       "3           строительные услуги   \n",
       "4                стройматериалы   \n",
       "5                вагонка купить   \n",
       "6                стройматериалы   \n",
       "7              деревянный забор   \n",
       "8   строительные услуги коряжма   \n",
       "9   строительные услуги коряжма   \n",
       "10               стройматериалы   \n",
       "\n",
       "                                               phrase platform  \\\n",
       "0                                                   -   Яндекс   \n",
       "1                                                   -  mail.ru   \n",
       "2                                                   -   Яндекс   \n",
       "3                                                   -  mail.ru   \n",
       "4   материал строительный  -магазин -купить -сайт ...   Яндекс   \n",
       "5                                                   -   Яндекс   \n",
       "6   материал строительный  -магазин -купить -сайт ...   Яндекс   \n",
       "7                                                   -   Яндекс   \n",
       "8                                                   -  mail.ru   \n",
       "9                                                   -  mail.ru   \n",
       "10                                                  -   Яндекс   \n",
       "\n",
       "           category  shows  ...     ctr expense average_cost_click  \\\n",
       "0   Целевые запросы      1  ...  100,00    3,78               3,78   \n",
       "1     не определена      1  ...  100,00    2,01               2,01   \n",
       "2     не определена      1  ...  100,00    1,66               1,66   \n",
       "3     не определена      1  ...  100,00    1,57               1,57   \n",
       "4     не определена      1  ...    0,00    0,00                  -   \n",
       "5     не определена      1  ...    0,00    0,00                  -   \n",
       "6     не определена      1  ...    0,00    0,00                  -   \n",
       "7   Целевые запросы      1  ...    0,00    0,00                  -   \n",
       "8     не определена      1  ...    0,00    0,00                  -   \n",
       "9     не определена      1  ...    0,00    0,00                  -   \n",
       "10    не определена      1  ...    0,00    0,00                  -   \n",
       "\n",
       "   average_position_show average_position_click refusals depth  \\\n",
       "0                   1,00                   1,00     0,00  1,00   \n",
       "1                      -                      -     0,00  7,00   \n",
       "2                   5,00                   5,00        -     -   \n",
       "3                      -                      -   100,00  1,00   \n",
       "4                   5,00                      -        -     -   \n",
       "5                   8,00                      -        -     -   \n",
       "6                   5,00                      -        -     -   \n",
       "7                   5,00                      -        -     -   \n",
       "8                      -                      -        -     -   \n",
       "9                      -                      -        -     -   \n",
       "10                  5,00                      -        -     -   \n",
       "\n",
       "   conversion_percent price conversion  \n",
       "0                   -     -          -  \n",
       "1                   -     -          -  \n",
       "2                   -     -          -  \n",
       "3                   -     -          -  \n",
       "4                   -     -          -  \n",
       "5                   -     -          -  \n",
       "6                   -     -          -  \n",
       "7                   -     -          -  \n",
       "8                   -     -          -  \n",
       "9                   -     -          -  \n",
       "10                  -     -          -  \n",
       "\n",
       "[11 rows x 21 columns]"
      ]
     },
     "execution_count": 370,
     "metadata": {},
     "output_type": "execute_result"
    }
   ],
   "source": [
    "search.head(11)"
   ]
  },
  {
   "cell_type": "code",
   "execution_count": 211,
   "metadata": {},
   "outputs": [],
   "source": [
    "# Посчитать в каждом столбце отсутствующие значения 'NaN' можно методом .isnull().\n",
    "# Если значение элемента не существует, .isnull() возвращает True, а иначе — False.\n",
    "# Суммируют эти True вызовом метода sum(), который в этом случае возвращает общее число элементов без определённых значений.\n",
    "#print(search_origin.isnull().sum())"
   ]
  },
  {
   "cell_type": "code",
   "execution_count": 212,
   "metadata": {},
   "outputs": [],
   "source": [
    "# Также подойдёт метод isna(), подсчитывающий пустые значения.\n",
    "# В таблице по холере пропущенные значения качественные, так что этот метод отыщет их все.\n",
    "#print(search_origin.isna().sum())"
   ]
  },
  {
   "cell_type": "code",
   "execution_count": 199,
   "metadata": {},
   "outputs": [
    {
     "data": {
      "text/plain": [
       "Index(['Дата', 'Поисковый запрос', 'Кампания', '№ Кампании', 'Группа',\n",
       "       '№ Группы', '№ Объявления', 'Условие показа', 'Подобранная фраза',\n",
       "       'Категория таргетинга', 'Показы', 'Клики', 'CTR (%)', 'Расход (руб.)',\n",
       "       'Ср. цена клика (руб.)', 'Ср. позиция показов', 'Ср. позиция кликов',\n",
       "       'Отказы (%)', 'Глубина (стр.)', 'Конверсия (%)', 'Цена цели (руб.)',\n",
       "       'Конверсии'],\n",
       "      dtype='object')"
      ]
     },
     "execution_count": 199,
     "metadata": {},
     "output_type": "execute_result"
    }
   ],
   "source": [
    "search_origin.columns"
   ]
  },
  {
   "cell_type": "code",
   "execution_count": 359,
   "metadata": {},
   "outputs": [
    {
     "data": {
      "text/plain": [
       "11"
      ]
     },
     "execution_count": 359,
     "metadata": {},
     "output_type": "execute_result"
    }
   ],
   "source": [
    "search.click.sum()"
   ]
  },
  {
   "cell_type": "code",
   "execution_count": null,
   "metadata": {},
   "outputs": [],
   "source": []
  },
  {
   "cell_type": "code",
   "execution_count": 222,
   "metadata": {},
   "outputs": [
    {
     "name": "stdout",
     "output_type": "stream",
     "text": [
      "['стекло -купить -матовое -продажа -рифленое' '\"имитация бруса купить\"'\n",
      " '\"половая доска купить\"' 'фанера -купить -продажа'\n",
      " 'фанера -купить -продажа -коряжма' 'вагонка купить -коряжма'\n",
      " '\"стройматериалы коряжма купить\"' 'вставить стекло -окно -размеру -раму'\n",
      " 'половая доска -купить -продажа' 'имитация бруса -купить -продажа'\n",
      " 'вагонка -коряжма -купить -продажа'\n",
      " 'плинтус напольный деревянный -купить -широкий' 'гипсокартон цена -лист'\n",
      " '\"гипсокартон размеры листа\"'\n",
      " 'стройматериалы коряжма -магазин -купить -сайт -товар -продажа -заказывать -заказ'\n",
      " 'фанера купить -коряжма' 'стекло купить -коряжма -матовое -рифленое'\n",
      " 'пиломатериалы от производителя купить' 'каталог стройматериалов'\n",
      " 'сруб из бревна -дома -заказ -купить' 'брус купить -150х150 -коряжма'\n",
      " '\"гипсокартон цена\"'\n",
      " 'пиломатериал обрезной -заказ -заказать -коряжма -купить -производство -цена'\n",
      " 'стройматериалы -магазин -купить -сайт -каталог -товар -заказывать -продажа -заказ -коряжма'\n",
      " 'резка стекла -зеркал -матового -размеру -рифленого'\n",
      " 'лист гипсокартона -размеры -цена']\n"
     ]
    }
   ],
   "source": [
    "print(search_origin['Условие показа'].unique())"
   ]
  },
  {
   "cell_type": "code",
   "execution_count": 223,
   "metadata": {},
   "outputs": [
    {
     "name": "stdout",
     "output_type": "stream",
     "text": [
      "стекло -купить -матовое -продажа -рифленое\n",
      "['стекло', 'купить', 'матовое', 'продажа', 'рифленое']\n"
     ]
    }
   ],
   "source": [
    "# разбивает строку по символам ' -'\n",
    "print(search_origin['Условие показа'].unique()[0])\n",
    "print(search_origin['Условие показа'].unique()[0].split(' -'))"
   ]
  },
  {
   "cell_type": "code",
   "execution_count": 224,
   "metadata": {},
   "outputs": [
    {
     "name": "stdout",
     "output_type": "stream",
     "text": [
      "\"имитация бруса купить\"\n",
      "['\"имитация бруса купить\"']\n"
     ]
    }
   ],
   "source": [
    "# разбивает строку по символам ' -'\n",
    "print(search_origin['Условие показа'].unique()[1])\n",
    "print(search_origin['Условие показа'].unique()[1].split(' -'))"
   ]
  },
  {
   "cell_type": "code",
   "execution_count": 228,
   "metadata": {},
   "outputs": [
    {
     "name": "stdout",
     "output_type": "stream",
     "text": [
      "пиломатериал обрезной -заказ -заказать -коряжма -купить -производство -цена\n",
      "['пиломатериал обрезной', 'заказ', 'заказать', 'коряжма', 'купить', 'производство', 'цена']\n",
      "пиломатериал обрезной\n"
     ]
    }
   ],
   "source": [
    "# разбивает строку по символам ' -'\n",
    "print(search_origin['Условие показа'].unique()[-4])\n",
    "print(search_origin['Условие показа'].unique()[-4].split(' -'))\n",
    "print(search_origin['Условие показа'].unique()[-4].split(' -')[0])"
   ]
  },
  {
   "cell_type": "code",
   "execution_count": null,
   "metadata": {},
   "outputs": [],
   "source": []
  },
  {
   "cell_type": "code",
   "execution_count": null,
   "metadata": {},
   "outputs": [],
   "source": []
  },
  {
   "cell_type": "code",
   "execution_count": 213,
   "metadata": {},
   "outputs": [
    {
     "data": {
      "text/plain": [
       "Index(['date', 'search_query', 'campaign', 'group', 'number_ad', 'condition',\n",
       "       'phrase', 'category', 'shows', 'click', 'ctr', 'expense',\n",
       "       'average_cost_click', 'average_position_show', 'average_position_click',\n",
       "       'refusals', 'depth', 'conversion', 'price', 'conversion'],\n",
       "      dtype='object')"
      ]
     },
     "execution_count": 213,
     "metadata": {},
     "output_type": "execute_result"
    }
   ],
   "source": [
    "search.columns"
   ]
  },
  {
   "cell_type": "code",
   "execution_count": 282,
   "metadata": {},
   "outputs": [
    {
     "data": {
      "text/plain": [
       "(2, 32)"
      ]
     },
     "execution_count": 282,
     "metadata": {},
     "output_type": "execute_result"
    }
   ],
   "source": [
    "res.shape"
   ]
  },
  {
   "cell_type": "code",
   "execution_count": 303,
   "metadata": {},
   "outputs": [
    {
     "data": {
      "text/plain": [
       "Index(['date', 'campaign', 'group', 'number_ad', 'condition', 'region',\n",
       "       'device', 'gender', 'category', 'shows', 'click', 'ctr', 'expense',\n",
       "       'average_cost_click', 'average_position_show', 'average_position_click',\n",
       "       'refusals', 'depth', 'conversion_thanks', 'conversion_calls',\n",
       "       'conversion_wa', 'price_thanks', 'price_calls', 'price_wa', 'thanks',\n",
       "       'calls', 'wa', 'search_query', 'phrase', 'conversion_percent', 'price',\n",
       "       'conversion'],\n",
       "      dtype='object')"
      ]
     },
     "execution_count": 303,
     "metadata": {},
     "output_type": "execute_result"
    }
   ],
   "source": [
    "res.columns"
   ]
  },
  {
   "cell_type": "code",
   "execution_count": 302,
   "metadata": {},
   "outputs": [
    {
     "data": {
      "text/html": [
       "<div>\n",
       "<style scoped>\n",
       "    .dataframe tbody tr th:only-of-type {\n",
       "        vertical-align: middle;\n",
       "    }\n",
       "\n",
       "    .dataframe tbody tr th {\n",
       "        vertical-align: top;\n",
       "    }\n",
       "\n",
       "    .dataframe thead th {\n",
       "        text-align: right;\n",
       "    }\n",
       "</style>\n",
       "<table border=\"1\" class=\"dataframe\">\n",
       "  <thead>\n",
       "    <tr style=\"text-align: right;\">\n",
       "      <th></th>\n",
       "      <th>date</th>\n",
       "      <th>campaign</th>\n",
       "      <th>group</th>\n",
       "      <th>number_ad</th>\n",
       "      <th>condition</th>\n",
       "      <th>region</th>\n",
       "      <th>device</th>\n",
       "      <th>gender</th>\n",
       "      <th>category</th>\n",
       "      <th>shows</th>\n",
       "      <th>...</th>\n",
       "      <th>price_calls</th>\n",
       "      <th>price_wa</th>\n",
       "      <th>thanks</th>\n",
       "      <th>calls</th>\n",
       "      <th>wa</th>\n",
       "      <th>search_query</th>\n",
       "      <th>phrase</th>\n",
       "      <th>conversion_percent</th>\n",
       "      <th>price</th>\n",
       "      <th>conversion</th>\n",
       "    </tr>\n",
       "  </thead>\n",
       "  <tbody>\n",
       "    <tr>\n",
       "      <th>0</th>\n",
       "      <td>06.12.2021</td>\n",
       "      <td>Стройматериалы</td>\n",
       "      <td>Стройматериалы</td>\n",
       "      <td>M-11425986761</td>\n",
       "      <td>стройматериалы</td>\n",
       "      <td>Область</td>\n",
       "      <td>десктоп</td>\n",
       "      <td>женский</td>\n",
       "      <td>Целевые запросы</td>\n",
       "      <td>2</td>\n",
       "      <td>...</td>\n",
       "      <td>-</td>\n",
       "      <td>-</td>\n",
       "      <td>-</td>\n",
       "      <td>-</td>\n",
       "      <td>-</td>\n",
       "      <td>стройматериалы</td>\n",
       "      <td>-</td>\n",
       "      <td>-</td>\n",
       "      <td>-</td>\n",
       "      <td>-</td>\n",
       "    </tr>\n",
       "    <tr>\n",
       "      <th>1</th>\n",
       "      <td>06.12.2021</td>\n",
       "      <td>Стройматериалы</td>\n",
       "      <td>Стройматериалы</td>\n",
       "      <td>M-11425986761</td>\n",
       "      <td>стройматериалы</td>\n",
       "      <td>Область</td>\n",
       "      <td>мобильные</td>\n",
       "      <td>женский</td>\n",
       "      <td>Целевые запросы</td>\n",
       "      <td>1</td>\n",
       "      <td>...</td>\n",
       "      <td>-</td>\n",
       "      <td>-</td>\n",
       "      <td>-</td>\n",
       "      <td>-</td>\n",
       "      <td>-</td>\n",
       "      <td>шпаргалка по кубометрам на стройматериалы</td>\n",
       "      <td>-</td>\n",
       "      <td>-</td>\n",
       "      <td>-</td>\n",
       "      <td>-</td>\n",
       "    </tr>\n",
       "  </tbody>\n",
       "</table>\n",
       "<p>2 rows × 32 columns</p>\n",
       "</div>"
      ],
      "text/plain": [
       "         date        campaign           group      number_ad       condition  \\\n",
       "0  06.12.2021  Стройматериалы  Стройматериалы  M-11425986761  стройматериалы   \n",
       "1  06.12.2021  Стройматериалы  Стройматериалы  M-11425986761  стройматериалы   \n",
       "\n",
       "    region     device   gender         category  shows  ...  price_calls  \\\n",
       "0  Область    десктоп  женский  Целевые запросы      2  ...            -   \n",
       "1  Область  мобильные  женский  Целевые запросы      1  ...            -   \n",
       "\n",
       "  price_wa thanks calls wa                               search_query phrase  \\\n",
       "0        -      -     -  -                             стройматериалы      -   \n",
       "1        -      -     -  -  шпаргалка по кубометрам на стройматериалы      -   \n",
       "\n",
       "  conversion_percent price conversion  \n",
       "0                  -     -          -  \n",
       "1                  -     -          -  \n",
       "\n",
       "[2 rows x 32 columns]"
      ]
     },
     "execution_count": 302,
     "metadata": {},
     "output_type": "execute_result"
    }
   ],
   "source": [
    "res"
   ]
  },
  {
   "cell_type": "code",
   "execution_count": 308,
   "metadata": {},
   "outputs": [],
   "source": [
    "# $$$$$$$$$$$$$$$$$$$$$$$$$$$$ FUNCTION MERGE $$$$$$$$$$$$$$$$$$$$$$$$$$$$$$$$$\n",
    "# Функция объединяет таблицы, переименовывает колонки, считает суммы, сохраняет результат в новый файл.\n",
    "def merge_report(tab1, tab2):\n",
    "    df = tab1.merge(tab2)\n",
    "    \n",
    "    columns_titles = ['date', 'search_query', 'condition',  'conversion_percent', 'price',\n",
    "        'conversion', 'shows', 'click', 'ctr', 'expense', 'campaign', 'group', 'number_ad', 'region', 'device', 'gender',\n",
    "        'category', 'average_cost_click', 'average_position_show', 'average_position_click', 'refusals', 'depth',\n",
    "        'conversion_thanks', 'conversion_calls', 'conversion_wa', 'price_thanks', 'price_calls', 'price_wa', \n",
    "        'thanks', 'calls', 'wa', 'phrase']\n",
    "    report=df.reindex(columns=columns_titles)\n",
    "    \n",
    "    all_show = report.shows.sum()\n",
    "    \n",
    "    today_day = datetime.today().strftime('%Y-%m-%d')\n",
    "    file_name = 'C:/Users/Андрей/Downloads/report_{}.csv'\n",
    "    file_name = file_name.format(today_day)    \n",
    "    \n",
    "    if int(report.shows.sum()) == int(all_show):\n",
    "        print('OK! File {} is written in folder \"Downloads\".'.format(file_name))\n",
    "        report.to_csv(file_name, index=False)\n",
    "    else:\n",
    "        print('ERROR!')  \n",
    "        \n",
    "    return report"
   ]
  },
  {
   "cell_type": "code",
   "execution_count": 309,
   "metadata": {},
   "outputs": [
    {
     "name": "stdout",
     "output_type": "stream",
     "text": [
      "OK! File C:/Users/Андрей/Downloads/report_2021-12-08.csv is written in folder \"Downloads\".\n"
     ]
    }
   ],
   "source": [
    "df = merge_report(tab1, tab2)"
   ]
  },
  {
   "cell_type": "code",
   "execution_count": null,
   "metadata": {},
   "outputs": [],
   "source": []
  },
  {
   "cell_type": "code",
   "execution_count": null,
   "metadata": {},
   "outputs": [],
   "source": [
    "# Я пытаюсь присоединиться к двум фреймам данных pandas, используя два столбца:\n",
    "new_df = pd.merge(A_df, B_df,  how='left', left_on='[A_c1,c2]', right_on = '[B_c1,c2]')\n",
    "\n",
    "# Попробуйте это\n",
    "new_df = pd.merge(A_df, B_df,  how='left', left_on=['A_c1','c2'], right_on = ['B_c1','c2'])"
   ]
  },
  {
   "cell_type": "code",
   "execution_count": null,
   "metadata": {},
   "outputs": [],
   "source": []
  },
  {
   "cell_type": "code",
   "execution_count": null,
   "metadata": {},
   "outputs": [],
   "source": []
  }
 ],
 "metadata": {
  "kernelspec": {
   "display_name": "Python 3",
   "language": "python",
   "name": "python3"
  },
  "language_info": {
   "codemirror_mode": {
    "name": "ipython",
    "version": 3
   },
   "file_extension": ".py",
   "mimetype": "text/x-python",
   "name": "python",
   "nbconvert_exporter": "python",
   "pygments_lexer": "ipython3",
   "version": "3.8.3"
  }
 },
 "nbformat": 4,
 "nbformat_minor": 4
}
