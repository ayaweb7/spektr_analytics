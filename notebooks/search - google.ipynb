{
 "cells": [
  {
   "cell_type": "code",
   "execution_count": null,
   "metadata": {},
   "outputs": [],
   "source": [
    "# $$$$$$$$$$$$$$$$$$$$$$$$$$$$         INITIAL SETTINGS - НАЧАЛЬНЫЕ УСТАНОВКИ          $$$$$$$$$$$$$$$$$$$$$$$$$$$$\n",
    "# SEARCH --- GOOGLE"
   ]
  },
  {
   "cell_type": "code",
   "execution_count": 47,
   "metadata": {},
   "outputs": [],
   "source": [
    "# Pandas\n",
    "import pandas as pd\n",
    "import numpy as np"
   ]
  },
  {
   "cell_type": "code",
   "execution_count": 48,
   "metadata": {},
   "outputs": [],
   "source": [
    "# Vizualization\n",
    "import seaborn as sns\n",
    "import matplotlib.pyplot as plt\n",
    "\n",
    "%matplotlib inline"
   ]
  },
  {
   "cell_type": "code",
   "execution_count": 49,
   "metadata": {},
   "outputs": [],
   "source": [
    "# Date & Time\n",
    "from datetime import datetime"
   ]
  },
  {
   "cell_type": "code",
   "execution_count": 50,
   "metadata": {},
   "outputs": [],
   "source": [
    "# Установка, чтобы показывались все имеющиеся столбцы\n",
    "pd.options.display.max_columns = None"
   ]
  },
  {
   "cell_type": "code",
   "execution_count": 51,
   "metadata": {},
   "outputs": [
    {
     "name": "stdout",
     "output_type": "stream",
     "text": [
      "2022-02-18 11:55:58.931142\n",
      "2022-02-18\n"
     ]
    }
   ],
   "source": [
    "# Посмотреть текущую дату:\n",
    "print(datetime.today())\n",
    "\n",
    "# Посмотреть текущую дату:\n",
    "print(datetime.now().date())"
   ]
  },
  {
   "cell_type": "code",
   "execution_count": 52,
   "metadata": {},
   "outputs": [
    {
     "name": "stdout",
     "output_type": "stream",
     "text": [
      "11:56:05\n",
      "11:56:05\n"
     ]
    }
   ],
   "source": [
    "# Посмотреть текущее время:\n",
    "date_now = datetime.today()\n",
    "print(date_now.strftime('%H:%M:%S'))\n",
    "print(datetime.today().strftime('%H:%M:%S'))"
   ]
  },
  {
   "cell_type": "code",
   "execution_count": null,
   "metadata": {},
   "outputs": [],
   "source": []
  },
  {
   "cell_type": "code",
   "execution_count": null,
   "metadata": {},
   "outputs": [],
   "source": [
    "# @@@@@@@@@@@@@@@@@@@@@@@@@@@@@@@          GROUP_GOOGLE          @@@@@@@@@@@@@@@@@@@@@@@@@@@@@@@"
   ]
  },
  {
   "cell_type": "code",
   "execution_count": 250,
   "metadata": {},
   "outputs": [],
   "source": [
    "# Отчет о группе объявлений\n",
    "otchet = pd.read_csv('C:/Users/Андрей/Downloads/otchet.csv', skiprows=2, sep=',')"
   ]
  },
  {
   "cell_type": "code",
   "execution_count": 251,
   "metadata": {},
   "outputs": [
    {
     "data": {
      "text/html": [
       "<div>\n",
       "<style scoped>\n",
       "    .dataframe tbody tr th:only-of-type {\n",
       "        vertical-align: middle;\n",
       "    }\n",
       "\n",
       "    .dataframe tbody tr th {\n",
       "        vertical-align: top;\n",
       "    }\n",
       "\n",
       "    .dataframe thead th {\n",
       "        text-align: right;\n",
       "    }\n",
       "</style>\n",
       "<table border=\"1\" class=\"dataframe\">\n",
       "  <thead>\n",
       "    <tr style=\"text-align: right;\">\n",
       "      <th></th>\n",
       "      <th>Статус группы объявлений</th>\n",
       "      <th>Группа объявлений</th>\n",
       "      <th>Кампания</th>\n",
       "      <th>Статус</th>\n",
       "      <th>Причины статуса</th>\n",
       "      <th>Код валюты</th>\n",
       "      <th>Макс. цена за клик по умолчанию</th>\n",
       "      <th>Тип группы объявлений</th>\n",
       "      <th>Kлики</th>\n",
       "      <th>Показы</th>\n",
       "      <th>CTR</th>\n",
       "      <th>Код валюты.1</th>\n",
       "      <th>Средняя цена за клик</th>\n",
       "      <th>Расходы</th>\n",
       "      <th>Конверсии</th>\n",
       "      <th>Стоимость/конв.</th>\n",
       "      <th>Коэфф. конверсии</th>\n",
       "    </tr>\n",
       "  </thead>\n",
       "  <tbody>\n",
       "    <tr>\n",
       "      <th>0</th>\n",
       "      <td>Включено</td>\n",
       "      <td>Рубероид</td>\n",
       "      <td>Спектр - Стройматериалы - Поиск</td>\n",
       "      <td>Допущено</td>\n",
       "      <td>NaN</td>\n",
       "      <td>RUB</td>\n",
       "      <td>1,00</td>\n",
       "      <td>Стандартная</td>\n",
       "      <td>0</td>\n",
       "      <td>2</td>\n",
       "      <td>0,00%</td>\n",
       "      <td>RUB</td>\n",
       "      <td>--</td>\n",
       "      <td>0,00</td>\n",
       "      <td>0,00</td>\n",
       "      <td>0,00</td>\n",
       "      <td>0,00%</td>\n",
       "    </tr>\n",
       "    <tr>\n",
       "      <th>1</th>\n",
       "      <td>Включено</td>\n",
       "      <td>Пол</td>\n",
       "      <td>Спектр - Пиломатериалы - Поиск</td>\n",
       "      <td>Допущено</td>\n",
       "      <td>NaN</td>\n",
       "      <td>RUB</td>\n",
       "      <td>1,00</td>\n",
       "      <td>Стандартная</td>\n",
       "      <td>0</td>\n",
       "      <td>1</td>\n",
       "      <td>0,00%</td>\n",
       "      <td>RUB</td>\n",
       "      <td>--</td>\n",
       "      <td>0,00</td>\n",
       "      <td>0,00</td>\n",
       "      <td>0,00</td>\n",
       "      <td>0,00%</td>\n",
       "    </tr>\n",
       "    <tr>\n",
       "      <th>2</th>\n",
       "      <td>Включено</td>\n",
       "      <td>Уголок</td>\n",
       "      <td>Спектр - Пиломатериалы - Поиск</td>\n",
       "      <td>Допущено</td>\n",
       "      <td>NaN</td>\n",
       "      <td>RUB</td>\n",
       "      <td>1,00</td>\n",
       "      <td>Стандартная</td>\n",
       "      <td>0</td>\n",
       "      <td>2</td>\n",
       "      <td>0,00%</td>\n",
       "      <td>RUB</td>\n",
       "      <td>--</td>\n",
       "      <td>0,00</td>\n",
       "      <td>0,00</td>\n",
       "      <td>0,00</td>\n",
       "      <td>0,00%</td>\n",
       "    </tr>\n",
       "  </tbody>\n",
       "</table>\n",
       "</div>"
      ],
      "text/plain": [
       "  Статус группы объявлений Группа объявлений                         Кампания  \\\n",
       "0                 Включено          Рубероид  Спектр - Стройматериалы - Поиск   \n",
       "1                 Включено               Пол   Спектр - Пиломатериалы - Поиск   \n",
       "2                 Включено            Уголок   Спектр - Пиломатериалы - Поиск   \n",
       "\n",
       "     Статус Причины статуса Код валюты Макс. цена за клик по умолчанию  \\\n",
       "0  Допущено             NaN        RUB                            1,00   \n",
       "1  Допущено             NaN        RUB                            1,00   \n",
       "2  Допущено             NaN        RUB                            1,00   \n",
       "\n",
       "  Тип группы объявлений  Kлики  Показы    CTR Код валюты.1  \\\n",
       "0           Стандартная      0       2  0,00%          RUB   \n",
       "1           Стандартная      0       1  0,00%          RUB   \n",
       "2           Стандартная      0       2  0,00%          RUB   \n",
       "\n",
       "  Средняя цена за клик Расходы Конверсии Стоимость/конв. Коэфф. конверсии  \n",
       "0                   --    0,00      0,00            0,00            0,00%  \n",
       "1                   --    0,00      0,00            0,00            0,00%  \n",
       "2                   --    0,00      0,00            0,00            0,00%  "
      ]
     },
     "execution_count": 251,
     "metadata": {},
     "output_type": "execute_result"
    }
   ],
   "source": [
    "otchet.head(3)"
   ]
  },
  {
   "cell_type": "code",
   "execution_count": 252,
   "metadata": {},
   "outputs": [
    {
     "data": {
      "text/plain": [
       "(31, 17)"
      ]
     },
     "execution_count": 252,
     "metadata": {},
     "output_type": "execute_result"
    }
   ],
   "source": [
    "otchet.shape"
   ]
  },
  {
   "cell_type": "code",
   "execution_count": 253,
   "metadata": {},
   "outputs": [
    {
     "data": {
      "text/plain": [
       "Статус группы объявлений           object\n",
       "Группа объявлений                  object\n",
       "Кампания                           object\n",
       "Статус                             object\n",
       "Причины статуса                    object\n",
       "Код валюты                         object\n",
       "Макс. цена за клик по умолчанию    object\n",
       "Тип группы объявлений              object\n",
       "Kлики                               int64\n",
       "Показы                              int64\n",
       "CTR                                object\n",
       "Код валюты.1                       object\n",
       "Средняя цена за клик               object\n",
       "Расходы                            object\n",
       "Конверсии                          object\n",
       "Стоимость/конв.                    object\n",
       "Коэфф. конверсии                   object\n",
       "dtype: object"
      ]
     },
     "execution_count": 253,
     "metadata": {},
     "output_type": "execute_result"
    }
   ],
   "source": [
    "otchet.dtypes"
   ]
  },
  {
   "cell_type": "code",
   "execution_count": null,
   "metadata": {},
   "outputs": [],
   "source": []
  },
  {
   "cell_type": "code",
   "execution_count": null,
   "metadata": {},
   "outputs": [],
   "source": [
    "# Сохраняем в переменную путь для скачивания файла\n",
    "group_google_file = 'C:/Users/Андрей/Downloads/otchet.csv'"
   ]
  },
  {
   "cell_type": "code",
   "execution_count": null,
   "metadata": {},
   "outputs": [],
   "source": [
    "# $$$$$$$$$$$$$$$$$$$$$$$$$$$$          FUNCTION SEARCH          $$$$$$$$$$$$$$$$$$$$$$$$$$$$$$$$$\n",
    "# Функция считывает файл, переименовывает колонки, считает суммы, сохраняет результат в новый файл.\n",
    "def group_report(file_path):\n",
    "    df = pd.read_csv(file_path, skiprows=2, sep=',')\n",
    "    df = df \\\n",
    "    .iloc[:, [1, 2, 9, 8, 13, 14, 16]] \\\n",
    "    .rename(columns={'Группа объявлений': 'group',\n",
    "                    'Кампания': 'campaign',\n",
    "                    'Показы': 'shows',\n",
    "                    'Kлики': 'click',\n",
    "                    'Расходы': 'expense',\n",
    "                    'Конверсии': 'conversion',\n",
    "                    'Коэфф. конверсии': 'conversion_percent'})\n",
    "#     .replace('-', 0)\n",
    "    \n",
    "    \n",
    "#     df['condition'] = df['condition'].apply(lambda x: x.split(' -')[0])\n",
    "#     df.loc[:, 'ctr':'price'] = df.loc[:, 'ctr':'price'].replace(',','.', regex=True).astype(float)\n",
    "    df[['conversion', 'expense']] = df[['conversion', 'expense']].replace(',','.', regex=True).astype(float)\n",
    "    \n",
    "#     df[['shows', 'click', 'conversion']] = df[['shows', 'click', 'conversion']].astype(str).astype(int)\n",
    "\n",
    "#     .replace('Спектр - Пиломатериалы - Поиск', 'Пиломатериалы') \\\n",
    "#     .replace('Спектр - Стройматериалы - Поиск', 'Стройматериалы') \\\n",
    "#     .replace('Спектр - Услуги - Поиск', 'Услуги') \\\n",
    "#     .replace('Спектр - Лестницы - Поиск', 'Лестницы')\n",
    "    \n",
    "#     df['campaign'] = df['campaign'].astype(str)\n",
    "#     df['campaign'] = df['campaign'].apply(lambda x: x.split(' - ')[1])\n",
    "    \n",
    "    \n",
    "    return df"
   ]
  },
  {
   "cell_type": "code",
   "execution_count": null,
   "metadata": {},
   "outputs": [],
   "source": [
    "group_google = group_report(group_google_file)"
   ]
  },
  {
   "cell_type": "code",
   "execution_count": null,
   "metadata": {},
   "outputs": [],
   "source": [
    "group_google.isnull().sum()"
   ]
  },
  {
   "cell_type": "code",
   "execution_count": null,
   "metadata": {},
   "outputs": [],
   "source": [
    "group_google.dropna()"
   ]
  },
  {
   "cell_type": "code",
   "execution_count": null,
   "metadata": {},
   "outputs": [],
   "source": [
    "group_google.dropna()"
   ]
  },
  {
   "cell_type": "code",
   "execution_count": null,
   "metadata": {},
   "outputs": [],
   "source": [
    "group_google \\\n",
    ".dropna() \\\n",
    ".sort_values('shows', ascending=False) \\\n",
    ".head(20)"
   ]
  },
  {
   "cell_type": "code",
   "execution_count": null,
   "metadata": {},
   "outputs": [],
   "source": []
  },
  {
   "cell_type": "code",
   "execution_count": null,
   "metadata": {},
   "outputs": [],
   "source": []
  },
  {
   "cell_type": "code",
   "execution_count": null,
   "metadata": {},
   "outputs": [],
   "source": []
  },
  {
   "cell_type": "code",
   "execution_count": null,
   "metadata": {},
   "outputs": [],
   "source": []
  },
  {
   "cell_type": "code",
   "execution_count": null,
   "metadata": {},
   "outputs": [],
   "source": [
    "# $$$$$$$$$$$$$$$$$$$$$$$$$$$$          SEARCH_GOOGLE          $$$$$$$$$$$$$$$$$$$$$$$$$$$$"
   ]
  },
  {
   "cell_type": "code",
   "execution_count": 254,
   "metadata": {},
   "outputs": [],
   "source": [
    "# Отчет о поисковых запросах\n",
    "search_google_file = pd.read_csv('C:/Users/Андрей/Downloads/search_google.csv', skiprows=2, sep=',')"
   ]
  },
  {
   "cell_type": "code",
   "execution_count": 255,
   "metadata": {},
   "outputs": [
    {
     "data": {
      "text/html": [
       "<div>\n",
       "<style scoped>\n",
       "    .dataframe tbody tr th:only-of-type {\n",
       "        vertical-align: middle;\n",
       "    }\n",
       "\n",
       "    .dataframe tbody tr th {\n",
       "        vertical-align: top;\n",
       "    }\n",
       "\n",
       "    .dataframe thead th {\n",
       "        text-align: right;\n",
       "    }\n",
       "</style>\n",
       "<table border=\"1\" class=\"dataframe\">\n",
       "  <thead>\n",
       "    <tr style=\"text-align: right;\">\n",
       "      <th></th>\n",
       "      <th>Поисковый запрос</th>\n",
       "      <th>Тип соответствия</th>\n",
       "      <th>Добавленные/Исключенные</th>\n",
       "      <th>Кампания</th>\n",
       "      <th>Группа объявлений</th>\n",
       "      <th>Kлики</th>\n",
       "      <th>Показы</th>\n",
       "      <th>CTR</th>\n",
       "      <th>Код валюты</th>\n",
       "      <th>Средняя цена за клик</th>\n",
       "      <th>Расходы</th>\n",
       "      <th>Конверсии</th>\n",
       "      <th>Стоимость/конв.</th>\n",
       "      <th>Коэфф. конверсии</th>\n",
       "      <th>Тип кампании</th>\n",
       "    </tr>\n",
       "  </thead>\n",
       "  <tbody>\n",
       "    <tr>\n",
       "      <th>0</th>\n",
       "      <td>баня сруб цена</td>\n",
       "      <td>Широкое соответствие</td>\n",
       "      <td>Не используется</td>\n",
       "      <td>Спектр - Услуги - Поиск</td>\n",
       "      <td>Срубы</td>\n",
       "      <td>0</td>\n",
       "      <td>1</td>\n",
       "      <td>0,00%</td>\n",
       "      <td>RUB</td>\n",
       "      <td>--</td>\n",
       "      <td>0,00</td>\n",
       "      <td>0,00</td>\n",
       "      <td>0,00</td>\n",
       "      <td>0,00%</td>\n",
       "      <td>Поиск</td>\n",
       "    </tr>\n",
       "    <tr>\n",
       "      <th>1</th>\n",
       "      <td>прайс лист строительных работ по вологодской о...</td>\n",
       "      <td>Широкое соответствие</td>\n",
       "      <td>Не используется</td>\n",
       "      <td>Спектр - Услуги - Поиск</td>\n",
       "      <td>Услуги</td>\n",
       "      <td>0</td>\n",
       "      <td>2</td>\n",
       "      <td>0,00%</td>\n",
       "      <td>RUB</td>\n",
       "      <td>--</td>\n",
       "      <td>0,00</td>\n",
       "      <td>0,00</td>\n",
       "      <td>0,00</td>\n",
       "      <td>0,00%</td>\n",
       "      <td>Поиск</td>\n",
       "    </tr>\n",
       "    <tr>\n",
       "      <th>2</th>\n",
       "      <td>стоимость сруба 6 на 6</td>\n",
       "      <td>Широкое соответствие</td>\n",
       "      <td>Не используется</td>\n",
       "      <td>Спектр - Услуги - Поиск</td>\n",
       "      <td>Срубы</td>\n",
       "      <td>0</td>\n",
       "      <td>1</td>\n",
       "      <td>0,00%</td>\n",
       "      <td>RUB</td>\n",
       "      <td>--</td>\n",
       "      <td>0,00</td>\n",
       "      <td>0,00</td>\n",
       "      <td>0,00</td>\n",
       "      <td>0,00%</td>\n",
       "      <td>Поиск</td>\n",
       "    </tr>\n",
       "  </tbody>\n",
       "</table>\n",
       "</div>"
      ],
      "text/plain": [
       "                                    Поисковый запрос      Тип соответствия  \\\n",
       "0                                     баня сруб цена  Широкое соответствие   \n",
       "1  прайс лист строительных работ по вологодской о...  Широкое соответствие   \n",
       "2                             стоимость сруба 6 на 6  Широкое соответствие   \n",
       "\n",
       "  Добавленные/Исключенные                 Кампания Группа объявлений  Kлики  \\\n",
       "0         Не используется  Спектр - Услуги - Поиск             Срубы      0   \n",
       "1         Не используется  Спектр - Услуги - Поиск            Услуги      0   \n",
       "2         Не используется  Спектр - Услуги - Поиск             Срубы      0   \n",
       "\n",
       "   Показы    CTR Код валюты Средняя цена за клик Расходы Конверсии  \\\n",
       "0       1  0,00%        RUB                   --    0,00      0,00   \n",
       "1       2  0,00%        RUB                   --    0,00      0,00   \n",
       "2       1  0,00%        RUB                   --    0,00      0,00   \n",
       "\n",
       "  Стоимость/конв. Коэфф. конверсии Тип кампании  \n",
       "0            0,00            0,00%        Поиск  \n",
       "1            0,00            0,00%        Поиск  \n",
       "2            0,00            0,00%        Поиск  "
      ]
     },
     "execution_count": 255,
     "metadata": {},
     "output_type": "execute_result"
    }
   ],
   "source": [
    "search_google_file.head(3)"
   ]
  },
  {
   "cell_type": "code",
   "execution_count": 256,
   "metadata": {},
   "outputs": [
    {
     "data": {
      "text/plain": [
       "(190, 15)"
      ]
     },
     "execution_count": 256,
     "metadata": {},
     "output_type": "execute_result"
    }
   ],
   "source": [
    "search_google_file.shape"
   ]
  },
  {
   "cell_type": "code",
   "execution_count": 257,
   "metadata": {},
   "outputs": [
    {
     "data": {
      "text/plain": [
       "Поисковый запрос           object\n",
       "Тип соответствия           object\n",
       "Добавленные/Исключенные    object\n",
       "Кампания                   object\n",
       "Группа объявлений          object\n",
       "Kлики                       int64\n",
       "Показы                      int64\n",
       "CTR                        object\n",
       "Код валюты                 object\n",
       "Средняя цена за клик       object\n",
       "Расходы                    object\n",
       "Конверсии                  object\n",
       "Стоимость/конв.            object\n",
       "Коэфф. конверсии           object\n",
       "Тип кампании               object\n",
       "dtype: object"
      ]
     },
     "execution_count": 257,
     "metadata": {},
     "output_type": "execute_result"
    }
   ],
   "source": [
    "search_google_file.dtypes"
   ]
  },
  {
   "cell_type": "code",
   "execution_count": null,
   "metadata": {},
   "outputs": [],
   "source": []
  },
  {
   "cell_type": "code",
   "execution_count": 215,
   "metadata": {},
   "outputs": [],
   "source": [
    "# Сохраняем в переменную путь для скачивания файла\n",
    "search_google_file = 'C:/Users/Андрей/Downloads/search_google.csv'"
   ]
  },
  {
   "cell_type": "code",
   "execution_count": 228,
   "metadata": {},
   "outputs": [],
   "source": [
    "# $$$$$$$$$$$$$$$$$$$$$$$$$$$$          FUNCTION SEARCH          $$$$$$$$$$$$$$$$$$$$$$$$$$$$$$$$$\n",
    "# Функция считывает файл, переименовывает колонки, считает суммы, сохраняет результат в новый файл.\n",
    "def search_report(file_path):\n",
    "    df = pd.read_csv(file_path, skiprows=2, sep=',')\n",
    "    df = df \\\n",
    "    .iloc[:, [4, 0, 6, 5, 7, 9, 10, 11]] \\\n",
    "    .rename(columns={'Группа объявлений': 'group',\n",
    "                    'Поисковый запрос': 'search_query',\n",
    "                    'Показы': 'shows',\n",
    "                    'Kлики': 'click',\n",
    "                    'CTR': 'ctr',\n",
    "                    'Средняя цена за клик': 'click_average',\n",
    "                    'Расходы': 'expense',\n",
    "                    'Конверсии': 'conversion'}) \\\n",
    "    .dropna() \\\n",
    "    .replace(' --', 0) \\\n",
    "    .sort_values('shows', ascending=False)\n",
    "    \n",
    "    \n",
    "#     df['condition'] = df['condition'].apply(lambda x: x.split(' -')[0])\n",
    "#     df.loc[:, 'ctr':'price'] = df.loc[:, 'ctr':'price'].replace(',','.', regex=True).astype(float)\n",
    "    df[['conversion', 'expense', 'click_average']] = df[['conversion', 'expense', 'click_average']].replace(',','.', regex=True).astype(float)\n",
    "    \n",
    "#     df[['shows', 'click', 'conversion']] = df[['shows', 'click', 'conversion']].astype(str).astype(int)\n",
    "\n",
    "    \n",
    "#     df['campaign'] = df['campaign'].astype(str)\n",
    "#     df['campaign'] = df['campaign'].apply(lambda x: x.split(' - ')[1])\n",
    "    \n",
    "    \n",
    "    return df"
   ]
  },
  {
   "cell_type": "code",
   "execution_count": 229,
   "metadata": {},
   "outputs": [],
   "source": [
    "search_google = search_report(search_google_file)"
   ]
  },
  {
   "cell_type": "code",
   "execution_count": 226,
   "metadata": {},
   "outputs": [
    {
     "ename": "SyntaxError",
     "evalue": "invalid syntax (<unknown>, line 1)",
     "output_type": "error",
     "traceback": [
      "Traceback \u001b[1;36m(most recent call last)\u001b[0m:\n",
      "  File \u001b[0;32m\"C:\\anaconda3\\lib\\site-packages\\IPython\\core\\interactiveshell.py\"\u001b[0m, line \u001b[0;32m3343\u001b[0m, in \u001b[0;35mrun_code\u001b[0m\n    exec(code_obj, self.user_global_ns, self.user_ns)\n",
      "  File \u001b[0;32m\"<ipython-input-226-ad714d1449fb>\"\u001b[0m, line \u001b[0;32m1\u001b[0m, in \u001b[0;35m<module>\u001b[0m\n    search_google.query(\"'search_query' == 'Итого' + *\")\n",
      "  File \u001b[0;32m\"C:\\anaconda3\\lib\\site-packages\\pandas\\core\\frame.py\"\u001b[0m, line \u001b[0;32m3231\u001b[0m, in \u001b[0;35mquery\u001b[0m\n    res = self.eval(expr, **kwargs)\n",
      "  File \u001b[0;32m\"C:\\anaconda3\\lib\\site-packages\\pandas\\core\\frame.py\"\u001b[0m, line \u001b[0;32m3346\u001b[0m, in \u001b[0;35meval\u001b[0m\n    return _eval(expr, inplace=inplace, **kwargs)\n",
      "  File \u001b[0;32m\"C:\\anaconda3\\lib\\site-packages\\pandas\\core\\computation\\eval.py\"\u001b[0m, line \u001b[0;32m332\u001b[0m, in \u001b[0;35meval\u001b[0m\n    parsed_expr = Expr(expr, engine=engine, parser=parser, env=env)\n",
      "  File \u001b[0;32m\"C:\\anaconda3\\lib\\site-packages\\pandas\\core\\computation\\expr.py\"\u001b[0m, line \u001b[0;32m764\u001b[0m, in \u001b[0;35m__init__\u001b[0m\n    self.terms = self.parse()\n",
      "  File \u001b[0;32m\"C:\\anaconda3\\lib\\site-packages\\pandas\\core\\computation\\expr.py\"\u001b[0m, line \u001b[0;32m781\u001b[0m, in \u001b[0;35mparse\u001b[0m\n    return self._visitor.visit(self.expr)\n",
      "  File \u001b[0;32m\"C:\\anaconda3\\lib\\site-packages\\pandas\\core\\computation\\expr.py\"\u001b[0m, line \u001b[0;32m371\u001b[0m, in \u001b[0;35mvisit\u001b[0m\n    raise e\n",
      "  File \u001b[0;32m\"C:\\anaconda3\\lib\\site-packages\\pandas\\core\\computation\\expr.py\"\u001b[0m, line \u001b[0;32m367\u001b[0m, in \u001b[0;35mvisit\u001b[0m\n    node = ast.fix_missing_locations(ast.parse(clean))\n",
      "\u001b[1;36m  File \u001b[1;32m\"C:\\anaconda3\\lib\\ast.py\"\u001b[1;36m, line \u001b[1;32m47\u001b[1;36m, in \u001b[1;35mparse\u001b[1;36m\u001b[0m\n\u001b[1;33m    return compile(source, filename, mode, flags,\u001b[0m\n",
      "\u001b[1;36m  File \u001b[1;32m\"<unknown>\"\u001b[1;36m, line \u001b[1;32m1\u001b[0m\n\u001b[1;33m    'search_query'=='Итого'+*\u001b[0m\n\u001b[1;37m                            ^\u001b[0m\n\u001b[1;31mSyntaxError\u001b[0m\u001b[1;31m:\u001b[0m invalid syntax\n"
     ]
    }
   ],
   "source": [
    "search_google[['search_query']] == 'Итого' + *\")"
   ]
  },
  {
   "cell_type": "code",
   "execution_count": 233,
   "metadata": {},
   "outputs": [
    {
     "data": {
      "text/html": [
       "<div>\n",
       "<style scoped>\n",
       "    .dataframe tbody tr th:only-of-type {\n",
       "        vertical-align: middle;\n",
       "    }\n",
       "\n",
       "    .dataframe tbody tr th {\n",
       "        vertical-align: top;\n",
       "    }\n",
       "\n",
       "    .dataframe thead th {\n",
       "        text-align: right;\n",
       "    }\n",
       "</style>\n",
       "<table border=\"1\" class=\"dataframe\">\n",
       "  <thead>\n",
       "    <tr style=\"text-align: right;\">\n",
       "      <th></th>\n",
       "      <th>group</th>\n",
       "      <th>search_query</th>\n",
       "      <th>shows</th>\n",
       "      <th>click</th>\n",
       "      <th>ctr</th>\n",
       "      <th>click_average</th>\n",
       "      <th>expense</th>\n",
       "      <th>conversion</th>\n",
       "    </tr>\n",
       "  </thead>\n",
       "  <tbody>\n",
       "    <tr>\n",
       "      <th>14</th>\n",
       "      <td>Срубы</td>\n",
       "      <td>дом из бруса 8 на 8 двухэтажный</td>\n",
       "      <td>5</td>\n",
       "      <td>0</td>\n",
       "      <td>0,00%</td>\n",
       "      <td>0.0</td>\n",
       "      <td>0.0</td>\n",
       "      <td>0.0</td>\n",
       "    </tr>\n",
       "    <tr>\n",
       "      <th>74</th>\n",
       "      <td>Срубы</td>\n",
       "      <td>срубы бань вологодская область</td>\n",
       "      <td>3</td>\n",
       "      <td>0</td>\n",
       "      <td>0,00%</td>\n",
       "      <td>0.0</td>\n",
       "      <td>0.0</td>\n",
       "      <td>0.0</td>\n",
       "    </tr>\n",
       "    <tr>\n",
       "      <th>26</th>\n",
       "      <td>Лестницы</td>\n",
       "      <td>лестница на второй этаж</td>\n",
       "      <td>3</td>\n",
       "      <td>0</td>\n",
       "      <td>0,00%</td>\n",
       "      <td>0.0</td>\n",
       "      <td>0.0</td>\n",
       "      <td>0.0</td>\n",
       "    </tr>\n",
       "    <tr>\n",
       "      <th>17</th>\n",
       "      <td>Услуги</td>\n",
       "      <td>строительная бригада волгоград</td>\n",
       "      <td>2</td>\n",
       "      <td>0</td>\n",
       "      <td>0,00%</td>\n",
       "      <td>0.0</td>\n",
       "      <td>0.0</td>\n",
       "      <td>0.0</td>\n",
       "    </tr>\n",
       "    <tr>\n",
       "      <th>75</th>\n",
       "      <td>Срубы</td>\n",
       "      <td>купить сруб тюмень</td>\n",
       "      <td>2</td>\n",
       "      <td>0</td>\n",
       "      <td>0,00%</td>\n",
       "      <td>0.0</td>\n",
       "      <td>0.0</td>\n",
       "      <td>0.0</td>\n",
       "    </tr>\n",
       "  </tbody>\n",
       "</table>\n",
       "</div>"
      ],
      "text/plain": [
       "       group                     search_query  shows  click    ctr  \\\n",
       "14     Срубы  дом из бруса 8 на 8 двухэтажный      5      0  0,00%   \n",
       "74     Срубы   срубы бань вологодская область      3      0  0,00%   \n",
       "26  Лестницы          лестница на второй этаж      3      0  0,00%   \n",
       "17    Услуги   строительная бригада волгоград      2      0  0,00%   \n",
       "75     Срубы               купить сруб тюмень      2      0  0,00%   \n",
       "\n",
       "    click_average  expense  conversion  \n",
       "14            0.0      0.0         0.0  \n",
       "74            0.0      0.0         0.0  \n",
       "26            0.0      0.0         0.0  \n",
       "17            0.0      0.0         0.0  \n",
       "75            0.0      0.0         0.0  "
      ]
     },
     "execution_count": 233,
     "metadata": {},
     "output_type": "execute_result"
    }
   ],
   "source": [
    "search_google.head()"
   ]
  },
  {
   "cell_type": "code",
   "execution_count": 234,
   "metadata": {},
   "outputs": [
    {
     "data": {
      "text/html": [
       "<div>\n",
       "<style scoped>\n",
       "    .dataframe tbody tr th:only-of-type {\n",
       "        vertical-align: middle;\n",
       "    }\n",
       "\n",
       "    .dataframe tbody tr th {\n",
       "        vertical-align: top;\n",
       "    }\n",
       "\n",
       "    .dataframe thead th {\n",
       "        text-align: right;\n",
       "    }\n",
       "</style>\n",
       "<table border=\"1\" class=\"dataframe\">\n",
       "  <thead>\n",
       "    <tr style=\"text-align: right;\">\n",
       "      <th></th>\n",
       "      <th>group</th>\n",
       "      <th>search_query</th>\n",
       "      <th>shows</th>\n",
       "      <th>click</th>\n",
       "      <th>ctr</th>\n",
       "      <th>click_average</th>\n",
       "      <th>expense</th>\n",
       "      <th>conversion</th>\n",
       "    </tr>\n",
       "  </thead>\n",
       "  <tbody>\n",
       "    <tr>\n",
       "      <th>38</th>\n",
       "      <td>Лестницы</td>\n",
       "      <td>винтовая лестница</td>\n",
       "      <td>1</td>\n",
       "      <td>0</td>\n",
       "      <td>0,00%</td>\n",
       "      <td>0.0</td>\n",
       "      <td>0.0</td>\n",
       "      <td>0.0</td>\n",
       "    </tr>\n",
       "    <tr>\n",
       "      <th>37</th>\n",
       "      <td>Срубы</td>\n",
       "      <td>кировские срубы под ключ</td>\n",
       "      <td>1</td>\n",
       "      <td>0</td>\n",
       "      <td>0,00%</td>\n",
       "      <td>0.0</td>\n",
       "      <td>0.0</td>\n",
       "      <td>0.0</td>\n",
       "    </tr>\n",
       "    <tr>\n",
       "      <th>36</th>\n",
       "      <td>Срубы</td>\n",
       "      <td>купить баню 6 на 6</td>\n",
       "      <td>1</td>\n",
       "      <td>1</td>\n",
       "      <td>100,00%</td>\n",
       "      <td>12.9</td>\n",
       "      <td>12.9</td>\n",
       "      <td>0.0</td>\n",
       "    </tr>\n",
       "    <tr>\n",
       "      <th>34</th>\n",
       "      <td>Заборы</td>\n",
       "      <td>современные материалы для забора</td>\n",
       "      <td>1</td>\n",
       "      <td>0</td>\n",
       "      <td>0,00%</td>\n",
       "      <td>0.0</td>\n",
       "      <td>0.0</td>\n",
       "      <td>0.0</td>\n",
       "    </tr>\n",
       "    <tr>\n",
       "      <th>105</th>\n",
       "      <td>Срубы</td>\n",
       "      <td>купить сруб в архангельской области</td>\n",
       "      <td>1</td>\n",
       "      <td>0</td>\n",
       "      <td>0,00%</td>\n",
       "      <td>0.0</td>\n",
       "      <td>0.0</td>\n",
       "      <td>0.0</td>\n",
       "    </tr>\n",
       "  </tbody>\n",
       "</table>\n",
       "</div>"
      ],
      "text/plain": [
       "        group                         search_query  shows  click      ctr  \\\n",
       "38   Лестницы                    винтовая лестница      1      0    0,00%   \n",
       "37      Срубы             кировские срубы под ключ      1      0    0,00%   \n",
       "36      Срубы                   купить баню 6 на 6      1      1  100,00%   \n",
       "34     Заборы     современные материалы для забора      1      0    0,00%   \n",
       "105     Срубы  купить сруб в архангельской области      1      0    0,00%   \n",
       "\n",
       "     click_average  expense  conversion  \n",
       "38             0.0      0.0         0.0  \n",
       "37             0.0      0.0         0.0  \n",
       "36            12.9     12.9         0.0  \n",
       "34             0.0      0.0         0.0  \n",
       "105            0.0      0.0         0.0  "
      ]
     },
     "execution_count": 234,
     "metadata": {},
     "output_type": "execute_result"
    }
   ],
   "source": [
    "search_google.tail()"
   ]
  },
  {
   "cell_type": "code",
   "execution_count": 232,
   "metadata": {},
   "outputs": [
    {
     "data": {
      "text/plain": [
       "array(['дом из бруса 8 на 8 двухэтажный',\n",
       "       'срубы бань вологодская область', 'лестница на второй этаж',\n",
       "       'строительная бригада волгоград', 'купить сруб тюмень',\n",
       "       'срубы из вологды без посредников', 'самый дешевый забор из чего',\n",
       "       'лестницы на второй этаж', 'забор киров',\n",
       "       'дом из бревна одноэтажный', 'срубы бань',\n",
       "       'купить сруб в вологодской области',\n",
       "       'купить сруб бани в кировской области',\n",
       "       'срубы вологодская область', 'купить баню', 'купить забор',\n",
       "       'сруб для бани цена',\n",
       "       'прайс лист строительных работ по вологодской области',\n",
       "       'проекты домов из бруса', 'купить сруб дома в вологодской области',\n",
       "       'красивые бани с мансардой', 'лестница деревянная с поворотом',\n",
       "       'профнастил на забор цена ижевск',\n",
       "       'строительство фундамента для дома', 'дикий сруб бани',\n",
       "       'строительство деревянных домов вологодская область',\n",
       "       'купить лестницу на второй этаж', 'расценки на ремонт квартир',\n",
       "       'лестницы киров', 'установка заборов в волгограде',\n",
       "       'ремонт квартир', 'коттедж под ключ', 'купить сруб 3 на 3',\n",
       "       'готовые срубы домов', 'забор из ламелей', 'строители',\n",
       "       'сруб бани 4 на 4 цена', 'отделочные работы объявления',\n",
       "       'построить дом из бруса под ключ недорого в иркутске цены',\n",
       "       'дома из калиброванного бревна', 'баня под ключ ульяновск',\n",
       "       'куб бревна цена', 'комплектующие для лестницы из дерева',\n",
       "       'сруб дома', 'строительство фундамента', 'дома из бруса самара',\n",
       "       'сруб дома купить', 'баня из оцилиндрованного бревна проект',\n",
       "       'купить сруб дома не дорого', 'варианты забора для дома',\n",
       "       'баня из бревна', 'купить сруб бани тюмень',\n",
       "       'строительство заборов', 'оцилиндрованное бревно',\n",
       "       'ремонт в ванной стоимость работ', 'вологодские срубы домов',\n",
       "       'бревенчатый дом',\n",
       "       'расценки на строительные работы в вологодской области',\n",
       "       'стоимость кладки кирпича за м2', 'резка стекла йошкар ола',\n",
       "       'баня под ключ курган', 'баня сруб цена',\n",
       "       'расценки на строительные работы', 'проекты бань из бревна',\n",
       "       'стоимость сруба 6 на 6', 'мир лестниц', 'бани под ключ из бревна',\n",
       "       'дома из рубленного бревна', 'сруб для колодца купить',\n",
       "       'срубы тюмень', 'деревянные лестницы киров', 'дом из бруса 8 на 8',\n",
       "       'баня под ключ', 'цена оцилиндрованного бревна', 'гараж комплект',\n",
       "       'строители волгоград', 'сруб бани в чашу',\n",
       "       'дома из толстого бревна', 'пластиковый забор цена',\n",
       "       'строительство заборов тюмень',\n",
       "       'дома из оцилиндрованного бревна вологодская область',\n",
       "       'евроштакетник киров', 'купить баню в тюмени', 'бревенбург',\n",
       "       'готовые бани череповец', 'срубы бань тюмень',\n",
       "       'какие заборы сейчас в моде', 'купить сруб бани',\n",
       "       'проекты бань 6х4', 'сруб бани из осины', 'лестница в доме',\n",
       "       'дома из бруса', 'дом купить',\n",
       "       'проекты домов из профилированного бруса', 'замена кровли крыши',\n",
       "       'покрытие крыши материалы', 'пестово срубы домов',\n",
       "       'бюджетные дома из клееного бруса', 'строительство бани',\n",
       "       'дом из бруса под ключ', 'винтовая лестница',\n",
       "       'кировские срубы под ключ', 'купить баню 6 на 6',\n",
       "       'современные материалы для забора',\n",
       "       'купить сруб в архангельской области'], dtype=object)"
      ]
     },
     "execution_count": 232,
     "metadata": {},
     "output_type": "execute_result"
    }
   ],
   "source": [
    "search_google.search_query.unique()"
   ]
  },
  {
   "cell_type": "code",
   "execution_count": 126,
   "metadata": {},
   "outputs": [],
   "source": []
  },
  {
   "cell_type": "code",
   "execution_count": 170,
   "metadata": {},
   "outputs": [],
   "source": [
    "# search_google.isnull().sum()"
   ]
  },
  {
   "cell_type": "code",
   "execution_count": 169,
   "metadata": {},
   "outputs": [],
   "source": [
    "# search_google_file.dropna()"
   ]
  },
  {
   "cell_type": "code",
   "execution_count": 168,
   "metadata": {},
   "outputs": [],
   "source": [
    "# search_google_file \\\n",
    "# .dropna() \\\n",
    "# .sort_values('shows', ascending=False) \\\n",
    "# .head(20)"
   ]
  },
  {
   "cell_type": "code",
   "execution_count": 191,
   "metadata": {},
   "outputs": [
    {
     "data": {
      "text/plain": [
       "group             object\n",
       "search_query      object\n",
       "shows              int64\n",
       "click              int64\n",
       "ctr               object\n",
       "click_average    float64\n",
       "expense          float64\n",
       "conversion       float64\n",
       "dtype: object"
      ]
     },
     "execution_count": 191,
     "metadata": {},
     "output_type": "execute_result"
    }
   ],
   "source": [
    "search_google.dtypes"
   ]
  },
  {
   "cell_type": "code",
   "execution_count": null,
   "metadata": {},
   "outputs": [],
   "source": []
  },
  {
   "cell_type": "code",
   "execution_count": null,
   "metadata": {},
   "outputs": [],
   "source": []
  },
  {
   "cell_type": "code",
   "execution_count": null,
   "metadata": {},
   "outputs": [],
   "source": []
  },
  {
   "cell_type": "code",
   "execution_count": null,
   "metadata": {},
   "outputs": [],
   "source": [
    "# $$$$$$$$$$$$$$$$$$$$$$$$$$$$          SPECIFICATIONS          $$$$$$$$$$$$$$$$$$$$$$$$$$$$"
   ]
  },
  {
   "cell_type": "code",
   "execution_count": 167,
   "metadata": {},
   "outputs": [
    {
     "name": "stdout",
     "output_type": "stream",
     "text": [
      "search_google.shape -  (172, 8)\n"
     ]
    }
   ],
   "source": [
    "print('search_google.shape - ', search_google.shape)"
   ]
  },
  {
   "cell_type": "code",
   "execution_count": 171,
   "metadata": {},
   "outputs": [
    {
     "data": {
      "text/plain": [
       "Index(['group', 'search_query', 'shows', 'click', 'ctr', 'click_average',\n",
       "       'expense', 'conversion'],\n",
       "      dtype='object')"
      ]
     },
     "execution_count": 171,
     "metadata": {},
     "output_type": "execute_result"
    }
   ],
   "source": [
    "search_google.columns"
   ]
  },
  {
   "cell_type": "code",
   "execution_count": 172,
   "metadata": {},
   "outputs": [
    {
     "data": {
      "text/html": [
       "<div>\n",
       "<style scoped>\n",
       "    .dataframe tbody tr th:only-of-type {\n",
       "        vertical-align: middle;\n",
       "    }\n",
       "\n",
       "    .dataframe tbody tr th {\n",
       "        vertical-align: top;\n",
       "    }\n",
       "\n",
       "    .dataframe thead th {\n",
       "        text-align: right;\n",
       "    }\n",
       "</style>\n",
       "<table border=\"1\" class=\"dataframe\">\n",
       "  <thead>\n",
       "    <tr style=\"text-align: right;\">\n",
       "      <th></th>\n",
       "      <th>group</th>\n",
       "      <th>search_query</th>\n",
       "      <th>shows</th>\n",
       "      <th>click</th>\n",
       "      <th>ctr</th>\n",
       "      <th>click_average</th>\n",
       "      <th>expense</th>\n",
       "      <th>conversion</th>\n",
       "    </tr>\n",
       "  </thead>\n",
       "  <tbody>\n",
       "    <tr>\n",
       "      <th>139</th>\n",
       "      <td>Срубы</td>\n",
       "      <td>дом из бруса 8 на 8 двухэтажный</td>\n",
       "      <td>4</td>\n",
       "      <td>0</td>\n",
       "      <td>0,00%</td>\n",
       "      <td>0.00</td>\n",
       "      <td>0.00</td>\n",
       "      <td>0.0</td>\n",
       "    </tr>\n",
       "    <tr>\n",
       "      <th>156</th>\n",
       "      <td>Срубы</td>\n",
       "      <td>срубы бань вологодская область</td>\n",
       "      <td>3</td>\n",
       "      <td>0</td>\n",
       "      <td>0,00%</td>\n",
       "      <td>0.00</td>\n",
       "      <td>0.00</td>\n",
       "      <td>0.0</td>\n",
       "    </tr>\n",
       "    <tr>\n",
       "      <th>143</th>\n",
       "      <td>Срубы</td>\n",
       "      <td>срубы из вологды без посредников</td>\n",
       "      <td>2</td>\n",
       "      <td>2</td>\n",
       "      <td>100,00%</td>\n",
       "      <td>10.34</td>\n",
       "      <td>20.68</td>\n",
       "      <td>0.0</td>\n",
       "    </tr>\n",
       "    <tr>\n",
       "      <th>86</th>\n",
       "      <td>Срубы</td>\n",
       "      <td>срубы вологодская область</td>\n",
       "      <td>2</td>\n",
       "      <td>0</td>\n",
       "      <td>0,00%</td>\n",
       "      <td>0.00</td>\n",
       "      <td>0.00</td>\n",
       "      <td>0.0</td>\n",
       "    </tr>\n",
       "    <tr>\n",
       "      <th>54</th>\n",
       "      <td>Срубы</td>\n",
       "      <td>сруб для бани цена</td>\n",
       "      <td>2</td>\n",
       "      <td>0</td>\n",
       "      <td>0,00%</td>\n",
       "      <td>0.00</td>\n",
       "      <td>0.00</td>\n",
       "      <td>0.0</td>\n",
       "    </tr>\n",
       "    <tr>\n",
       "      <th>61</th>\n",
       "      <td>Срубы</td>\n",
       "      <td>дом из бревна одноэтажный</td>\n",
       "      <td>2</td>\n",
       "      <td>0</td>\n",
       "      <td>0,00%</td>\n",
       "      <td>0.00</td>\n",
       "      <td>0.00</td>\n",
       "      <td>0.0</td>\n",
       "    </tr>\n",
       "    <tr>\n",
       "      <th>48</th>\n",
       "      <td>Срубы</td>\n",
       "      <td>купить сруб бани в кировской области</td>\n",
       "      <td>2</td>\n",
       "      <td>0</td>\n",
       "      <td>0,00%</td>\n",
       "      <td>0.00</td>\n",
       "      <td>0.00</td>\n",
       "      <td>0.0</td>\n",
       "    </tr>\n",
       "    <tr>\n",
       "      <th>118</th>\n",
       "      <td>Срубы</td>\n",
       "      <td>купить баню</td>\n",
       "      <td>2</td>\n",
       "      <td>0</td>\n",
       "      <td>0,00%</td>\n",
       "      <td>0.00</td>\n",
       "      <td>0.00</td>\n",
       "      <td>0.0</td>\n",
       "    </tr>\n",
       "    <tr>\n",
       "      <th>161</th>\n",
       "      <td>Срубы</td>\n",
       "      <td>купить сруб тюмень</td>\n",
       "      <td>2</td>\n",
       "      <td>0</td>\n",
       "      <td>0,00%</td>\n",
       "      <td>0.00</td>\n",
       "      <td>0.00</td>\n",
       "      <td>0.0</td>\n",
       "    </tr>\n",
       "    <tr>\n",
       "      <th>4</th>\n",
       "      <td>Срубы</td>\n",
       "      <td>срубы бань</td>\n",
       "      <td>2</td>\n",
       "      <td>2</td>\n",
       "      <td>100,00%</td>\n",
       "      <td>12.78</td>\n",
       "      <td>25.55</td>\n",
       "      <td>0.0</td>\n",
       "    </tr>\n",
       "    <tr>\n",
       "      <th>159</th>\n",
       "      <td>Срубы</td>\n",
       "      <td>купить сруб в вологодской области</td>\n",
       "      <td>2</td>\n",
       "      <td>0</td>\n",
       "      <td>0,00%</td>\n",
       "      <td>0.00</td>\n",
       "      <td>0.00</td>\n",
       "      <td>0.0</td>\n",
       "    </tr>\n",
       "    <tr>\n",
       "      <th>97</th>\n",
       "      <td>Срубы</td>\n",
       "      <td>дома из оцилиндрованного бревна вологодская об...</td>\n",
       "      <td>1</td>\n",
       "      <td>0</td>\n",
       "      <td>0,00%</td>\n",
       "      <td>0.00</td>\n",
       "      <td>0.00</td>\n",
       "      <td>0.0</td>\n",
       "    </tr>\n",
       "    <tr>\n",
       "      <th>119</th>\n",
       "      <td>Срубы</td>\n",
       "      <td>построить дом из бруса под ключ недорого в ирк...</td>\n",
       "      <td>1</td>\n",
       "      <td>0</td>\n",
       "      <td>0,00%</td>\n",
       "      <td>0.00</td>\n",
       "      <td>0.00</td>\n",
       "      <td>0.0</td>\n",
       "    </tr>\n",
       "    <tr>\n",
       "      <th>123</th>\n",
       "      <td>Срубы</td>\n",
       "      <td>срубы бань тюмень</td>\n",
       "      <td>1</td>\n",
       "      <td>0</td>\n",
       "      <td>0,00%</td>\n",
       "      <td>0.00</td>\n",
       "      <td>0.00</td>\n",
       "      <td>0.0</td>\n",
       "    </tr>\n",
       "    <tr>\n",
       "      <th>124</th>\n",
       "      <td>Срубы</td>\n",
       "      <td>дом из бруса 8 на 8</td>\n",
       "      <td>1</td>\n",
       "      <td>0</td>\n",
       "      <td>0,00%</td>\n",
       "      <td>0.00</td>\n",
       "      <td>0.00</td>\n",
       "      <td>0.0</td>\n",
       "    </tr>\n",
       "    <tr>\n",
       "      <th>94</th>\n",
       "      <td>Срубы</td>\n",
       "      <td>дома из толстого бревна</td>\n",
       "      <td>1</td>\n",
       "      <td>0</td>\n",
       "      <td>0,00%</td>\n",
       "      <td>0.00</td>\n",
       "      <td>0.00</td>\n",
       "      <td>0.0</td>\n",
       "    </tr>\n",
       "    <tr>\n",
       "      <th>96</th>\n",
       "      <td>Срубы</td>\n",
       "      <td>сруб бани в чашу</td>\n",
       "      <td>1</td>\n",
       "      <td>0</td>\n",
       "      <td>0,00%</td>\n",
       "      <td>0.00</td>\n",
       "      <td>0.00</td>\n",
       "      <td>0.0</td>\n",
       "    </tr>\n",
       "    <tr>\n",
       "      <th>117</th>\n",
       "      <td>Срубы</td>\n",
       "      <td>куб бревна цена</td>\n",
       "      <td>1</td>\n",
       "      <td>1</td>\n",
       "      <td>100,00%</td>\n",
       "      <td>12.51</td>\n",
       "      <td>12.51</td>\n",
       "      <td>0.0</td>\n",
       "    </tr>\n",
       "    <tr>\n",
       "      <th>154</th>\n",
       "      <td>Срубы</td>\n",
       "      <td>бревенчатый дом</td>\n",
       "      <td>1</td>\n",
       "      <td>0</td>\n",
       "      <td>0,00%</td>\n",
       "      <td>0.00</td>\n",
       "      <td>0.00</td>\n",
       "      <td>0.0</td>\n",
       "    </tr>\n",
       "    <tr>\n",
       "      <th>155</th>\n",
       "      <td>Срубы</td>\n",
       "      <td>баня из оцилиндрованного бревна проект</td>\n",
       "      <td>1</td>\n",
       "      <td>0</td>\n",
       "      <td>0,00%</td>\n",
       "      <td>0.00</td>\n",
       "      <td>0.00</td>\n",
       "      <td>0.0</td>\n",
       "    </tr>\n",
       "    <tr>\n",
       "      <th>157</th>\n",
       "      <td>Срубы</td>\n",
       "      <td>купить сруб дома в вологодской области</td>\n",
       "      <td>1</td>\n",
       "      <td>0</td>\n",
       "      <td>0,00%</td>\n",
       "      <td>0.00</td>\n",
       "      <td>0.00</td>\n",
       "      <td>0.0</td>\n",
       "    </tr>\n",
       "    <tr>\n",
       "      <th>158</th>\n",
       "      <td>Срубы</td>\n",
       "      <td>проекты домов из бруса</td>\n",
       "      <td>1</td>\n",
       "      <td>1</td>\n",
       "      <td>100,00%</td>\n",
       "      <td>12.96</td>\n",
       "      <td>12.96</td>\n",
       "      <td>0.0</td>\n",
       "    </tr>\n",
       "    <tr>\n",
       "      <th>160</th>\n",
       "      <td>Срубы</td>\n",
       "      <td>красивые бани с мансардой</td>\n",
       "      <td>1</td>\n",
       "      <td>0</td>\n",
       "      <td>0,00%</td>\n",
       "      <td>0.00</td>\n",
       "      <td>0.00</td>\n",
       "      <td>0.0</td>\n",
       "    </tr>\n",
       "    <tr>\n",
       "      <th>163</th>\n",
       "      <td>Срубы</td>\n",
       "      <td>стоимость сруба 6 на 6</td>\n",
       "      <td>1</td>\n",
       "      <td>0</td>\n",
       "      <td>0,00%</td>\n",
       "      <td>0.00</td>\n",
       "      <td>0.00</td>\n",
       "      <td>0.0</td>\n",
       "    </tr>\n",
       "    <tr>\n",
       "      <th>164</th>\n",
       "      <td>Срубы</td>\n",
       "      <td>проекты бань из бревна</td>\n",
       "      <td>1</td>\n",
       "      <td>1</td>\n",
       "      <td>100,00%</td>\n",
       "      <td>12.24</td>\n",
       "      <td>12.24</td>\n",
       "      <td>0.0</td>\n",
       "    </tr>\n",
       "    <tr>\n",
       "      <th>165</th>\n",
       "      <td>Срубы</td>\n",
       "      <td>баня сруб цена</td>\n",
       "      <td>1</td>\n",
       "      <td>0</td>\n",
       "      <td>0,00%</td>\n",
       "      <td>0.00</td>\n",
       "      <td>0.00</td>\n",
       "      <td>0.0</td>\n",
       "    </tr>\n",
       "    <tr>\n",
       "      <th>170</th>\n",
       "      <td>Срубы</td>\n",
       "      <td>кировские срубы под ключ</td>\n",
       "      <td>1</td>\n",
       "      <td>0</td>\n",
       "      <td>0,00%</td>\n",
       "      <td>0.00</td>\n",
       "      <td>0.00</td>\n",
       "      <td>0.0</td>\n",
       "    </tr>\n",
       "    <tr>\n",
       "      <th>149</th>\n",
       "      <td>Срубы</td>\n",
       "      <td>готовые бани череповец</td>\n",
       "      <td>1</td>\n",
       "      <td>0</td>\n",
       "      <td>0,00%</td>\n",
       "      <td>0.00</td>\n",
       "      <td>0.00</td>\n",
       "      <td>0.0</td>\n",
       "    </tr>\n",
       "    <tr>\n",
       "      <th>148</th>\n",
       "      <td>Срубы</td>\n",
       "      <td>купить баню 6 на 6</td>\n",
       "      <td>1</td>\n",
       "      <td>1</td>\n",
       "      <td>100,00%</td>\n",
       "      <td>12.90</td>\n",
       "      <td>12.90</td>\n",
       "      <td>0.0</td>\n",
       "    </tr>\n",
       "    <tr>\n",
       "      <th>129</th>\n",
       "      <td>Срубы</td>\n",
       "      <td>купить сруб дома не дорого</td>\n",
       "      <td>1</td>\n",
       "      <td>0</td>\n",
       "      <td>0,00%</td>\n",
       "      <td>0.00</td>\n",
       "      <td>0.00</td>\n",
       "      <td>0.0</td>\n",
       "    </tr>\n",
       "    <tr>\n",
       "      <th>130</th>\n",
       "      <td>Срубы</td>\n",
       "      <td>оцилиндрованное бревно</td>\n",
       "      <td>1</td>\n",
       "      <td>1</td>\n",
       "      <td>100,00%</td>\n",
       "      <td>4.54</td>\n",
       "      <td>4.54</td>\n",
       "      <td>1.0</td>\n",
       "    </tr>\n",
       "    <tr>\n",
       "      <th>132</th>\n",
       "      <td>Срубы</td>\n",
       "      <td>купить сруб бани тюмень</td>\n",
       "      <td>1</td>\n",
       "      <td>1</td>\n",
       "      <td>100,00%</td>\n",
       "      <td>12.90</td>\n",
       "      <td>12.90</td>\n",
       "      <td>0.0</td>\n",
       "    </tr>\n",
       "    <tr>\n",
       "      <th>135</th>\n",
       "      <td>Срубы</td>\n",
       "      <td>баня из бревна</td>\n",
       "      <td>1</td>\n",
       "      <td>0</td>\n",
       "      <td>0,00%</td>\n",
       "      <td>0.00</td>\n",
       "      <td>0.00</td>\n",
       "      <td>0.0</td>\n",
       "    </tr>\n",
       "    <tr>\n",
       "      <th>136</th>\n",
       "      <td>Срубы</td>\n",
       "      <td>сруб бани 4 на 4 цена</td>\n",
       "      <td>1</td>\n",
       "      <td>0</td>\n",
       "      <td>0,00%</td>\n",
       "      <td>0.00</td>\n",
       "      <td>0.00</td>\n",
       "      <td>0.0</td>\n",
       "    </tr>\n",
       "    <tr>\n",
       "      <th>140</th>\n",
       "      <td>Срубы</td>\n",
       "      <td>баня под ключ</td>\n",
       "      <td>1</td>\n",
       "      <td>0</td>\n",
       "      <td>0,00%</td>\n",
       "      <td>0.00</td>\n",
       "      <td>0.00</td>\n",
       "      <td>0.0</td>\n",
       "    </tr>\n",
       "    <tr>\n",
       "      <th>144</th>\n",
       "      <td>Срубы</td>\n",
       "      <td>дома из рубленного бревна</td>\n",
       "      <td>1</td>\n",
       "      <td>1</td>\n",
       "      <td>100,00%</td>\n",
       "      <td>12.82</td>\n",
       "      <td>12.82</td>\n",
       "      <td>0.0</td>\n",
       "    </tr>\n",
       "    <tr>\n",
       "      <th>147</th>\n",
       "      <td>Срубы</td>\n",
       "      <td>бревенбург</td>\n",
       "      <td>1</td>\n",
       "      <td>0</td>\n",
       "      <td>0,00%</td>\n",
       "      <td>0.00</td>\n",
       "      <td>0.00</td>\n",
       "      <td>0.0</td>\n",
       "    </tr>\n",
       "    <tr>\n",
       "      <th>91</th>\n",
       "      <td>Срубы</td>\n",
       "      <td>дома из бруса</td>\n",
       "      <td>1</td>\n",
       "      <td>0</td>\n",
       "      <td>0,00%</td>\n",
       "      <td>0.00</td>\n",
       "      <td>0.00</td>\n",
       "      <td>0.0</td>\n",
       "    </tr>\n",
       "    <tr>\n",
       "      <th>24</th>\n",
       "      <td>Срубы</td>\n",
       "      <td>купить сруб бани</td>\n",
       "      <td>1</td>\n",
       "      <td>0</td>\n",
       "      <td>0,00%</td>\n",
       "      <td>0.00</td>\n",
       "      <td>0.00</td>\n",
       "      <td>0.0</td>\n",
       "    </tr>\n",
       "    <tr>\n",
       "      <th>25</th>\n",
       "      <td>Срубы</td>\n",
       "      <td>проекты бань 6х4</td>\n",
       "      <td>1</td>\n",
       "      <td>0</td>\n",
       "      <td>0,00%</td>\n",
       "      <td>0.00</td>\n",
       "      <td>0.00</td>\n",
       "      <td>0.0</td>\n",
       "    </tr>\n",
       "    <tr>\n",
       "      <th>26</th>\n",
       "      <td>Срубы</td>\n",
       "      <td>сруб бани из осины</td>\n",
       "      <td>1</td>\n",
       "      <td>0</td>\n",
       "      <td>0,00%</td>\n",
       "      <td>0.00</td>\n",
       "      <td>0.00</td>\n",
       "      <td>0.0</td>\n",
       "    </tr>\n",
       "    <tr>\n",
       "      <th>30</th>\n",
       "      <td>Срубы</td>\n",
       "      <td>баня под ключ ульяновск</td>\n",
       "      <td>1</td>\n",
       "      <td>0</td>\n",
       "      <td>0,00%</td>\n",
       "      <td>0.00</td>\n",
       "      <td>0.00</td>\n",
       "      <td>0.0</td>\n",
       "    </tr>\n",
       "    <tr>\n",
       "      <th>33</th>\n",
       "      <td>Срубы</td>\n",
       "      <td>сруб дома</td>\n",
       "      <td>1</td>\n",
       "      <td>0</td>\n",
       "      <td>0,00%</td>\n",
       "      <td>0.00</td>\n",
       "      <td>0.00</td>\n",
       "      <td>0.0</td>\n",
       "    </tr>\n",
       "    <tr>\n",
       "      <th>37</th>\n",
       "      <td>Срубы</td>\n",
       "      <td>купить баню в тюмени</td>\n",
       "      <td>1</td>\n",
       "      <td>0</td>\n",
       "      <td>0,00%</td>\n",
       "      <td>0.00</td>\n",
       "      <td>0.00</td>\n",
       "      <td>0.0</td>\n",
       "    </tr>\n",
       "    <tr>\n",
       "      <th>43</th>\n",
       "      <td>Срубы</td>\n",
       "      <td>баня под ключ курган</td>\n",
       "      <td>1</td>\n",
       "      <td>0</td>\n",
       "      <td>0,00%</td>\n",
       "      <td>0.00</td>\n",
       "      <td>0.00</td>\n",
       "      <td>0.0</td>\n",
       "    </tr>\n",
       "    <tr>\n",
       "      <th>2</th>\n",
       "      <td>Срубы</td>\n",
       "      <td>строительство бани</td>\n",
       "      <td>1</td>\n",
       "      <td>0</td>\n",
       "      <td>0,00%</td>\n",
       "      <td>0.00</td>\n",
       "      <td>0.00</td>\n",
       "      <td>0.0</td>\n",
       "    </tr>\n",
       "    <tr>\n",
       "      <th>5</th>\n",
       "      <td>Срубы</td>\n",
       "      <td>дом купить</td>\n",
       "      <td>1</td>\n",
       "      <td>0</td>\n",
       "      <td>0,00%</td>\n",
       "      <td>0.00</td>\n",
       "      <td>0.00</td>\n",
       "      <td>0.0</td>\n",
       "    </tr>\n",
       "    <tr>\n",
       "      <th>42</th>\n",
       "      <td>Срубы</td>\n",
       "      <td>цена оцилиндрованного бревна</td>\n",
       "      <td>1</td>\n",
       "      <td>0</td>\n",
       "      <td>0,00%</td>\n",
       "      <td>0.00</td>\n",
       "      <td>0.00</td>\n",
       "      <td>0.0</td>\n",
       "    </tr>\n",
       "    <tr>\n",
       "      <th>44</th>\n",
       "      <td>Срубы</td>\n",
       "      <td>сруб для колодца купить</td>\n",
       "      <td>1</td>\n",
       "      <td>0</td>\n",
       "      <td>0,00%</td>\n",
       "      <td>0.00</td>\n",
       "      <td>0.00</td>\n",
       "      <td>0.0</td>\n",
       "    </tr>\n",
       "    <tr>\n",
       "      <th>90</th>\n",
       "      <td>Срубы</td>\n",
       "      <td>дом из бруса под ключ</td>\n",
       "      <td>1</td>\n",
       "      <td>0</td>\n",
       "      <td>0,00%</td>\n",
       "      <td>0.00</td>\n",
       "      <td>0.00</td>\n",
       "      <td>0.0</td>\n",
       "    </tr>\n",
       "    <tr>\n",
       "      <th>81</th>\n",
       "      <td>Срубы</td>\n",
       "      <td>строительство деревянных домов вологодская обл...</td>\n",
       "      <td>1</td>\n",
       "      <td>0</td>\n",
       "      <td>0,00%</td>\n",
       "      <td>0.00</td>\n",
       "      <td>0.00</td>\n",
       "      <td>0.0</td>\n",
       "    </tr>\n",
       "    <tr>\n",
       "      <th>79</th>\n",
       "      <td>Срубы</td>\n",
       "      <td>дикий сруб бани</td>\n",
       "      <td>1</td>\n",
       "      <td>0</td>\n",
       "      <td>0,00%</td>\n",
       "      <td>0.00</td>\n",
       "      <td>0.00</td>\n",
       "      <td>0.0</td>\n",
       "    </tr>\n",
       "    <tr>\n",
       "      <th>1</th>\n",
       "      <td>Срубы</td>\n",
       "      <td>пестово срубы домов</td>\n",
       "      <td>1</td>\n",
       "      <td>0</td>\n",
       "      <td>0,00%</td>\n",
       "      <td>0.00</td>\n",
       "      <td>0.00</td>\n",
       "      <td>0.0</td>\n",
       "    </tr>\n",
       "    <tr>\n",
       "      <th>88</th>\n",
       "      <td>Срубы</td>\n",
       "      <td>проекты домов из профилированного бруса</td>\n",
       "      <td>1</td>\n",
       "      <td>0</td>\n",
       "      <td>0,00%</td>\n",
       "      <td>0.00</td>\n",
       "      <td>0.00</td>\n",
       "      <td>0.0</td>\n",
       "    </tr>\n",
       "    <tr>\n",
       "      <th>89</th>\n",
       "      <td>Срубы</td>\n",
       "      <td>бюджетные дома из клееного бруса</td>\n",
       "      <td>1</td>\n",
       "      <td>0</td>\n",
       "      <td>0,00%</td>\n",
       "      <td>0.00</td>\n",
       "      <td>0.00</td>\n",
       "      <td>0.0</td>\n",
       "    </tr>\n",
       "    <tr>\n",
       "      <th>71</th>\n",
       "      <td>Срубы</td>\n",
       "      <td>вологодские срубы домов</td>\n",
       "      <td>1</td>\n",
       "      <td>0</td>\n",
       "      <td>0,00%</td>\n",
       "      <td>0.00</td>\n",
       "      <td>0.00</td>\n",
       "      <td>0.0</td>\n",
       "    </tr>\n",
       "    <tr>\n",
       "      <th>46</th>\n",
       "      <td>Срубы</td>\n",
       "      <td>срубы тюмень</td>\n",
       "      <td>1</td>\n",
       "      <td>0</td>\n",
       "      <td>0,00%</td>\n",
       "      <td>0.00</td>\n",
       "      <td>0.00</td>\n",
       "      <td>0.0</td>\n",
       "    </tr>\n",
       "    <tr>\n",
       "      <th>47</th>\n",
       "      <td>Срубы</td>\n",
       "      <td>бани под ключ из бревна</td>\n",
       "      <td>1</td>\n",
       "      <td>0</td>\n",
       "      <td>0,00%</td>\n",
       "      <td>0.00</td>\n",
       "      <td>0.00</td>\n",
       "      <td>0.0</td>\n",
       "    </tr>\n",
       "    <tr>\n",
       "      <th>62</th>\n",
       "      <td>Срубы</td>\n",
       "      <td>сруб дома купить</td>\n",
       "      <td>1</td>\n",
       "      <td>0</td>\n",
       "      <td>0,00%</td>\n",
       "      <td>0.00</td>\n",
       "      <td>0.00</td>\n",
       "      <td>0.0</td>\n",
       "    </tr>\n",
       "    <tr>\n",
       "      <th>63</th>\n",
       "      <td>Срубы</td>\n",
       "      <td>дома из бруса самара</td>\n",
       "      <td>1</td>\n",
       "      <td>0</td>\n",
       "      <td>0,00%</td>\n",
       "      <td>0.00</td>\n",
       "      <td>0.00</td>\n",
       "      <td>0.0</td>\n",
       "    </tr>\n",
       "  </tbody>\n",
       "</table>\n",
       "</div>"
      ],
      "text/plain": [
       "     group                                       search_query  shows  click  \\\n",
       "139  Срубы                    дом из бруса 8 на 8 двухэтажный      4      0   \n",
       "156  Срубы                     срубы бань вологодская область      3      0   \n",
       "143  Срубы                   срубы из вологды без посредников      2      2   \n",
       "86   Срубы                          срубы вологодская область      2      0   \n",
       "54   Срубы                                 сруб для бани цена      2      0   \n",
       "61   Срубы                          дом из бревна одноэтажный      2      0   \n",
       "48   Срубы               купить сруб бани в кировской области      2      0   \n",
       "118  Срубы                                        купить баню      2      0   \n",
       "161  Срубы                                 купить сруб тюмень      2      0   \n",
       "4    Срубы                                         срубы бань      2      2   \n",
       "159  Срубы                  купить сруб в вологодской области      2      0   \n",
       "97   Срубы  дома из оцилиндрованного бревна вологодская об...      1      0   \n",
       "119  Срубы  построить дом из бруса под ключ недорого в ирк...      1      0   \n",
       "123  Срубы                                  срубы бань тюмень      1      0   \n",
       "124  Срубы                                дом из бруса 8 на 8      1      0   \n",
       "94   Срубы                            дома из толстого бревна      1      0   \n",
       "96   Срубы                                   сруб бани в чашу      1      0   \n",
       "117  Срубы                                    куб бревна цена      1      1   \n",
       "154  Срубы                                    бревенчатый дом      1      0   \n",
       "155  Срубы             баня из оцилиндрованного бревна проект      1      0   \n",
       "157  Срубы             купить сруб дома в вологодской области      1      0   \n",
       "158  Срубы                             проекты домов из бруса      1      1   \n",
       "160  Срубы                          красивые бани с мансардой      1      0   \n",
       "163  Срубы                             стоимость сруба 6 на 6      1      0   \n",
       "164  Срубы                             проекты бань из бревна      1      1   \n",
       "165  Срубы                                     баня сруб цена      1      0   \n",
       "170  Срубы                           кировские срубы под ключ      1      0   \n",
       "149  Срубы                             готовые бани череповец      1      0   \n",
       "148  Срубы                                 купить баню 6 на 6      1      1   \n",
       "129  Срубы                         купить сруб дома не дорого      1      0   \n",
       "130  Срубы                             оцилиндрованное бревно      1      1   \n",
       "132  Срубы                            купить сруб бани тюмень      1      1   \n",
       "135  Срубы                                     баня из бревна      1      0   \n",
       "136  Срубы                              сруб бани 4 на 4 цена      1      0   \n",
       "140  Срубы                                      баня под ключ      1      0   \n",
       "144  Срубы                          дома из рубленного бревна      1      1   \n",
       "147  Срубы                                         бревенбург      1      0   \n",
       "91   Срубы                                      дома из бруса      1      0   \n",
       "24   Срубы                                   купить сруб бани      1      0   \n",
       "25   Срубы                                   проекты бань 6х4      1      0   \n",
       "26   Срубы                                 сруб бани из осины      1      0   \n",
       "30   Срубы                            баня под ключ ульяновск      1      0   \n",
       "33   Срубы                                          сруб дома      1      0   \n",
       "37   Срубы                               купить баню в тюмени      1      0   \n",
       "43   Срубы                               баня под ключ курган      1      0   \n",
       "2    Срубы                                 строительство бани      1      0   \n",
       "5    Срубы                                         дом купить      1      0   \n",
       "42   Срубы                       цена оцилиндрованного бревна      1      0   \n",
       "44   Срубы                            сруб для колодца купить      1      0   \n",
       "90   Срубы                              дом из бруса под ключ      1      0   \n",
       "81   Срубы  строительство деревянных домов вологодская обл...      1      0   \n",
       "79   Срубы                                    дикий сруб бани      1      0   \n",
       "1    Срубы                                пестово срубы домов      1      0   \n",
       "88   Срубы            проекты домов из профилированного бруса      1      0   \n",
       "89   Срубы                   бюджетные дома из клееного бруса      1      0   \n",
       "71   Срубы                            вологодские срубы домов      1      0   \n",
       "46   Срубы                                       срубы тюмень      1      0   \n",
       "47   Срубы                            бани под ключ из бревна      1      0   \n",
       "62   Срубы                                   сруб дома купить      1      0   \n",
       "63   Срубы                               дома из бруса самара      1      0   \n",
       "\n",
       "         ctr  click_average  expense  conversion  \n",
       "139    0,00%           0.00     0.00         0.0  \n",
       "156    0,00%           0.00     0.00         0.0  \n",
       "143  100,00%          10.34    20.68         0.0  \n",
       "86     0,00%           0.00     0.00         0.0  \n",
       "54     0,00%           0.00     0.00         0.0  \n",
       "61     0,00%           0.00     0.00         0.0  \n",
       "48     0,00%           0.00     0.00         0.0  \n",
       "118    0,00%           0.00     0.00         0.0  \n",
       "161    0,00%           0.00     0.00         0.0  \n",
       "4    100,00%          12.78    25.55         0.0  \n",
       "159    0,00%           0.00     0.00         0.0  \n",
       "97     0,00%           0.00     0.00         0.0  \n",
       "119    0,00%           0.00     0.00         0.0  \n",
       "123    0,00%           0.00     0.00         0.0  \n",
       "124    0,00%           0.00     0.00         0.0  \n",
       "94     0,00%           0.00     0.00         0.0  \n",
       "96     0,00%           0.00     0.00         0.0  \n",
       "117  100,00%          12.51    12.51         0.0  \n",
       "154    0,00%           0.00     0.00         0.0  \n",
       "155    0,00%           0.00     0.00         0.0  \n",
       "157    0,00%           0.00     0.00         0.0  \n",
       "158  100,00%          12.96    12.96         0.0  \n",
       "160    0,00%           0.00     0.00         0.0  \n",
       "163    0,00%           0.00     0.00         0.0  \n",
       "164  100,00%          12.24    12.24         0.0  \n",
       "165    0,00%           0.00     0.00         0.0  \n",
       "170    0,00%           0.00     0.00         0.0  \n",
       "149    0,00%           0.00     0.00         0.0  \n",
       "148  100,00%          12.90    12.90         0.0  \n",
       "129    0,00%           0.00     0.00         0.0  \n",
       "130  100,00%           4.54     4.54         1.0  \n",
       "132  100,00%          12.90    12.90         0.0  \n",
       "135    0,00%           0.00     0.00         0.0  \n",
       "136    0,00%           0.00     0.00         0.0  \n",
       "140    0,00%           0.00     0.00         0.0  \n",
       "144  100,00%          12.82    12.82         0.0  \n",
       "147    0,00%           0.00     0.00         0.0  \n",
       "91     0,00%           0.00     0.00         0.0  \n",
       "24     0,00%           0.00     0.00         0.0  \n",
       "25     0,00%           0.00     0.00         0.0  \n",
       "26     0,00%           0.00     0.00         0.0  \n",
       "30     0,00%           0.00     0.00         0.0  \n",
       "33     0,00%           0.00     0.00         0.0  \n",
       "37     0,00%           0.00     0.00         0.0  \n",
       "43     0,00%           0.00     0.00         0.0  \n",
       "2      0,00%           0.00     0.00         0.0  \n",
       "5      0,00%           0.00     0.00         0.0  \n",
       "42     0,00%           0.00     0.00         0.0  \n",
       "44     0,00%           0.00     0.00         0.0  \n",
       "90     0,00%           0.00     0.00         0.0  \n",
       "81     0,00%           0.00     0.00         0.0  \n",
       "79     0,00%           0.00     0.00         0.0  \n",
       "1      0,00%           0.00     0.00         0.0  \n",
       "88     0,00%           0.00     0.00         0.0  \n",
       "89     0,00%           0.00     0.00         0.0  \n",
       "71     0,00%           0.00     0.00         0.0  \n",
       "46     0,00%           0.00     0.00         0.0  \n",
       "47     0,00%           0.00     0.00         0.0  \n",
       "62     0,00%           0.00     0.00         0.0  \n",
       "63     0,00%           0.00     0.00         0.0  "
      ]
     },
     "execution_count": 172,
     "metadata": {},
     "output_type": "execute_result"
    }
   ],
   "source": [
    "search_google.query(\"group == 'Срубы'\")"
   ]
  },
  {
   "cell_type": "code",
   "execution_count": 7,
   "metadata": {},
   "outputs": [
    {
     "data": {
      "text/html": [
       "<div>\n",
       "<style scoped>\n",
       "    .dataframe tbody tr th:only-of-type {\n",
       "        vertical-align: middle;\n",
       "    }\n",
       "\n",
       "    .dataframe tbody tr th {\n",
       "        vertical-align: top;\n",
       "    }\n",
       "\n",
       "    .dataframe thead th {\n",
       "        text-align: right;\n",
       "    }\n",
       "</style>\n",
       "<table border=\"1\" class=\"dataframe\">\n",
       "  <thead>\n",
       "    <tr style=\"text-align: right;\">\n",
       "      <th></th>\n",
       "      <th>date</th>\n",
       "      <th>search_query</th>\n",
       "      <th>campaign</th>\n",
       "      <th>group</th>\n",
       "      <th>number_ad</th>\n",
       "      <th>condition</th>\n",
       "      <th>phrase</th>\n",
       "      <th>platform</th>\n",
       "      <th>category</th>\n",
       "      <th>shows</th>\n",
       "      <th>...</th>\n",
       "      <th>ctr</th>\n",
       "      <th>expense</th>\n",
       "      <th>average_cost_click</th>\n",
       "      <th>average_position_show</th>\n",
       "      <th>average_position_click</th>\n",
       "      <th>refusals</th>\n",
       "      <th>depth</th>\n",
       "      <th>conversion_percent</th>\n",
       "      <th>price</th>\n",
       "      <th>conversion</th>\n",
       "    </tr>\n",
       "  </thead>\n",
       "  <tbody>\n",
       "    <tr>\n",
       "      <th>195</th>\n",
       "      <td>13.12.2021</td>\n",
       "      <td>материал важный в строительстве</td>\n",
       "      <td>Стройматериалы</td>\n",
       "      <td>Стройматериалы</td>\n",
       "      <td>M-11425986762</td>\n",
       "      <td>стройматериалы</td>\n",
       "      <td>материал строительство  -магазин -купить -сайт...</td>\n",
       "      <td>Яндекс</td>\n",
       "      <td>не определена</td>\n",
       "      <td>1</td>\n",
       "      <td>...</td>\n",
       "      <td>0,00</td>\n",
       "      <td>0,00</td>\n",
       "      <td>0</td>\n",
       "      <td>5,00</td>\n",
       "      <td>0</td>\n",
       "      <td>0</td>\n",
       "      <td>0</td>\n",
       "      <td>0</td>\n",
       "      <td>0</td>\n",
       "      <td>0</td>\n",
       "    </tr>\n",
       "    <tr>\n",
       "      <th>196</th>\n",
       "      <td>13.12.2021</td>\n",
       "      <td>резные доски наличники деревянные</td>\n",
       "      <td>Пиломатериалы</td>\n",
       "      <td>Наличник</td>\n",
       "      <td>M-11430797630</td>\n",
       "      <td>наличник деревянный</td>\n",
       "      <td>0</td>\n",
       "      <td>Яндекс</td>\n",
       "      <td>Целевые запросы</td>\n",
       "      <td>1</td>\n",
       "      <td>...</td>\n",
       "      <td>0,00</td>\n",
       "      <td>0,00</td>\n",
       "      <td>0</td>\n",
       "      <td>6,00</td>\n",
       "      <td>0</td>\n",
       "      <td>0</td>\n",
       "      <td>0</td>\n",
       "      <td>0</td>\n",
       "      <td>0</td>\n",
       "      <td>0</td>\n",
       "    </tr>\n",
       "    <tr>\n",
       "      <th>197</th>\n",
       "      <td>13.12.2021</td>\n",
       "      <td>резные доски наличники деревянные</td>\n",
       "      <td>Пиломатериалы</td>\n",
       "      <td>Наличник</td>\n",
       "      <td>M-11430797631</td>\n",
       "      <td>наличник деревянный</td>\n",
       "      <td>0</td>\n",
       "      <td>Яндекс</td>\n",
       "      <td>не определена</td>\n",
       "      <td>1</td>\n",
       "      <td>...</td>\n",
       "      <td>0,00</td>\n",
       "      <td>0,00</td>\n",
       "      <td>0</td>\n",
       "      <td>7,00</td>\n",
       "      <td>0</td>\n",
       "      <td>0</td>\n",
       "      <td>0</td>\n",
       "      <td>0</td>\n",
       "      <td>0</td>\n",
       "      <td>0</td>\n",
       "    </tr>\n",
       "    <tr>\n",
       "      <th>198</th>\n",
       "      <td>13.12.2021</td>\n",
       "      <td>стройбаза сыктывкар</td>\n",
       "      <td>Стройматериалы</td>\n",
       "      <td>Стройматериалы</td>\n",
       "      <td>M-11425986761</td>\n",
       "      <td>магазин стройматериалов</td>\n",
       "      <td>0</td>\n",
       "      <td>Яндекс</td>\n",
       "      <td>Запросы с упоминанием конкурентов</td>\n",
       "      <td>1</td>\n",
       "      <td>...</td>\n",
       "      <td>0,00</td>\n",
       "      <td>0,00</td>\n",
       "      <td>0</td>\n",
       "      <td>7,00</td>\n",
       "      <td>0</td>\n",
       "      <td>0</td>\n",
       "      <td>0</td>\n",
       "      <td>0</td>\n",
       "      <td>0</td>\n",
       "      <td>0</td>\n",
       "    </tr>\n",
       "    <tr>\n",
       "      <th>199</th>\n",
       "      <td>13.12.2021</td>\n",
       "      <td>шпаклевка шитрок аналоги</td>\n",
       "      <td>Стройматериалы</td>\n",
       "      <td>Стройматериалы</td>\n",
       "      <td>M-11425986761</td>\n",
       "      <td>стройматериалы</td>\n",
       "      <td>0</td>\n",
       "      <td>Яндекс</td>\n",
       "      <td>Целевые запросы</td>\n",
       "      <td>1</td>\n",
       "      <td>...</td>\n",
       "      <td>0,00</td>\n",
       "      <td>0,00</td>\n",
       "      <td>0</td>\n",
       "      <td>5,00</td>\n",
       "      <td>0</td>\n",
       "      <td>0</td>\n",
       "      <td>0</td>\n",
       "      <td>0</td>\n",
       "      <td>0</td>\n",
       "      <td>0</td>\n",
       "    </tr>\n",
       "  </tbody>\n",
       "</table>\n",
       "<p>5 rows × 21 columns</p>\n",
       "</div>"
      ],
      "text/plain": [
       "           date                       search_query        campaign  \\\n",
       "195  13.12.2021    материал важный в строительстве  Стройматериалы   \n",
       "196  13.12.2021  резные доски наличники деревянные   Пиломатериалы   \n",
       "197  13.12.2021  резные доски наличники деревянные   Пиломатериалы   \n",
       "198  13.12.2021                стройбаза сыктывкар  Стройматериалы   \n",
       "199  13.12.2021           шпаклевка шитрок аналоги  Стройматериалы   \n",
       "\n",
       "              group      number_ad                condition  \\\n",
       "195  Стройматериалы  M-11425986762           стройматериалы   \n",
       "196        Наличник  M-11430797630      наличник деревянный   \n",
       "197        Наличник  M-11430797631      наличник деревянный   \n",
       "198  Стройматериалы  M-11425986761  магазин стройматериалов   \n",
       "199  Стройматериалы  M-11425986761           стройматериалы   \n",
       "\n",
       "                                                phrase platform  \\\n",
       "195  материал строительство  -магазин -купить -сайт...   Яндекс   \n",
       "196                                                  0   Яндекс   \n",
       "197                                                  0   Яндекс   \n",
       "198                                                  0   Яндекс   \n",
       "199                                                  0   Яндекс   \n",
       "\n",
       "                              category  shows  ...   ctr expense  \\\n",
       "195                      не определена      1  ...  0,00    0,00   \n",
       "196                    Целевые запросы      1  ...  0,00    0,00   \n",
       "197                      не определена      1  ...  0,00    0,00   \n",
       "198  Запросы с упоминанием конкурентов      1  ...  0,00    0,00   \n",
       "199                    Целевые запросы      1  ...  0,00    0,00   \n",
       "\n",
       "    average_cost_click average_position_show average_position_click refusals  \\\n",
       "195                  0                  5,00                      0        0   \n",
       "196                  0                  6,00                      0        0   \n",
       "197                  0                  7,00                      0        0   \n",
       "198                  0                  7,00                      0        0   \n",
       "199                  0                  5,00                      0        0   \n",
       "\n",
       "    depth conversion_percent price conversion  \n",
       "195     0                  0     0          0  \n",
       "196     0                  0     0          0  \n",
       "197     0                  0     0          0  \n",
       "198     0                  0     0          0  \n",
       "199     0                  0     0          0  \n",
       "\n",
       "[5 rows x 21 columns]"
      ]
     },
     "execution_count": 7,
     "metadata": {},
     "output_type": "execute_result"
    }
   ],
   "source": [
    "search.tail()"
   ]
  },
  {
   "cell_type": "code",
   "execution_count": 173,
   "metadata": {},
   "outputs": [
    {
     "data": {
      "text/plain": [
       "array([0., 1.])"
      ]
     },
     "execution_count": 173,
     "metadata": {},
     "output_type": "execute_result"
    }
   ],
   "source": [
    "search_google.conversion.unique()"
   ]
  },
  {
   "cell_type": "code",
   "execution_count": 174,
   "metadata": {},
   "outputs": [
    {
     "name": "stdout",
     "output_type": "stream",
     "text": [
      "search_google.shows.sum (Количество показов) -  207\n",
      "search_google.click.sum (Количество кликов) -  22\n",
      "search_google.conversion.sum (Количество конверсий) -  1.0\n"
     ]
    }
   ],
   "source": [
    "# Подсчёт количества показов и кликов и конверсий\n",
    "print('search_google.shows.sum (Количество показов) - ', search_google.shows.sum())\n",
    "print('search_google.click.sum (Количество кликов) - ', search_google.click.sum())\n",
    "print('search_google.conversion.sum (Количество конверсий) - ', search_google.conversion.sum())"
   ]
  },
  {
   "cell_type": "code",
   "execution_count": null,
   "metadata": {},
   "outputs": [],
   "source": []
  },
  {
   "cell_type": "code",
   "execution_count": null,
   "metadata": {},
   "outputs": [],
   "source": []
  },
  {
   "cell_type": "code",
   "execution_count": null,
   "metadata": {},
   "outputs": [],
   "source": []
  },
  {
   "cell_type": "code",
   "execution_count": null,
   "metadata": {},
   "outputs": [],
   "source": [
    "# &&&&&&&&&&&&&&&&&&&&&&&&&&&&          ANALYTICS          &&&&&&&&&&&&&&&&&&&&&&&&&&&&"
   ]
  },
  {
   "cell_type": "code",
   "execution_count": 182,
   "metadata": {},
   "outputs": [
    {
     "data": {
      "text/plain": [
       "60"
      ]
     },
     "execution_count": 182,
     "metadata": {},
     "output_type": "execute_result"
    }
   ],
   "source": [
    "# Количество уникальных запросов\n",
    "search_google \\\n",
    "    .query(\"group == 'Срубы'\") \\\n",
    "    .shows \\\n",
    "    .count()"
   ]
  },
  {
   "cell_type": "code",
   "execution_count": 183,
   "metadata": {},
   "outputs": [
    {
     "data": {
      "text/plain": [
       "60"
      ]
     },
     "execution_count": 183,
     "metadata": {},
     "output_type": "execute_result"
    }
   ],
   "source": [
    "# Количество уникальных запросов\n",
    "search_google \\\n",
    "    .query(\"group == 'Срубы'\") \\\n",
    "    .search_query \\\n",
    "    .nunique()"
   ]
  },
  {
   "cell_type": "code",
   "execution_count": 180,
   "metadata": {},
   "outputs": [
    {
     "data": {
      "text/plain": [
       "74"
      ]
     },
     "execution_count": 180,
     "metadata": {},
     "output_type": "execute_result"
    }
   ],
   "source": [
    "# Общее количество запросов\n",
    "search_google \\\n",
    "    .query(\"group == 'Срубы'\") \\\n",
    "    .shows \\\n",
    "    .sum()"
   ]
  },
  {
   "cell_type": "code",
   "execution_count": 12,
   "metadata": {},
   "outputs": [
    {
     "data": {
      "text/plain": [
       "1309"
      ]
     },
     "execution_count": 12,
     "metadata": {},
     "output_type": "execute_result"
    }
   ],
   "source": [
    "search.search_query.count()"
   ]
  },
  {
   "cell_type": "code",
   "execution_count": 184,
   "metadata": {},
   "outputs": [
    {
     "data": {
      "text/plain": [
       "array(['дом из бруса 8 на 8 двухэтажный',\n",
       "       'срубы бань вологодская область',\n",
       "       'срубы из вологды без посредников', 'срубы вологодская область',\n",
       "       'сруб для бани цена', 'дом из бревна одноэтажный',\n",
       "       'купить сруб бани в кировской области', 'купить баню',\n",
       "       'купить сруб тюмень', 'срубы бань',\n",
       "       'купить сруб в вологодской области',\n",
       "       'дома из оцилиндрованного бревна вологодская область',\n",
       "       'построить дом из бруса под ключ недорого в иркутске цены',\n",
       "       'срубы бань тюмень', 'дом из бруса 8 на 8',\n",
       "       'дома из толстого бревна', 'сруб бани в чашу', 'куб бревна цена',\n",
       "       'бревенчатый дом', 'баня из оцилиндрованного бревна проект',\n",
       "       'купить сруб дома в вологодской области', 'проекты домов из бруса',\n",
       "       'красивые бани с мансардой', 'стоимость сруба 6 на 6',\n",
       "       'проекты бань из бревна', 'баня сруб цена',\n",
       "       'кировские срубы под ключ', 'готовые бани череповец',\n",
       "       'купить баню 6 на 6', 'купить сруб дома не дорого',\n",
       "       'оцилиндрованное бревно', 'купить сруб бани тюмень',\n",
       "       'баня из бревна', 'сруб бани 4 на 4 цена', 'баня под ключ',\n",
       "       'дома из рубленного бревна', 'бревенбург', 'дома из бруса',\n",
       "       'купить сруб бани', 'проекты бань 6х4', 'сруб бани из осины',\n",
       "       'баня под ключ ульяновск', 'сруб дома', 'купить баню в тюмени',\n",
       "       'баня под ключ курган', 'строительство бани', 'дом купить',\n",
       "       'цена оцилиндрованного бревна', 'сруб для колодца купить',\n",
       "       'дом из бруса под ключ',\n",
       "       'строительство деревянных домов вологодская область',\n",
       "       'дикий сруб бани', 'пестово срубы домов',\n",
       "       'проекты домов из профилированного бруса',\n",
       "       'бюджетные дома из клееного бруса', 'вологодские срубы домов',\n",
       "       'срубы тюмень', 'бани под ключ из бревна', 'сруб дома купить',\n",
       "       'дома из бруса самара'], dtype=object)"
      ]
     },
     "execution_count": 184,
     "metadata": {},
     "output_type": "execute_result"
    }
   ],
   "source": [
    "# Тексты уникальных запросов\n",
    "search_google.query(\"group == 'Срубы'\").search_query.unique()"
   ]
  },
  {
   "cell_type": "code",
   "execution_count": 19,
   "metadata": {},
   "outputs": [
    {
     "data": {
      "text/plain": [
       "2                              салехард магазин строймир\n",
       "5                                пеноплекс 100 мм купить\n",
       "13                                 стропила тверь купить\n",
       "14     купить монолитный поликарбонат от производител...\n",
       "16                               волма слой 30 кг купить\n",
       "                             ...                        \n",
       "902         супердиффузионную гидроизоляционную мембрану\n",
       "904      тд вимос кировск лен обл каталог товаров и цены\n",
       "905            ту 5767 006 54349294 2014 пеноплекс стена\n",
       "911                       цена на пиломатериалы на бирже\n",
       "915                                     ярославль кирпич\n",
       "Name: search_query, Length: 414, dtype: object"
      ]
     },
     "execution_count": 19,
     "metadata": {},
     "output_type": "execute_result"
    }
   ],
   "source": [
    "search.query(\"group == 'Стройматериалы'\").search_query"
   ]
  },
  {
   "cell_type": "code",
   "execution_count": 20,
   "metadata": {},
   "outputs": [
    {
     "data": {
      "text/plain": [
       "21"
      ]
     },
     "execution_count": 20,
     "metadata": {},
     "output_type": "execute_result"
    }
   ],
   "source": [
    "search.query(\"search_query == 'играть в шахматы купить сруб'\").shows.count()"
   ]
  },
  {
   "cell_type": "code",
   "execution_count": 185,
   "metadata": {},
   "outputs": [
    {
     "data": {
      "text/plain": [
       "139         дом из бруса 8 на 8 двухэтажный\n",
       "156          срубы бань вологодская область\n",
       "143        срубы из вологды без посредников\n",
       "86                срубы вологодская область\n",
       "54                       сруб для бани цена\n",
       "61                дом из бревна одноэтажный\n",
       "48     купить сруб бани в кировской области\n",
       "118                             купить баню\n",
       "161                      купить сруб тюмень\n",
       "4                                срубы бань\n",
       "159       купить сруб в вологодской области\n",
       "Name: search_query, dtype: object"
      ]
     },
     "execution_count": 185,
     "metadata": {},
     "output_type": "execute_result"
    }
   ],
   "source": [
    "search_google.query(\"group == 'Срубы' & shows > 1\").search_query"
   ]
  },
  {
   "cell_type": "code",
   "execution_count": 22,
   "metadata": {},
   "outputs": [
    {
     "name": "stdout",
     "output_type": "stream",
     "text": [
      "Количество показов: 310\n"
     ]
    }
   ],
   "source": [
    "# @@@@@@@@@@@@@@@@@@@@@@            ВЫБОРКА ПОКАЗОВ ДЛЯ ОПРЕДЕЛЕНИЯ МИНУС СЛОВ            @@@@@@@@@@@@@@@@@@@@@@\n",
    "\n",
    "# Чтобы использовать переменные из текущего пространства имен, вы должны использовать символ @ перед именем переменной:\n",
    "gruppa = 'Срубы'\n",
    "print('Количество показов:', search.query(\"group == @gruppa\").shows.sum())"
   ]
  },
  {
   "cell_type": "code",
   "execution_count": 21,
   "metadata": {},
   "outputs": [
    {
     "name": "stdout",
     "output_type": "stream",
     "text": [
      "Группа: Срубы\n",
      "Количество показов: 310\n",
      "Количество запросов: 277\n",
      "Количество уникальных запросов: 179\n",
      "Количество кликов: 36\n"
     ]
    }
   ],
   "source": [
    "# @@@@@@@@@@@@@@@@@@@@@@            ВЫБОРКА ПОКАЗОВ ДЛЯ ОПРЕДЕЛЕНИЯ МИНУС СЛОВ            @@@@@@@@@@@@@@@@@@@@@@\n",
    "\n",
    "gruppa = 'Срубы'\n",
    "print('Группа:', gruppa)\n",
    "print('Количество показов:', search.query(\"group == @gruppa\").shows.sum())\n",
    "print('Количество запросов:', search.query(\"group == @gruppa\").search_query.count())\n",
    "print('Количество уникальных запросов:', search.query(\"group == @gruppa\").search_query.nunique())\n",
    "print('Количество кликов:', search.query(\"group == @gruppa\").click.sum())"
   ]
  },
  {
   "cell_type": "code",
   "execution_count": 23,
   "metadata": {},
   "outputs": [
    {
     "name": "stdout",
     "output_type": "stream",
     "text": [
      "Уникальные запросы по группе: ['играть в шахматы купить сруб' 'купить сруб бани в архангельской области'\n",
      " 'купить сруб бани из бревна недорого'\n",
      " 'купить сруб бани из бревна недорого в архангельской области'\n",
      " 'купить сруб бани из бревна недорого в емецке'\n",
      " 'купить сруб бани из бревна недорого в холмогорский район'\n",
      " 'купить сруб дома' 'купить сруб дома в архангельской области' 'сруб бани'\n",
      " 'сруб бани 6х6 из бруса цена под ключ проекты и цены'\n",
      " 'срубы бань в вилегодском' 'срубы из оцилиндрованного бревна'\n",
      " 'купить готовый сруб дома' 'купить сруб бани'\n",
      " 'сруб бани 3х4 из бревна цена' 'сруб бани из бревна с стропилами'\n",
      " 'сруб дома из бруса проекты и цены'\n",
      " 'сруб дома из бруса проекты и цены коми' 'сруб из бруса'\n",
      " 'установка стропил на сруб из бревна' 'шипицыно срубы бань цена'\n",
      " 'купить сруб бани в смоленске' 'полезная высота бревна 40 50 в срубе'\n",
      " 'продаю сруб' 'сруб 3х6 из оцилиндрованного бревна'\n",
      " 'сруб бани 5 на 2 5 в емецке стоимость' 'сруб бани 6 × 5 цена из бревна'\n",
      " 'сруб бани купить' 'срубы домов из бруса' 'стоимость сруба 6х8 из бревна'\n",
      " 'купить сруб в архангельской области'\n",
      " 'сруб дома 12х12 из бревна в чашу купить в великом новгороде'\n",
      " 'сруб дома 12х12 из бревна в чашу, купить в великом новгороде'\n",
      " 'срубы бань в архангельской области цены' 'срубы из бруса для бани Сокол'\n",
      " 'срубы из бруса для бани сокол'\n",
      " 'стоимость сборки сруба из готового оцилиндрованного бревна'\n",
      " 'цена сборки сруба 11х11 из готового оцилиндрованного бревна в архангельской области'\n",
      " 'запил у сруба из бруса 150х100' 'купить черту для рубки срубов'\n",
      " 'куплю срубы в устюг великий' 'сруб бани 3 на 3'\n",
      " 'великий устюг сруб из профилированного бруса купить'\n",
      " 'купить сруб бани в красноборске' 'производство срубов из клееного бруса'\n",
      " 'сруб 5 на 4 из бревна цена' 'сруб 5 на 4 из бревна цена коноша'\n",
      " 'сруб бани 3 6 брус' 'баня сруб 6х6' 'купить сруб архангельская область'\n",
      " 'купить сруб бани из бревна в вологодской области с доставкой цена'\n",
      " 'купить сруб коряжма цена' 'купить сруб Коряжма цена' 'пасьва сруб заказ'\n",
      " 'сруб бани 5 на 3' 'стоимость рубки сруба из бревна'\n",
      " 'аванс за заказ сруба' 'договор на заказ сруба из бревна скачать'\n",
      " 'дом сруб в рассрочку'\n",
      " 'кировская область срубы изготовление продажа деревообрабатывающее предприятие'\n",
      " 'кировская область срубы изготовление продажа строительство дачных домов и коттеджей'\n",
      " 'купить сруб бани из бревна в коряжме' 'пасьва срубы на заказ'\n",
      " 'предоплата за заказ сруба' 'сруб на заказ пасьва'\n",
      " 'срубы изготовление продажа деревообрабатывающее предприятие'\n",
      " 'срубы изготовление продажа строительная компания'\n",
      " 'срубы изготовление продажа строительство дачных домов и коттеджей'\n",
      " 'изготовление срубов бань под ключ'\n",
      " 'купить сруб дома из бревна дешево под ключ с доставкой'\n",
      " 'рубка сруба в теплый угол из из профилированного бруса' 'сруб бани 3х3'\n",
      " 'сруб дома из бревна'\n",
      " 'сруб дома из бревна 8х8 цена арх обл на 50 кубов оцилиндрованного бревна'\n",
      " 'сруб дома из бревна старый на вывоз купить' 'сруб дома из бруса 1 ряд'\n",
      " 'купить сруб из оцилиндрованного бревна вологодская область'\n",
      " 'купить сруб из оцилиндрованного бревна цены' 'мадмас срубы купить'\n",
      " 'сруб дома из бревна проекты и цены'\n",
      " 'изготовление срубов для бани вологодская область'\n",
      " 'купить сруб в мадмасе' 'купить сруб в мадсасе'\n",
      " 'купить сруб для бани в архангельской области'\n",
      " 'купить сруб для бани в Архангельской области'\n",
      " 'купить сруб для бани в республике коми' 'срубы бань из бревна'\n",
      " 'купить сруб дома в верховажском районе вологодской области'\n",
      " 'сруб бани 6х6 из бревна цена' 'сруб бани архангельская область цена'\n",
      " 'срубы бани из строганного бревна' 'срубы из строганного бревна'\n",
      " 'сямжа лес купить сруб' 'куплю́ сруб бани 3на3 в коноше'\n",
      " 'срубы бань в коряжме'\n",
      " 'ильинско подомское архангельская область купить сруб'\n",
      " 'ильинско-подомское архангельская область купить сруб'\n",
      " 'купить сруб в шенкурском районе архангельской области'\n",
      " 'сруб бани 5 × 2 5 емецк цена' 'срубы на баню луза'\n",
      " 'купить сруб бани в ерцево' 'куплю сруб для бани в явенге'\n",
      " 'срубы домов в архангельской области цены 100 кв метров'\n",
      " 'купить сруб бани в холмогорском районе'\n",
      " 'сборка сруба из оцилиндрованного бревна цена за работу в архангельской области'\n",
      " 'сруб бани 6 на 6 кострома' 'сруб бани 6х8 из бревна цена'\n",
      " 'купить сруб в верхней уфтюге' 'сруб бани из калиброванного бруса'\n",
      " 'сруб дома 6 на 9 из бревна' 'сруб дома 6 на 9 из бревна купить'\n",
      " 'сруб саратов купить' 'стоимость сруба для бани из бруса'\n",
      " 'готовый сруб дома из бревна в коряжме' 'купить оцилиндрованный сруб'\n",
      " 'купить сруб дома в котласском районе' 'полезная высота бревна в срубе'\n",
      " 'сруб бани 6х4 из бревна цена' 'сруб бани в красноборске'\n",
      " 'сруб купить строительство дачных домов и коттеджей строительство бань и саун'\n",
      " 'сруб сруб дома 5 на 10'\n",
      " 'Купить сруб бани 6х4 из бревна цена архангельская область'\n",
      " 'купить сруб бани из бруса 150х150 цена 6х4'\n",
      " 'продам срубы домов из бревна' 'сруб беседки из бревна проекты и цены'\n",
      " 'сруб из оцилиндрованного бревна' 'купить сруб бани в сямженском районе'\n",
      " 'купить сруб бани в шенкурском районе архангельской области'\n",
      " 'программа по расчету сруба бревен' 'сруб 6 на 6 купить'\n",
      " 'сруб 6 на 6 купить с доставкой' 'сруб бани готовый недорого купить'\n",
      " 'стоимость рубки сруба из бревна за куб в чашу в архангельской области'\n",
      " 'купить бревна для сруба цена' 'купить сруб бу на вывоз'\n",
      " 'купить сруб в улк' 'купить сруб для бани'\n",
      " 'срубы в смоленске купить недорого цены'\n",
      " 'срубы из карелии недорого от производителя'\n",
      " 'калькулятор для расчета срубов бани с бревна'\n",
      " 'купить сруб бани из бруса в Россоши цена' 'конопатка сруба из бруса'\n",
      " 'сруб из бруса архангельской области' 'купить баню из сруба'\n",
      " 'продажа бани сруба в архангельской области'\n",
      " 'продажа срубов в иркутской области' 'сруб коттеджа цена под ключ'\n",
      " 'коряжма сруб бани' 'купить сруб бани бу березник виноградовского района'\n",
      " 'сруб бани коряжма купить' 'сруб дома в стиле шале из бревна под ключ'\n",
      " 'купить сруб дома из бруса в архангельской области недорого'\n",
      " 'сруб бани купить виноградовский район'\n",
      " 'теплое ли соединение у сруба в чашу в профилированного бруса'\n",
      " 'сруб бани архангельская область плесецкий район цена под ключ'\n",
      " 'сруб для бани купить' 'сруб дома из бревна купить' 'срубы бань в емецке'\n",
      " 'сруб бани под ключ'\n",
      " 'сруб бани по вилегодскому району архангельской области город коряжма'\n",
      " 'продажа срубов на вывоз вельский р-н' 'сруб бани 4х4 из бревна цена'\n",
      " 'баня из сруба под ключ проекты и цены холмогоры'\n",
      " 'продажа срубов на вывоз арх об'\n",
      " 'стоимость сруба ручной рубки из бревна без сборки 11 на 8'\n",
      " 'срубы бань из бревен' 'продам сруб бани из оцилиндровки бу'\n",
      " 'сруб дома купить' 'сруб из бревен цена'\n",
      " 'кто закажет сруб с осины в баню' 'купить сруб бани онега' 'купить сруб'\n",
      " 'браширование сруба из бревна' 'киров срубы домов из бревна ручная'\n",
      " 'сруб бани купить в архангельской области'\n",
      " 'сруб бани 4х6 из бревна цена в гирвасе'\n",
      " 'стоимость рубки сруба из бревна за куб в чашу'\n",
      " 'цена на рубку сруба из бревна в чашу'\n",
      " 'чем покрасить сруб снаружи из бревна']\n"
     ]
    }
   ],
   "source": [
    "print('Уникальные запросы по группе:', search.query(\"group == @gruppa\").search_query.unique())"
   ]
  },
  {
   "cell_type": "code",
   "execution_count": 68,
   "metadata": {},
   "outputs": [],
   "source": [
    "unique_query = list(unique_query)"
   ]
  },
  {
   "cell_type": "code",
   "execution_count": 164,
   "metadata": {},
   "outputs": [],
   "source": [
    "# print(sorted(unique_query))"
   ]
  },
  {
   "cell_type": "code",
   "execution_count": null,
   "metadata": {},
   "outputs": [],
   "source": [
    "# Я хотел бы получить список имен, которые встречаются в столбце более одного раза. Как мне это сделать?\n",
    "counts = df.groupby('name').size()\n",
    "df2 = pd.DataFrame(counts, columns = ['size'])\n",
    "df2 = df2[df2.size>1]"
   ]
  },
  {
   "cell_type": "code",
   "execution_count": 240,
   "metadata": {},
   "outputs": [],
   "source": [
    "# Я хотел бы получить список имен, которые встречаются в столбце более одного раза. Как мне это сделать?\n",
    "# counts = search.groupby('search_query').size()\n",
    "# df2 = pd.DataFrame(counts, columns = ['size'])\n",
    "# df2 = df2[df2.size>1]\n",
    "# print(df2)"
   ]
  },
  {
   "cell_type": "code",
   "execution_count": 70,
   "metadata": {},
   "outputs": [
    {
     "data": {
      "text/plain": [
       "купить стекло на опм                                3\n",
       "где в архангельске можно заказать нарезку стекла    3\n",
       "купить стекло для телевизора lg 43um7020plf         2\n",
       "купить сенсорное стекло для хонор 10 лайт           2\n",
       "стекла корень                                       2\n",
       "купить стекло для керосиновых ламп                  2\n",
       "купить стекло в онеге                               2\n",
       "купить стекло на фару лк200 2012г                   2\n",
       "разбилось стекло на лицо                            2\n",
       "стекло для дрипки зевс                              2\n",
       "стекло на обь м с калиткой купить                   2\n",
       "пробники стекло 2мл                                 2\n",
       "Name: search_query, dtype: int64"
      ]
     },
     "execution_count": 70,
     "metadata": {},
     "output_type": "execute_result"
    }
   ],
   "source": [
    "# Выборка всех повторов в поисковых запросах и их количество\n",
    "names = search.query(\"group == 'Стекло'\").search_query.value_counts()\n",
    "names[names > 1]"
   ]
  },
  {
   "cell_type": "code",
   "execution_count": 71,
   "metadata": {},
   "outputs": [
    {
     "data": {
      "text/plain": [
       "Index(['купить стекло на опм',\n",
       "       'где в архангельске можно заказать нарезку стекла',\n",
       "       'купить стекло для телевизора lg 43um7020plf',\n",
       "       'купить сенсорное стекло для хонор 10 лайт', 'стекла корень',\n",
       "       'купить стекло для керосиновых ламп', 'купить стекло в онеге',\n",
       "       'купить стекло на фару лк200 2012г', 'разбилось стекло на лицо',\n",
       "       'стекло для дрипки зевс', 'стекло на обь м с калиткой купить',\n",
       "       'пробники стекло 2мл'],\n",
       "      dtype='object')"
      ]
     },
     "execution_count": 71,
     "metadata": {},
     "output_type": "execute_result"
    }
   ],
   "source": [
    "names.index[names > 1]"
   ]
  },
  {
   "cell_type": "code",
   "execution_count": 268,
   "metadata": {},
   "outputs": [],
   "source": [
    "# duplicateCheck = search.duplicated(subset=['Name', 'Date',], keep=False)\n",
    "\n",
    "# print(search[duplicateCheck])"
   ]
  },
  {
   "cell_type": "code",
   "execution_count": 273,
   "metadata": {},
   "outputs": [],
   "source": [
    "# duplicateCheck = search.duplicated(subset=['group', 'search_query'], keep=False)\n",
    "\n",
    "# search[duplicateCheck]"
   ]
  },
  {
   "cell_type": "code",
   "execution_count": 259,
   "metadata": {},
   "outputs": [],
   "source": [
    "# funcs_groups = search.query(\"group == 'Стекло'\").search_query\n",
    "# funcs_groups[(funcs_groups.count().search_query>1)]"
   ]
  },
  {
   "cell_type": "code",
   "execution_count": 274,
   "metadata": {},
   "outputs": [
    {
     "name": "stdout",
     "output_type": "stream",
     "text": [
      "   ann_id unique_id  start  end\n",
      "0       1     apple      0    1\n",
      "1       1     apple      2    3\n",
      "2       1     apple      4    5\n",
      "4       2     apple      0    1\n",
      "5       2     apple      2    3\n",
      "6       2     apple      4    5\n"
     ]
    }
   ],
   "source": [
    "# как найти дубликаты на основе значения столбца в pandas df.\n",
    "df = pd.DataFrame({\n",
    "    'ann_id': [1, 1, 1, 1, 2, 2, 2, 2, 1, 1, 1, 1, 1, 2, 2, 2],\n",
    "    'unique_id': ['apple', 'apple', 'apple', 'apple', 'apple', 'apple', 'apple',\n",
    "                  'apple', 'apple', 'apple', 'mango', 'mango', 'mango',\n",
    "                  'orange', 'orange', 'orange'],\n",
    "    'start': [0, 2, 4, 6, 0, 2, 4, 60, 22, 44, 33, 77, 99, 11, 30, 50],\n",
    "    'end': [1, 3, 5, 7, 1, 3, 5, 7, 33, 55, 66, 88, 89, 22, 40, 60]\n",
    "})\n",
    "\n",
    "output = df[df.duplicated(subset=['unique_id', 'start', 'end'], keep=False)]\n",
    "print(output)"
   ]
  },
  {
   "cell_type": "code",
   "execution_count": 276,
   "metadata": {},
   "outputs": [],
   "source": [
    "# output = search[search.duplicated(subset=['search_query', 'shows', 'click'], keep=False)]\n",
    "# print(output)"
   ]
  },
  {
   "cell_type": "code",
   "execution_count": 278,
   "metadata": {},
   "outputs": [
    {
     "data": {
      "text/plain": [
       "15"
      ]
     },
     "execution_count": 278,
     "metadata": {},
     "output_type": "execute_result"
    }
   ],
   "source": [
    "# generate a table of those culprit rows which are duplicated:\n",
    "dups = search.groupby(search.search_query.tolist()).size().reset_index().rename(columns={0:'count'})\n",
    "\n",
    "# sum the final col of that table, and subtract the number of culprits:\n",
    "dups['count'].sum() - dups.shape[0]"
   ]
  },
  {
   "cell_type": "code",
   "execution_count": null,
   "metadata": {},
   "outputs": [],
   "source": []
  },
  {
   "cell_type": "code",
   "execution_count": null,
   "metadata": {},
   "outputs": [],
   "source": []
  },
  {
   "cell_type": "code",
   "execution_count": null,
   "metadata": {},
   "outputs": [],
   "source": []
  },
  {
   "cell_type": "code",
   "execution_count": 24,
   "metadata": {},
   "outputs": [
    {
     "data": {
      "text/plain": [
       "27                           играть в шахматы купить сруб\n",
       "272                         стоимость сруба 6х8 из бревна\n",
       "288                          играть в шахматы купить сруб\n",
       "305     сруб дома 12х12 из бревна в чашу, купить в вел...\n",
       "313     стоимость сборки сруба из готового оцилиндрова...\n",
       "354                       купить сруб бани в красноборске\n",
       "444              договор на заказ сруба из бревна скачать\n",
       "488     срубы изготовление продажа строительство дачны...\n",
       "489     срубы изготовление продажа строительство дачны...\n",
       "506                          играть в шахматы купить сруб\n",
       "507                     изготовление срубов бань под ключ\n",
       "524     рубка сруба в теплый угол из из профилированно...\n",
       "530     сруб дома из бревна 8х8 цена арх обл на 50 куб...\n",
       "532                              сруб дома из бруса 1 ряд\n",
       "749                        куплю́ сруб бани 3на3 в коноше\n",
       "910                          играть в шахматы купить сруб\n",
       "923                                             сруб бани\n",
       "971                     стоимость сруба для бани из бруса\n",
       "1030    сруб купить строительство дачных домов и котте...\n",
       "1031                               сруб сруб дома 5 на 10\n",
       "1069                         сруб бани 6х4 из бревна цена\n",
       "1073                      сруб из оцилиндрованного бревна\n",
       "1473                сруб бани купить виноградовский район\n",
       "1538                  купить сруб бани из бревна недорого\n",
       "1555    сруб бани по вилегодскому району архангельской...\n",
       "Name: search_query, dtype: object"
      ]
     },
     "execution_count": 24,
     "metadata": {},
     "output_type": "execute_result"
    }
   ],
   "source": [
    "search.query(\"group == 'Срубы' & shows > 1\").search_query"
   ]
  },
  {
   "cell_type": "code",
   "execution_count": 236,
   "metadata": {},
   "outputs": [
    {
     "data": {
      "text/html": [
       "<div>\n",
       "<style scoped>\n",
       "    .dataframe tbody tr th:only-of-type {\n",
       "        vertical-align: middle;\n",
       "    }\n",
       "\n",
       "    .dataframe tbody tr th {\n",
       "        vertical-align: top;\n",
       "    }\n",
       "\n",
       "    .dataframe thead th {\n",
       "        text-align: right;\n",
       "    }\n",
       "</style>\n",
       "<table border=\"1\" class=\"dataframe\">\n",
       "  <thead>\n",
       "    <tr style=\"text-align: right;\">\n",
       "      <th></th>\n",
       "      <th>group</th>\n",
       "      <th>sum_click</th>\n",
       "    </tr>\n",
       "  </thead>\n",
       "  <tbody>\n",
       "    <tr>\n",
       "      <th>0</th>\n",
       "      <td>Заборы</td>\n",
       "      <td>1</td>\n",
       "    </tr>\n",
       "    <tr>\n",
       "      <th>1</th>\n",
       "      <td>Кровля</td>\n",
       "      <td>0</td>\n",
       "    </tr>\n",
       "    <tr>\n",
       "      <th>2</th>\n",
       "      <td>Лестницы</td>\n",
       "      <td>0</td>\n",
       "    </tr>\n",
       "    <tr>\n",
       "      <th>3</th>\n",
       "      <td>Резка стекла</td>\n",
       "      <td>0</td>\n",
       "    </tr>\n",
       "    <tr>\n",
       "      <th>4</th>\n",
       "      <td>Срубы</td>\n",
       "      <td>11</td>\n",
       "    </tr>\n",
       "    <tr>\n",
       "      <th>5</th>\n",
       "      <td>Услуги</td>\n",
       "      <td>1</td>\n",
       "    </tr>\n",
       "  </tbody>\n",
       "</table>\n",
       "</div>"
      ],
      "text/plain": [
       "          group  sum_click\n",
       "0        Заборы          1\n",
       "1        Кровля          0\n",
       "2      Лестницы          0\n",
       "3  Резка стекла          0\n",
       "4         Срубы         11\n",
       "5        Услуги          1"
      ]
     },
     "execution_count": 236,
     "metadata": {},
     "output_type": "execute_result"
    }
   ],
   "source": [
    "# TABLE_1: Общее количество кликов по рекламе для каждой группы\n",
    "group_active = search_google.groupby('group', as_index=False) \\\n",
    "    .agg({'click': 'sum'}) \\\n",
    "    .rename(columns={'click': 'sum_click'})# \\\n",
    "\n",
    "group_active"
   ]
  },
  {
   "cell_type": "code",
   "execution_count": 237,
   "metadata": {},
   "outputs": [
    {
     "data": {
      "text/plain": [
       "13"
      ]
     },
     "execution_count": 237,
     "metadata": {},
     "output_type": "execute_result"
    }
   ],
   "source": [
    "# Общее количество кликов по рекламе:\n",
    "group_active.sum_click.sum()"
   ]
  },
  {
   "cell_type": "code",
   "execution_count": 238,
   "metadata": {},
   "outputs": [
    {
     "data": {
      "text/html": [
       "<div>\n",
       "<style scoped>\n",
       "    .dataframe tbody tr th:only-of-type {\n",
       "        vertical-align: middle;\n",
       "    }\n",
       "\n",
       "    .dataframe tbody tr th {\n",
       "        vertical-align: top;\n",
       "    }\n",
       "\n",
       "    .dataframe thead th {\n",
       "        text-align: right;\n",
       "    }\n",
       "</style>\n",
       "<table border=\"1\" class=\"dataframe\">\n",
       "  <thead>\n",
       "    <tr style=\"text-align: right;\">\n",
       "      <th></th>\n",
       "      <th>group</th>\n",
       "      <th>sum_conversion</th>\n",
       "    </tr>\n",
       "  </thead>\n",
       "  <tbody>\n",
       "    <tr>\n",
       "      <th>0</th>\n",
       "      <td>Заборы</td>\n",
       "      <td>0.0</td>\n",
       "    </tr>\n",
       "    <tr>\n",
       "      <th>1</th>\n",
       "      <td>Кровля</td>\n",
       "      <td>0.0</td>\n",
       "    </tr>\n",
       "    <tr>\n",
       "      <th>2</th>\n",
       "      <td>Лестницы</td>\n",
       "      <td>0.0</td>\n",
       "    </tr>\n",
       "    <tr>\n",
       "      <th>3</th>\n",
       "      <td>Резка стекла</td>\n",
       "      <td>0.0</td>\n",
       "    </tr>\n",
       "    <tr>\n",
       "      <th>4</th>\n",
       "      <td>Срубы</td>\n",
       "      <td>1.0</td>\n",
       "    </tr>\n",
       "    <tr>\n",
       "      <th>5</th>\n",
       "      <td>Услуги</td>\n",
       "      <td>0.0</td>\n",
       "    </tr>\n",
       "  </tbody>\n",
       "</table>\n",
       "</div>"
      ],
      "text/plain": [
       "          group  sum_conversion\n",
       "0        Заборы             0.0\n",
       "1        Кровля             0.0\n",
       "2      Лестницы             0.0\n",
       "3  Резка стекла             0.0\n",
       "4         Срубы             1.0\n",
       "5        Услуги             0.0"
      ]
     },
     "execution_count": 238,
     "metadata": {},
     "output_type": "execute_result"
    }
   ],
   "source": [
    "# TABLE_2: Общее количество конверсий для каждой группы\n",
    "group_conversion = search_google.groupby('group', as_index=False) \\\n",
    "    .agg({'conversion': 'sum'}) \\\n",
    "    .rename(columns={'conversion': 'sum_conversion'})# \\\n",
    "\n",
    "group_conversion"
   ]
  },
  {
   "cell_type": "code",
   "execution_count": 239,
   "metadata": {},
   "outputs": [
    {
     "data": {
      "text/plain": [
       "1.0"
      ]
     },
     "execution_count": 239,
     "metadata": {},
     "output_type": "execute_result"
    }
   ],
   "source": [
    "# Общее количество конверсий:\n",
    "group_conversion.sum_conversion.sum()"
   ]
  },
  {
   "cell_type": "code",
   "execution_count": 240,
   "metadata": {},
   "outputs": [
    {
     "data": {
      "text/html": [
       "<div>\n",
       "<style scoped>\n",
       "    .dataframe tbody tr th:only-of-type {\n",
       "        vertical-align: middle;\n",
       "    }\n",
       "\n",
       "    .dataframe tbody tr th {\n",
       "        vertical-align: top;\n",
       "    }\n",
       "\n",
       "    .dataframe thead th {\n",
       "        text-align: right;\n",
       "    }\n",
       "</style>\n",
       "<table border=\"1\" class=\"dataframe\">\n",
       "  <thead>\n",
       "    <tr style=\"text-align: right;\">\n",
       "      <th></th>\n",
       "      <th>group</th>\n",
       "      <th>sum_shows</th>\n",
       "    </tr>\n",
       "  </thead>\n",
       "  <tbody>\n",
       "    <tr>\n",
       "      <th>0</th>\n",
       "      <td>Заборы</td>\n",
       "      <td>16</td>\n",
       "    </tr>\n",
       "    <tr>\n",
       "      <th>1</th>\n",
       "      <td>Кровля</td>\n",
       "      <td>2</td>\n",
       "    </tr>\n",
       "    <tr>\n",
       "      <th>2</th>\n",
       "      <td>Лестницы</td>\n",
       "      <td>13</td>\n",
       "    </tr>\n",
       "    <tr>\n",
       "      <th>3</th>\n",
       "      <td>Резка стекла</td>\n",
       "      <td>1</td>\n",
       "    </tr>\n",
       "    <tr>\n",
       "      <th>4</th>\n",
       "      <td>Срубы</td>\n",
       "      <td>79</td>\n",
       "    </tr>\n",
       "    <tr>\n",
       "      <th>5</th>\n",
       "      <td>Услуги</td>\n",
       "      <td>18</td>\n",
       "    </tr>\n",
       "  </tbody>\n",
       "</table>\n",
       "</div>"
      ],
      "text/plain": [
       "          group  sum_shows\n",
       "0        Заборы         16\n",
       "1        Кровля          2\n",
       "2      Лестницы         13\n",
       "3  Резка стекла          1\n",
       "4         Срубы         79\n",
       "5        Услуги         18"
      ]
     },
     "execution_count": 240,
     "metadata": {},
     "output_type": "execute_result"
    }
   ],
   "source": [
    "# TABLE_3: Общее количество показов рекламы для каждой группы # с числом показов >= 1\n",
    "group_popular = search_google.groupby('group', as_index=False) \\\n",
    "    .agg({'shows': 'sum'}) \\\n",
    "    .rename(columns={'shows': 'sum_shows'})# \\\n",
    "#    .query('count_shows > 1')\n",
    "\n",
    "group_popular"
   ]
  },
  {
   "cell_type": "code",
   "execution_count": 241,
   "metadata": {},
   "outputs": [
    {
     "data": {
      "text/plain": [
       "129"
      ]
     },
     "execution_count": 241,
     "metadata": {},
     "output_type": "execute_result"
    }
   ],
   "source": [
    "# Общее количество показов рекламы:\n",
    "group_popular.sum_shows.sum()"
   ]
  },
  {
   "cell_type": "code",
   "execution_count": 242,
   "metadata": {},
   "outputs": [
    {
     "data": {
      "text/html": [
       "<div>\n",
       "<style scoped>\n",
       "    .dataframe tbody tr th:only-of-type {\n",
       "        vertical-align: middle;\n",
       "    }\n",
       "\n",
       "    .dataframe tbody tr th {\n",
       "        vertical-align: top;\n",
       "    }\n",
       "\n",
       "    .dataframe thead th {\n",
       "        text-align: right;\n",
       "    }\n",
       "</style>\n",
       "<table border=\"1\" class=\"dataframe\">\n",
       "  <thead>\n",
       "    <tr style=\"text-align: right;\">\n",
       "      <th></th>\n",
       "      <th>group</th>\n",
       "      <th>unique_query</th>\n",
       "    </tr>\n",
       "  </thead>\n",
       "  <tbody>\n",
       "    <tr>\n",
       "      <th>0</th>\n",
       "      <td>Заборы</td>\n",
       "      <td>13</td>\n",
       "    </tr>\n",
       "    <tr>\n",
       "      <th>1</th>\n",
       "      <td>Кровля</td>\n",
       "      <td>2</td>\n",
       "    </tr>\n",
       "    <tr>\n",
       "      <th>2</th>\n",
       "      <td>Лестницы</td>\n",
       "      <td>10</td>\n",
       "    </tr>\n",
       "    <tr>\n",
       "      <th>3</th>\n",
       "      <td>Резка стекла</td>\n",
       "      <td>1</td>\n",
       "    </tr>\n",
       "    <tr>\n",
       "      <th>4</th>\n",
       "      <td>Срубы</td>\n",
       "      <td>64</td>\n",
       "    </tr>\n",
       "    <tr>\n",
       "      <th>5</th>\n",
       "      <td>Услуги</td>\n",
       "      <td>15</td>\n",
       "    </tr>\n",
       "  </tbody>\n",
       "</table>\n",
       "</div>"
      ],
      "text/plain": [
       "          group  unique_query\n",
       "0        Заборы            13\n",
       "1        Кровля             2\n",
       "2      Лестницы            10\n",
       "3  Резка стекла             1\n",
       "4         Срубы            64\n",
       "5        Услуги            15"
      ]
     },
     "execution_count": 242,
     "metadata": {},
     "output_type": "execute_result"
    }
   ],
   "source": [
    "# TABLE_4: Количество уникальных запросов ПО ГРУППАМ ОБЪЯВЛЕНИЙ - \"SEARCH\"\n",
    "lovely_query = search_google.groupby('group', as_index=False) \\\n",
    "    .agg({'search_query': pd.Series.nunique}) \\\n",
    "    .rename(columns={'search_query': 'unique_query'})# \\\n",
    "\n",
    "#lovely_query = search.query(\"group == 'Фанера'\").search_query.unique()\n",
    "\n",
    "lovely_query"
   ]
  },
  {
   "cell_type": "code",
   "execution_count": 243,
   "metadata": {},
   "outputs": [
    {
     "data": {
      "text/plain": [
       "105"
      ]
     },
     "execution_count": 243,
     "metadata": {},
     "output_type": "execute_result"
    }
   ],
   "source": [
    "# Общее количество уникальных запросов:\n",
    "lovely_query.unique_query.sum()"
   ]
  },
  {
   "cell_type": "code",
   "execution_count": 244,
   "metadata": {},
   "outputs": [
    {
     "data": {
      "text/html": [
       "<div>\n",
       "<style scoped>\n",
       "    .dataframe tbody tr th:only-of-type {\n",
       "        vertical-align: middle;\n",
       "    }\n",
       "\n",
       "    .dataframe tbody tr th {\n",
       "        vertical-align: top;\n",
       "    }\n",
       "\n",
       "    .dataframe thead th {\n",
       "        text-align: right;\n",
       "    }\n",
       "</style>\n",
       "<table border=\"1\" class=\"dataframe\">\n",
       "  <thead>\n",
       "    <tr style=\"text-align: right;\">\n",
       "      <th></th>\n",
       "      <th>group</th>\n",
       "      <th>popular_query</th>\n",
       "      <th>count_popular_shows</th>\n",
       "    </tr>\n",
       "  </thead>\n",
       "  <tbody>\n",
       "    <tr>\n",
       "      <th>42</th>\n",
       "      <td>Срубы</td>\n",
       "      <td>дом из бруса 8 на 8 двухэтажный</td>\n",
       "      <td>5</td>\n",
       "    </tr>\n",
       "    <tr>\n",
       "      <th>21</th>\n",
       "      <td>Лестницы</td>\n",
       "      <td>лестница на второй этаж</td>\n",
       "      <td>3</td>\n",
       "    </tr>\n",
       "    <tr>\n",
       "      <th>3</th>\n",
       "      <td>Заборы</td>\n",
       "      <td>забор киров</td>\n",
       "      <td>2</td>\n",
       "    </tr>\n",
       "    <tr>\n",
       "      <th>93</th>\n",
       "      <td>Услуги</td>\n",
       "      <td>прайс лист строительных работ по вологодской о...</td>\n",
       "      <td>2</td>\n",
       "    </tr>\n",
       "    <tr>\n",
       "      <th>13</th>\n",
       "      <td>Кровля</td>\n",
       "      <td>замена кровли крыши</td>\n",
       "      <td>1</td>\n",
       "    </tr>\n",
       "    <tr>\n",
       "      <th>25</th>\n",
       "      <td>Резка стекла</td>\n",
       "      <td>резка стекла йошкар ола</td>\n",
       "      <td>1</td>\n",
       "    </tr>\n",
       "  </tbody>\n",
       "</table>\n",
       "</div>"
      ],
      "text/plain": [
       "           group                                      popular_query  \\\n",
       "42         Срубы                    дом из бруса 8 на 8 двухэтажный   \n",
       "21      Лестницы                            лестница на второй этаж   \n",
       "3         Заборы                                        забор киров   \n",
       "93        Услуги  прайс лист строительных работ по вологодской о...   \n",
       "13        Кровля                                замена кровли крыши   \n",
       "25  Резка стекла                            резка стекла йошкар ола   \n",
       "\n",
       "    count_popular_shows  \n",
       "42                    5  \n",
       "21                    3  \n",
       "3                     2  \n",
       "93                    2  \n",
       "13                    1  \n",
       "25                    1  "
      ]
     },
     "execution_count": 244,
     "metadata": {},
     "output_type": "execute_result"
    }
   ],
   "source": [
    "# TABLE_5: Количество показов рекламы ПО ПОПУЛЯРНЫМ ЗАПРОСАМ и самые популярные запросы по группам\n",
    "lovely_query_count = search_google.groupby(['group', 'search_query'], as_index=False) \\\n",
    "    .agg({'shows': 'max'}) \\\n",
    "    .sort_values(['shows', 'group'], ascending=[False, True]) \\\n",
    "    .groupby('group') \\\n",
    "    .head(1) \\\n",
    "    .rename(columns={'search_query': 'popular_query','shows': 'count_popular_shows'})\n",
    "\n",
    "lovely_query_count"
   ]
  },
  {
   "cell_type": "code",
   "execution_count": 245,
   "metadata": {},
   "outputs": [
    {
     "data": {
      "text/plain": [
       "(6, 3)"
      ]
     },
     "execution_count": 245,
     "metadata": {},
     "output_type": "execute_result"
    }
   ],
   "source": [
    "lovely_query_count.shape"
   ]
  },
  {
   "cell_type": "code",
   "execution_count": 246,
   "metadata": {},
   "outputs": [],
   "source": [
    "# Объединяем ПЯТЬ табличек: \"lovely_query_count\", \"lovely_query\", \"group_popular\", \"group_active\" и \"group_conversion\"\n",
    "# в одну для дальнейшего анализа.\n",
    "popular_query = group_popular \\\n",
    "    .merge(group_active, on='group', how='inner') \\\n",
    "    .merge(group_conversion, on='group', how='inner') \\\n",
    "    .merge(lovely_query, on='group', how='inner') \\\n",
    "    .merge(lovely_query_count, on='group', how='inner')"
   ]
  },
  {
   "cell_type": "code",
   "execution_count": 248,
   "metadata": {},
   "outputs": [
    {
     "data": {
      "text/html": [
       "<div>\n",
       "<style scoped>\n",
       "    .dataframe tbody tr th:only-of-type {\n",
       "        vertical-align: middle;\n",
       "    }\n",
       "\n",
       "    .dataframe tbody tr th {\n",
       "        vertical-align: top;\n",
       "    }\n",
       "\n",
       "    .dataframe thead th {\n",
       "        text-align: right;\n",
       "    }\n",
       "</style>\n",
       "<table border=\"1\" class=\"dataframe\">\n",
       "  <thead>\n",
       "    <tr style=\"text-align: right;\">\n",
       "      <th></th>\n",
       "      <th>group</th>\n",
       "      <th>sum_shows</th>\n",
       "      <th>sum_click</th>\n",
       "      <th>sum_conversion</th>\n",
       "      <th>unique_query</th>\n",
       "      <th>popular_query</th>\n",
       "      <th>count_popular_shows</th>\n",
       "    </tr>\n",
       "  </thead>\n",
       "  <tbody>\n",
       "    <tr>\n",
       "      <th>4</th>\n",
       "      <td>Срубы</td>\n",
       "      <td>79</td>\n",
       "      <td>11</td>\n",
       "      <td>1.0</td>\n",
       "      <td>64</td>\n",
       "      <td>дом из бруса 8 на 8 двухэтажный</td>\n",
       "      <td>5</td>\n",
       "    </tr>\n",
       "    <tr>\n",
       "      <th>5</th>\n",
       "      <td>Услуги</td>\n",
       "      <td>18</td>\n",
       "      <td>1</td>\n",
       "      <td>0.0</td>\n",
       "      <td>15</td>\n",
       "      <td>прайс лист строительных работ по вологодской о...</td>\n",
       "      <td>2</td>\n",
       "    </tr>\n",
       "    <tr>\n",
       "      <th>0</th>\n",
       "      <td>Заборы</td>\n",
       "      <td>16</td>\n",
       "      <td>1</td>\n",
       "      <td>0.0</td>\n",
       "      <td>13</td>\n",
       "      <td>забор киров</td>\n",
       "      <td>2</td>\n",
       "    </tr>\n",
       "    <tr>\n",
       "      <th>2</th>\n",
       "      <td>Лестницы</td>\n",
       "      <td>13</td>\n",
       "      <td>0</td>\n",
       "      <td>0.0</td>\n",
       "      <td>10</td>\n",
       "      <td>лестница на второй этаж</td>\n",
       "      <td>3</td>\n",
       "    </tr>\n",
       "    <tr>\n",
       "      <th>1</th>\n",
       "      <td>Кровля</td>\n",
       "      <td>2</td>\n",
       "      <td>0</td>\n",
       "      <td>0.0</td>\n",
       "      <td>2</td>\n",
       "      <td>замена кровли крыши</td>\n",
       "      <td>1</td>\n",
       "    </tr>\n",
       "    <tr>\n",
       "      <th>3</th>\n",
       "      <td>Резка стекла</td>\n",
       "      <td>1</td>\n",
       "      <td>0</td>\n",
       "      <td>0.0</td>\n",
       "      <td>1</td>\n",
       "      <td>резка стекла йошкар ола</td>\n",
       "      <td>1</td>\n",
       "    </tr>\n",
       "  </tbody>\n",
       "</table>\n",
       "</div>"
      ],
      "text/plain": [
       "          group  sum_shows  sum_click  sum_conversion  unique_query  \\\n",
       "4         Срубы         79         11             1.0            64   \n",
       "5        Услуги         18          1             0.0            15   \n",
       "0        Заборы         16          1             0.0            13   \n",
       "2      Лестницы         13          0             0.0            10   \n",
       "1        Кровля          2          0             0.0             2   \n",
       "3  Резка стекла          1          0             0.0             1   \n",
       "\n",
       "                                       popular_query  count_popular_shows  \n",
       "4                    дом из бруса 8 на 8 двухэтажный                    5  \n",
       "5  прайс лист строительных работ по вологодской о...                    2  \n",
       "0                                        забор киров                    2  \n",
       "2                            лестница на второй этаж                    3  \n",
       "1                                замена кровли крыши                    1  \n",
       "3                            резка стекла йошкар ола                    1  "
      ]
     },
     "execution_count": 248,
     "metadata": {},
     "output_type": "execute_result"
    }
   ],
   "source": [
    "popular_query.sort_values('unique_query', ascending = False)"
   ]
  },
  {
   "cell_type": "code",
   "execution_count": null,
   "metadata": {},
   "outputs": [],
   "source": []
  },
  {
   "cell_type": "code",
   "execution_count": 13,
   "metadata": {},
   "outputs": [],
   "source": [
    "# $$$$$$$$$$$$$$$$$$$$$$$$$$$$          FUNCTION MERGE          $$$$$$$$$$$$$$$$$$$$$$$$$$$$$$$$$\n",
    "# Функция объединяет таблицы, переименовывает колонки, считает суммы, сохраняет результат в новый файл.\n",
    "def merge_report(tab1, tab2):\n",
    "#    df = tab1.merge(tab2, how = 'inner')\n",
    "#    df = pd.merge(tab1, tab2, left_on ='date', right_on = 'group', how='left')\n",
    "#    df = tab1.merge(tab2, on = ['date', 'group'])\n",
    "#    df = pd.merge(tab1, tab2, on = ['date', 'group', 'condition'], how='inner')\n",
    "    df = pd.merge(tab1, tab2, on = ['date', 'group', 'condition'], how='left')    \n",
    "#    df = pd.merge(tab1, tab2, on = 'date')\n",
    "#    df = tab1.join(tab2, lsuffix='_l', rsuffix='_r')\n",
    "    \n",
    "    columns_titles = ['date', 'search_query', 'condition',  'conversion_percent', 'price',\n",
    "        'conversion', 'shows', 'shows_master', 'click', 'click_master', 'ctr', 'ctr_master', 'expense', 'campaign',\n",
    "        'group', 'number_ad', 'region', 'device', 'gender',\n",
    "        'category', 'average_cost_click', 'average_position_show', 'average_position_click', 'refusals', 'depth',\n",
    "        'conversion_thanks', 'conversion_calls', 'conversion_wa', 'price_thanks', 'price_calls', 'price_wa', \n",
    "        'thanks', 'calls', 'wa', 'phrase', 'platform']\n",
    "    report=df.reindex(columns=columns_titles)\n",
    "    report['condition'] = report['condition'].apply(lambda x: x.split(' -')[0])\n",
    "    report = report.replace('-', '0.00')\n",
    "#    report['conversion'] = report['conversion'].astype(str).astype(int)\n",
    "    \n",
    "    report[['conversion_percent', 'price',\n",
    "       'ctr', 'ctr_master', 'expense', 'average_cost_click',\n",
    "       'average_position_show', 'average_position_click', 'refusals', 'depth',\n",
    "       'conversion_thanks', 'conversion_calls', 'conversion_wa',\n",
    "       'price_thanks', 'price_calls', 'price_wa']] = report[['conversion_percent', 'price',\n",
    "       'ctr', 'ctr_master', 'expense', 'average_cost_click',\n",
    "       'average_position_show', 'average_position_click', 'refusals', 'depth',\n",
    "       'conversion_thanks', 'conversion_calls', 'conversion_wa',\n",
    "       'price_thanks', 'price_calls', 'price_wa']].applymap(lambda x: float(str(x).replace(\",\",\".\")))\n",
    "    \n",
    "    report[['conversion_percent', 'price',\n",
    "       'conversion', 'shows', 'shows_master', 'click', 'click_master', 'ctr',\n",
    "       'ctr_master', 'expense', 'average_cost_click',\n",
    "       'average_position_show', 'average_position_click', 'refusals', 'depth',\n",
    "       'conversion_thanks', 'conversion_calls', 'conversion_wa',\n",
    "       'price_thanks', 'price_calls', 'price_wa', 'thanks', 'calls', 'wa']] = report[['conversion_percent', 'price',\n",
    "       'conversion', 'shows', 'shows_master', 'click', 'click_master', 'ctr',\n",
    "       'ctr_master', 'expense', 'average_cost_click',\n",
    "       'average_position_show', 'average_position_click', 'refusals', 'depth',\n",
    "       'conversion_thanks', 'conversion_calls', 'conversion_wa',\n",
    "       'price_thanks', 'price_calls', 'price_wa', 'thanks', 'calls', 'wa']].apply(pd.to_numeric, errors='ignore')\n",
    "    \n",
    "    report[['depth', 'thanks', 'calls', 'wa']] = report[['depth', 'thanks', 'calls', 'wa']].applymap(lambda x: int(x))\n",
    "\n",
    "    all_shows = report.shows.sum()\n",
    "    all_clicks = report.click.sum()\n",
    "#    all_conversions = report.conversion.sum()\n",
    "    \n",
    "    today_day = datetime.today().strftime('%Y-%m-%d_%H:%M')\n",
    "    file_name = 'C:/Users/Андрей/Downloads/report_{}.csv'\n",
    "    file_name = file_name.format(today_day)\n",
    "    download = 'report_{}.csv'\n",
    "    download = download.format(today_day)\n",
    "    \n",
    "    if master.shows_master.sum() == all_shows:\n",
    "#        print('OK! Общее количество показов: {}; кликов: {}; конверсий: {}.'.format(all_shows, all_clicks, all_conversions))\n",
    "        print('OK! Общее количество показов: {}; кликов: {}.'.format(all_shows, all_clicks))\n",
    "        print('Отчёт сформирован и отправлен в папку \"Загрузки\". ИМЯ ФАЙЛА: {}'.format(download))\n",
    "#        report.to_csv(file_name, index=False)\n",
    "    else:\n",
    "        print('ERROR! Суммы показов начальной и итоговой таблиц не равны !!!')  \n",
    "        \n",
    "    return report"
   ]
  },
  {
   "cell_type": "code",
   "execution_count": 14,
   "metadata": {},
   "outputs": [
    {
     "ename": "NameError",
     "evalue": "name 'master' is not defined",
     "output_type": "error",
     "traceback": [
      "\u001b[1;31m---------------------------------------------------------------------------\u001b[0m",
      "\u001b[1;31mNameError\u001b[0m                                 Traceback (most recent call last)",
      "\u001b[1;32m<ipython-input-14-c7aa483e4d4b>\u001b[0m in \u001b[0;36m<module>\u001b[1;34m\u001b[0m\n\u001b[1;32m----> 1\u001b[1;33m \u001b[0mreport\u001b[0m \u001b[1;33m=\u001b[0m \u001b[0mmerge_report\u001b[0m\u001b[1;33m(\u001b[0m\u001b[0mmaster\u001b[0m\u001b[1;33m,\u001b[0m \u001b[0msearch\u001b[0m\u001b[1;33m)\u001b[0m\u001b[1;33m\u001b[0m\u001b[1;33m\u001b[0m\u001b[0m\n\u001b[0m",
      "\u001b[1;31mNameError\u001b[0m: name 'master' is not defined"
     ]
    }
   ],
   "source": [
    "report = merge_report(master, search)"
   ]
  },
  {
   "cell_type": "code",
   "execution_count": null,
   "metadata": {},
   "outputs": [],
   "source": []
  },
  {
   "cell_type": "code",
   "execution_count": 206,
   "metadata": {},
   "outputs": [
    {
     "data": {
      "text/html": [
       "<div>\n",
       "<style scoped>\n",
       "    .dataframe tbody tr th:only-of-type {\n",
       "        vertical-align: middle;\n",
       "    }\n",
       "\n",
       "    .dataframe tbody tr th {\n",
       "        vertical-align: top;\n",
       "    }\n",
       "\n",
       "    .dataframe thead th {\n",
       "        text-align: right;\n",
       "    }\n",
       "</style>\n",
       "<table border=\"1\" class=\"dataframe\">\n",
       "  <thead>\n",
       "    <tr style=\"text-align: right;\">\n",
       "      <th></th>\n",
       "      <th>group</th>\n",
       "      <th>search_query</th>\n",
       "      <th>shows</th>\n",
       "      <th>click</th>\n",
       "    </tr>\n",
       "  </thead>\n",
       "  <tbody>\n",
       "    <tr>\n",
       "      <th>8</th>\n",
       "      <td>Пиломатериалы</td>\n",
       "      <td>60</td>\n",
       "      <td>73</td>\n",
       "      <td>9</td>\n",
       "    </tr>\n",
       "    <tr>\n",
       "      <th>12</th>\n",
       "      <td>Срубы</td>\n",
       "      <td>60</td>\n",
       "      <td>74</td>\n",
       "      <td>11</td>\n",
       "    </tr>\n",
       "    <tr>\n",
       "      <th>13</th>\n",
       "      <td>Услуги</td>\n",
       "      <td>16</td>\n",
       "      <td>18</td>\n",
       "      <td>1</td>\n",
       "    </tr>\n",
       "    <tr>\n",
       "      <th>3</th>\n",
       "      <td>Заборы</td>\n",
       "      <td>13</td>\n",
       "      <td>16</td>\n",
       "      <td>1</td>\n",
       "    </tr>\n",
       "    <tr>\n",
       "      <th>5</th>\n",
       "      <td>Лестницы</td>\n",
       "      <td>10</td>\n",
       "      <td>13</td>\n",
       "      <td>0</td>\n",
       "    </tr>\n",
       "  </tbody>\n",
       "</table>\n",
       "</div>"
      ],
      "text/plain": [
       "            group  search_query  shows  click\n",
       "8   Пиломатериалы            60     73      9\n",
       "12          Срубы            60     74     11\n",
       "13         Услуги            16     18      1\n",
       "3          Заборы            13     16      1\n",
       "5        Лестницы            10     13      0"
      ]
     },
     "execution_count": 206,
     "metadata": {},
     "output_type": "execute_result"
    }
   ],
   "source": [
    "# Количество показов рекламы ПО ЛЮБИМЫМ ГРУППАМ ОБЪЯВЛЕНИЙ - \"SEARCH\"\n",
    "lovely_group_search = search_google.groupby('group', as_index=False) \\\n",
    "    .agg({'search_query': 'count', 'shows': 'sum', 'click': 'sum'})# \\\n",
    "#    .sort_values(['shows'], ascending=False)\n",
    "    \n",
    "\n",
    "lovely_group_search.sort_values('search_query', ascending = False).head()"
   ]
  },
  {
   "cell_type": "code",
   "execution_count": null,
   "metadata": {},
   "outputs": [],
   "source": []
  },
  {
   "cell_type": "code",
   "execution_count": null,
   "metadata": {},
   "outputs": [],
   "source": []
  },
  {
   "cell_type": "code",
   "execution_count": null,
   "metadata": {},
   "outputs": [],
   "source": [
    "# !!!!!!!!!!!!!!!!!!!!!!!!!!!!!!!          VIZUALIZATION          !!!!!!!!!!!!!!!!!!!!!!!!!!!!!!!"
   ]
  },
  {
   "cell_type": "code",
   "execution_count": 249,
   "metadata": {},
   "outputs": [
    {
     "data": {
      "text/plain": [
       "<matplotlib.axes._subplots.AxesSubplot at 0xe68da353a0>"
      ]
     },
     "execution_count": 249,
     "metadata": {},
     "output_type": "execute_result"
    },
    {
     "data": {
      "image/png": "[encoded data removed]",
      "text/plain": [
       "<Figure size 1440x720 with 1 Axes>"
      ]
     },
     "metadata": {
      "needs_background": "light"
     },
     "output_type": "display_data"
    }
   ],
   "source": [
    "plt.figure(figsize=(20, 10))\n",
    "sns.barplot(x=\"group\", y=\"sum_shows\", data=popular_query)"
   ]
  },
  {
   "cell_type": "code",
   "execution_count": 96,
   "metadata": {},
   "outputs": [
    {
     "data": {
      "image/png": "[encoded data removed]",
      "text/plain": [
       "<Figure size 1440x720 with 1 Axes>"
      ]
     },
     "metadata": {
      "needs_background": "light"
     },
     "output_type": "display_data"
    }
   ],
   "source": [
    "# Гистограмма 'Количество показов объявлений' 20.12.21\n",
    "popular_query = search.dropna().query(\"shows > 0\").sort_values('shows', ascending=False)\n",
    "plt.figure(figsize=(20, 10))\n",
    "plt.title('Количество показов объявлений', fontsize=16)\n",
    "ax_shows=sns.barplot(x='group', \n",
    "            y='shows', \n",
    "            data=popular_query, \n",
    "            palette='summer')\n",
    "ax_shows.set_xlabel('Группы объявлений', fontsize=16)\n",
    "ax_shows.set_ylabel('Количество показов', fontsize=16)\n",
    "ax_shows.set_xticklabels(popular_query.group,\n",
    "                  fontsize = 10, # horizontal\n",
    "                   color = 'b',    #  Цвет текста\n",
    "                   rotation = 30,    #  Поворот текста\n",
    "                   verticalalignment =  'top')    #  Вертикальное выравнивание\n",
    "# annotation here\n",
    "for p in ax_shows.patches:\n",
    "             ax_shows.annotate(\"%.0f\" % p.get_height(), (p.get_x() + p.get_width() / 2., p.get_height()),\n",
    "                 ha='center', va='center', fontsize=10, color='b', xytext=(0, 5),\n",
    "                 textcoords='offset points')\n",
    "plt.show()"
   ]
  },
  {
   "cell_type": "code",
   "execution_count": 97,
   "metadata": {},
   "outputs": [
    {
     "ename": "KeyError",
     "evalue": "'sum_shows'",
     "output_type": "error",
     "traceback": [
      "\u001b[1;31m---------------------------------------------------------------------------\u001b[0m",
      "\u001b[1;31mKeyError\u001b[0m                                  Traceback (most recent call last)",
      "\u001b[1;32m<ipython-input-97-af85376fa551>\u001b[0m in \u001b[0;36m<module>\u001b[1;34m\u001b[0m\n\u001b[0;32m      1\u001b[0m \u001b[1;31m# Гистограмма 'Количество показов объявлений' 31.12.21\u001b[0m\u001b[1;33m\u001b[0m\u001b[1;33m\u001b[0m\u001b[1;33m\u001b[0m\u001b[0m\n\u001b[1;32m----> 2\u001b[1;33m \u001b[0mpopular_query\u001b[0m \u001b[1;33m=\u001b[0m \u001b[0mpopular_query\u001b[0m\u001b[1;33m.\u001b[0m\u001b[0msort_values\u001b[0m\u001b[1;33m(\u001b[0m\u001b[1;34m'sum_shows'\u001b[0m\u001b[1;33m,\u001b[0m \u001b[0mascending\u001b[0m\u001b[1;33m=\u001b[0m\u001b[1;32mFalse\u001b[0m\u001b[1;33m)\u001b[0m\u001b[1;33m\u001b[0m\u001b[1;33m\u001b[0m\u001b[0m\n\u001b[0m\u001b[0;32m      3\u001b[0m \u001b[0mplt\u001b[0m\u001b[1;33m.\u001b[0m\u001b[0mfigure\u001b[0m\u001b[1;33m(\u001b[0m\u001b[0mfigsize\u001b[0m\u001b[1;33m=\u001b[0m\u001b[1;33m(\u001b[0m\u001b[1;36m20\u001b[0m\u001b[1;33m,\u001b[0m \u001b[1;36m10\u001b[0m\u001b[1;33m)\u001b[0m\u001b[1;33m)\u001b[0m\u001b[1;33m\u001b[0m\u001b[1;33m\u001b[0m\u001b[0m\n\u001b[0;32m      4\u001b[0m \u001b[0mplt\u001b[0m\u001b[1;33m.\u001b[0m\u001b[0mtitle\u001b[0m\u001b[1;33m(\u001b[0m\u001b[1;34m'Количество показов объявлений'\u001b[0m\u001b[1;33m,\u001b[0m \u001b[0mfontsize\u001b[0m\u001b[1;33m=\u001b[0m\u001b[1;36m16\u001b[0m\u001b[1;33m)\u001b[0m\u001b[1;33m\u001b[0m\u001b[1;33m\u001b[0m\u001b[0m\n\u001b[0;32m      5\u001b[0m ax_shows=sns.barplot(x='group', \n",
      "\u001b[1;32mC:\\anaconda3\\lib\\site-packages\\pandas\\core\\frame.py\u001b[0m in \u001b[0;36msort_values\u001b[1;34m(self, by, axis, ascending, inplace, kind, na_position, ignore_index)\u001b[0m\n\u001b[0;32m   4925\u001b[0m \u001b[1;33m\u001b[0m\u001b[0m\n\u001b[0;32m   4926\u001b[0m             \u001b[0mby\u001b[0m \u001b[1;33m=\u001b[0m \u001b[0mby\u001b[0m\u001b[1;33m[\u001b[0m\u001b[1;36m0\u001b[0m\u001b[1;33m]\u001b[0m\u001b[1;33m\u001b[0m\u001b[1;33m\u001b[0m\u001b[0m\n\u001b[1;32m-> 4927\u001b[1;33m             \u001b[0mk\u001b[0m \u001b[1;33m=\u001b[0m \u001b[0mself\u001b[0m\u001b[1;33m.\u001b[0m\u001b[0m_get_label_or_level_values\u001b[0m\u001b[1;33m(\u001b[0m\u001b[0mby\u001b[0m\u001b[1;33m,\u001b[0m \u001b[0maxis\u001b[0m\u001b[1;33m=\u001b[0m\u001b[0maxis\u001b[0m\u001b[1;33m)\u001b[0m\u001b[1;33m\u001b[0m\u001b[1;33m\u001b[0m\u001b[0m\n\u001b[0m\u001b[0;32m   4928\u001b[0m \u001b[1;33m\u001b[0m\u001b[0m\n\u001b[0;32m   4929\u001b[0m             \u001b[1;32mif\u001b[0m \u001b[0misinstance\u001b[0m\u001b[1;33m(\u001b[0m\u001b[0mascending\u001b[0m\u001b[1;33m,\u001b[0m \u001b[1;33m(\u001b[0m\u001b[0mtuple\u001b[0m\u001b[1;33m,\u001b[0m \u001b[0mlist\u001b[0m\u001b[1;33m)\u001b[0m\u001b[1;33m)\u001b[0m\u001b[1;33m:\u001b[0m\u001b[1;33m\u001b[0m\u001b[1;33m\u001b[0m\u001b[0m\n",
      "\u001b[1;32mC:\\anaconda3\\lib\\site-packages\\pandas\\core\\generic.py\u001b[0m in \u001b[0;36m_get_label_or_level_values\u001b[1;34m(self, key, axis)\u001b[0m\n\u001b[0;32m   1690\u001b[0m             \u001b[0mvalues\u001b[0m \u001b[1;33m=\u001b[0m \u001b[0mself\u001b[0m\u001b[1;33m.\u001b[0m\u001b[0maxes\u001b[0m\u001b[1;33m[\u001b[0m\u001b[0maxis\u001b[0m\u001b[1;33m]\u001b[0m\u001b[1;33m.\u001b[0m\u001b[0mget_level_values\u001b[0m\u001b[1;33m(\u001b[0m\u001b[0mkey\u001b[0m\u001b[1;33m)\u001b[0m\u001b[1;33m.\u001b[0m\u001b[0m_values\u001b[0m\u001b[1;33m\u001b[0m\u001b[1;33m\u001b[0m\u001b[0m\n\u001b[0;32m   1691\u001b[0m         \u001b[1;32melse\u001b[0m\u001b[1;33m:\u001b[0m\u001b[1;33m\u001b[0m\u001b[1;33m\u001b[0m\u001b[0m\n\u001b[1;32m-> 1692\u001b[1;33m             \u001b[1;32mraise\u001b[0m \u001b[0mKeyError\u001b[0m\u001b[1;33m(\u001b[0m\u001b[0mkey\u001b[0m\u001b[1;33m)\u001b[0m\u001b[1;33m\u001b[0m\u001b[1;33m\u001b[0m\u001b[0m\n\u001b[0m\u001b[0;32m   1693\u001b[0m \u001b[1;33m\u001b[0m\u001b[0m\n\u001b[0;32m   1694\u001b[0m         \u001b[1;31m# Check for duplicates\u001b[0m\u001b[1;33m\u001b[0m\u001b[1;33m\u001b[0m\u001b[1;33m\u001b[0m\u001b[0m\n",
      "\u001b[1;31mKeyError\u001b[0m: 'sum_shows'"
     ]
    }
   ],
   "source": [
    "# Гистограмма 'Количество показов объявлений' 31.12.21\n",
    "popular_query = popular_query.sort_values('sum_shows', ascending=False)\n",
    "plt.figure(figsize=(20, 10))\n",
    "plt.title('Количество показов объявлений', fontsize=16)\n",
    "ax_shows=sns.barplot(x='group', \n",
    "            y='sum_shows', \n",
    "            data=popular_query, \n",
    "            palette='summer')\n",
    "ax_shows.set_xlabel('Группы объявлений', fontsize=16)\n",
    "ax_shows.set_ylabel('Количество показов', fontsize=16)\n",
    "ax_shows.set_xticklabels(popular_query.group,\n",
    "                  fontsize = 10, # horizontal\n",
    "                   color = 'b',    #  Цвет текста\n",
    "                   rotation = 30,    #  Поворот текста\n",
    "                   verticalalignment =  'top')    #  Вертикальное выравнивание\n",
    "# annotation here\n",
    "for p in ax_shows.patches:\n",
    "             ax_shows.annotate(\"%.0f\" % p.get_height(), (p.get_x() + p.get_width() / 2., p.get_height()),\n",
    "                 ha='center', va='center', fontsize=10, color='b', xytext=(0, 5),\n",
    "                 textcoords='offset points')\n",
    "plt.show()"
   ]
  },
  {
   "cell_type": "code",
   "execution_count": 216,
   "metadata": {},
   "outputs": [
    {
     "data": {
      "image/png": "[encoded data removed]",
      "text/plain": [
       "<Figure size 1440x720 with 1 Axes>"
      ]
     },
     "metadata": {
      "needs_background": "light"
     },
     "output_type": "display_data"
    }
   ],
   "source": [
    "# Гистограмма 'Количество показов объявлений' на 09.01.22\n",
    "popular_query = popular_query.sort_values('sum_shows', ascending=False)\n",
    "fig = plt.figure(figsize=(20, 10))\n",
    "plt.title('Количество показов объявлений на 09.01.22', fontsize=16)\n",
    "ax_shows=sns.barplot(x='group', \n",
    "            y='sum_shows', \n",
    "            data=popular_query, \n",
    "            palette='summer')\n",
    "ax_shows.set_xlabel('Группы объявлений', fontsize=16)\n",
    "ax_shows.set_ylabel('Количество показов', fontsize=16)\n",
    "ax_shows.set_xticklabels(popular_query.group,\n",
    "                  fontsize = 10, # horizontal\n",
    "                   color = 'b',    #  Цвет текста\n",
    "                   rotation = 30,    #  Поворот текста\n",
    "                   verticalalignment =  'top')    #  Вертикальное выравнивание\n",
    "# annotation here\n",
    "for p in ax_shows.patches:\n",
    "             ax_shows.annotate(\"%.0f\" % p.get_height(), (p.get_x() + p.get_width() / 2., p.get_height()),\n",
    "                 ha='center', va='center', fontsize=10, color='b', xytext=(0, 5),\n",
    "                 textcoords='offset points')\n",
    "plt.show()\n",
    "\n",
    "# fig.savefig('Динамика показов декабрь.png')"
   ]
  },
  {
   "cell_type": "code",
   "execution_count": 88,
   "metadata": {},
   "outputs": [
    {
     "data": {
      "image/png": "[encoded data removed]",
      "text/plain": [
       "<Figure size 1440x720 with 1 Axes>"
      ]
     },
     "metadata": {
      "needs_background": "light"
     },
     "output_type": "display_data"
    }
   ],
   "source": [
    "# Гистограмма 'Количество кликов' 20.12.21\n",
    "popular_query = popular_query.sort_values('sum_shows', ascending=False)\n",
    "plt.figure(figsize=(20, 10))\n",
    "plt.title('Количество кликов', fontsize=16)\n",
    "ax_click=sns.barplot(x='group', \n",
    "            y='sum_click', \n",
    "            data=popular_query, \n",
    "            palette='summer')\n",
    "ax_click.set_xlabel('Группы объявлений', fontsize=16)\n",
    "ax_click.set_ylabel('Количество кликов', fontsize=16)\n",
    "ax_click.set_xticklabels(popular_query.group,\n",
    "                  fontsize = 10, # horizontal\n",
    "                   color = 'b',    #  Цвет текста\n",
    "                   rotation = 30,    #  Поворот текста\n",
    "                   verticalalignment =  'top')    #  Вертикальное выравнивание\n",
    "# annotation here\n",
    "for p in ax_click.patches:\n",
    "             ax_click.annotate(\"%.0f\" % p.get_height(), (p.get_x() + p.get_width() / 2., p.get_height()),\n",
    "                 ha='center', va='center', fontsize=10, color='b', xytext=(0, 5),\n",
    "                 textcoords='offset points')\n",
    "plt.show()"
   ]
  },
  {
   "cell_type": "code",
   "execution_count": 152,
   "metadata": {},
   "outputs": [
    {
     "data": {
      "image/png": "[encoded data removed]",
      "text/plain": [
       "<Figure size 1440x720 with 1 Axes>"
      ]
     },
     "metadata": {
      "needs_background": "light"
     },
     "output_type": "display_data"
    }
   ],
   "source": [
    "# Гистограмма 'Количество кликов' на 09.01.22\n",
    "popular_query = popular_query.sort_values('sum_shows', ascending=False)\n",
    "plt.figure(figsize=(20, 10))\n",
    "plt.title('Количество кликов на 09.01.22', fontsize=16)\n",
    "ax_click=sns.barplot(x='group', \n",
    "            y='sum_click', \n",
    "            data=popular_query, \n",
    "            palette='summer')\n",
    "ax_click.set_xlabel('Группы объявлений', fontsize=16)\n",
    "ax_click.set_ylabel('Количество кликов', fontsize=16)\n",
    "ax_click.set_xticklabels(popular_query.group,\n",
    "                  fontsize = 10, # horizontal\n",
    "                   color = 'b',    #  Цвет текста\n",
    "                   rotation = 30,    #  Поворот текста\n",
    "                   verticalalignment =  'top')    #  Вертикальное выравнивание\n",
    "# annotation here\n",
    "for p in ax_click.patches:\n",
    "             ax_click.annotate(\"%.0f\" % p.get_height(), (p.get_x() + p.get_width() / 2., p.get_height()),\n",
    "                 ha='center', va='center', fontsize=10, color='b', xytext=(0, 5),\n",
    "                 textcoords='offset points')\n",
    "plt.show()"
   ]
  },
  {
   "cell_type": "code",
   "execution_count": 153,
   "metadata": {},
   "outputs": [
    {
     "data": {
      "image/png": "[encoded data removed]",
      "text/plain": [
       "<Figure size 1440x720 with 1 Axes>"
      ]
     },
     "metadata": {
      "needs_background": "light"
     },
     "output_type": "display_data"
    }
   ],
   "source": [
    "# Line 'Количество кликов' на 09.01.22\n",
    "popular_query = popular_query.sort_values('sum_shows', ascending=False)\n",
    "plt.figure(figsize=(20, 10))\n",
    "plt.title('Количество кликов на 09.01.22')\n",
    "ax_line = sns.lineplot(x='group', \n",
    "            y='sum_click', \n",
    "            data=popular_query, \n",
    "            sort=False)\n",
    "ax_line.set_xlabel('Группы объявлений', fontsize=16)\n",
    "ax_line.set_ylabel('Количество кликов', fontsize=16)\n",
    "ax_line.set_xticklabels(popular_query.group,\n",
    "                  fontsize = 10, # horizontal\n",
    "                   color = 'b',    #  Цвет текста\n",
    "                   rotation = 30,    #  Поворот текста\n",
    "                   verticalalignment =  'top')    #  Вертикальное выравнивание\n",
    "# annotation here\n",
    "for p in ax_line.patches:\n",
    "             ax_line.annotate(\"%.0f\" % p.get_height(), (p.get_x() + p.get_width() / 2., p.get_height()),\n",
    "                 ha='center', va='center', fontsize=10, color='b', xytext=(0, 5),\n",
    "                 textcoords='offset points')\n",
    "plt.show()"
   ]
  },
  {
   "cell_type": "code",
   "execution_count": null,
   "metadata": {},
   "outputs": [],
   "source": []
  },
  {
   "cell_type": "code",
   "execution_count": 154,
   "metadata": {},
   "outputs": [
    {
     "data": {
      "image/png": "[encoded data removed]",
      "text/plain": [
       "<Figure size 1440x720 with 2 Axes>"
      ]
     },
     "metadata": {
      "needs_background": "light"
     },
     "output_type": "display_data"
    }
   ],
   "source": [
    "# Нарисуйте базовый слой\n",
    "popular_query = popular_query.sort_values('sum_shows', ascending=False)\n",
    "#plt.figure(figsize=(20, 10))\n",
    "fig, ax_shows = plt.subplots(figsize=(20,10))\n",
    "ax_shows.set_title('Активность по рекламным объявлениям', fontsize=16)\n",
    "\n",
    "# Первая гистограмма\n",
    "color = 'tab:green'\n",
    "ax_shows.set_xlabel('Группы объявлений', fontsize=16)\n",
    "ax_shows.set_ylabel('Количество показов', fontsize=16, color=color)\n",
    "ax_shows = sns.barplot(x='group', \n",
    "            y='sum_shows', \n",
    "            data=popular_query, \n",
    "            palette='summer')\n",
    "ax_shows.set_xticklabels(popular_query.group,\n",
    "                  fontsize = 10, # horizontal\n",
    "                   color=color,    #  Цвет текста\n",
    "                   rotation = 30,    #  Поворот текста\n",
    "                   verticalalignment =  'top')    #  Вертикальное выравнивание\n",
    "ax_shows.tick_params(axis='y')\n",
    " #twinxShare x-axis (Схожий синтаксис, например совместное использование оси y twiny)\n",
    "ax_line = ax_shows.twinx()\n",
    "\n",
    "\n",
    "# Второй график, линейный график\n",
    "color = 'tab:red'\n",
    "ax_line.set_ylabel('Количество кликов', fontsize=16, color=color)\n",
    "ax_line = sns.lineplot(x='group', \n",
    "            y='sum_click', \n",
    "            data=popular_query, \n",
    "            sort=False)\n",
    "ax_line.tick_params(axis='y', color=color)\n",
    "\n",
    "# Отображение результатов рисования\n",
    "plt.show()"
   ]
  },
  {
   "cell_type": "code",
   "execution_count": null,
   "metadata": {},
   "outputs": [],
   "source": []
  },
  {
   "cell_type": "code",
   "execution_count": 155,
   "metadata": {},
   "outputs": [
    {
     "data": {
      "image/png": "[encoded data removed]",
      "text/plain": [
       "<Figure size 1440x720 with 1 Axes>"
      ]
     },
     "metadata": {
      "needs_background": "light"
     },
     "output_type": "display_data"
    }
   ],
   "source": [
    "# Нарисуйте базовый слой\n",
    "popular_query = popular_query.sort_values('sum_shows', ascending=False)\n",
    "fig, ax_shows = plt.subplots(figsize=(20,10))\n",
    "#plt.figure(figsize=(20, 10))\n",
    "ax_shows.set_title('Активность по рекламным объявлениям', fontsize=16)\n",
    "\n",
    "# Первая гистограмма\n",
    "color = 'tab:blue'\n",
    "ax_shows.set_xlabel('Группы объявлений', fontsize=16)\n",
    "ax_shows=sns.barplot(x='group', \n",
    "            y='sum_shows', \n",
    "            data=popular_query, \n",
    "            color=color)\n",
    "ax_shows.set_ylabel('Количество показов', fontsize=16, color=color)\n",
    "ax_shows.set_xticklabels(popular_query.group,\n",
    "                  fontsize = 14, # horizontal\n",
    "                   color=color,    #  Цвет текста\n",
    "                   rotation = 30,    #  Поворот текста\n",
    "                   verticalalignment =  'top')    #  Вертикальное выравнивание\n",
    "ax_shows.tick_params(axis='y')\n",
    " #twinxShare x-axis (Схожий синтаксис, например совместное использование оси y twiny)\n",
    "#ax_click = ax_shows.twinx()\n",
    "\n",
    "# annotation here\n",
    "# for p in ax_shows.patches:\n",
    "#              ax_shows.annotate(\"%.0f\" % p.get_height(), (p.get_x() + p.get_width() / 2., p.get_height()),\n",
    "#                  ha='center', va='center', fontsize=14, color=color, xytext=(0, 5),\n",
    "#                  textcoords='offset points')\n",
    "\n",
    "\n",
    "# Вторая гистограмма\n",
    "color = 'tab:red'\n",
    "ax_click=sns.barplot(x='group', \n",
    "            y='sum_click', \n",
    "            data=popular_query, \n",
    "            color=color)\n",
    "ax_click.set_ylabel('Количество показов / кликов', fontsize=16, color=color)\n",
    "ax_click.set_xlabel('Группы объявлений', fontsize=16, color='blue')\n",
    "# ax_click.set_ylabel('Количество кликов', fontsize=16)\n",
    "ax_click.tick_params(axis='y', color=color)\n",
    "\n",
    "# annotation here\n",
    "for p in ax_click.patches:\n",
    "             ax_click.annotate(\"%.0f\" % p.get_height(), (p.get_x() + p.get_width() / 2., p.get_height()),\n",
    "                 ha='center', va='center', fontsize=14, color=color, xytext=(0, 5),\n",
    "                 textcoords='offset points')\n",
    "\n",
    "# Отображение результатов рисования\n",
    "plt.show()\n",
    "\n",
    "# ax_shows = sns.barplot(x = 'group', y = 'sum_shows', data = popular_query, color = 'red')\n",
    "# ax_click = sns.barplot(x = 'group', y = 'sum_click', data = popular_query, color = 'blue')"
   ]
  },
  {
   "cell_type": "code",
   "execution_count": null,
   "metadata": {},
   "outputs": [],
   "source": []
  },
  {
   "cell_type": "code",
   "execution_count": null,
   "metadata": {},
   "outputs": [],
   "source": [
    "# ax = sns.barplot(x='driver_score', y='percentage', data=driver_score_counts, color='blue', alpha=0.5)\n",
    "# ax.set(xlabel='Driver score', ylabel='Percentage')\n",
    "# sns.despine()  # убрать часть рамки графика\n",
    "# plt.show()\n",
    "\n",
    "# plt.figure(figsize=(20, 10))\n",
    "# sns.barplot(x=\"group\", y=\"sum_shows\", data=popular_query)"
   ]
  },
  {
   "cell_type": "code",
   "execution_count": null,
   "metadata": {},
   "outputs": [],
   "source": [
    "#df.groupby(['Id']).median().sort_values(\"Speed\").plot.bar()"
   ]
  },
  {
   "cell_type": "code",
   "execution_count": 286,
   "metadata": {},
   "outputs": [],
   "source": [
    "# plt.figure(figsize=(20, 10))\n",
    "# ax = sns.barplot(x=\"group\", y=\"sum_shows\", data=popular_query, orient=\"h\")\n",
    "#ax.fig.autofmt_xdate()"
   ]
  },
  {
   "cell_type": "code",
   "execution_count": null,
   "metadata": {},
   "outputs": [],
   "source": [
    "# ORIGIN\n",
    "def sortedgroupedbar(ax, x,y, groupby, data=None, width=0.8, **kwargs):\n",
    "    order = np.zeros(len(data))\n",
    "    df = data.copy()\n",
    "    for xi in np.unique(df[x].values):\n",
    "        group = data[df[x] == xi]\n",
    "        a = group[y].values\n",
    "        b = sorted(np.arange(len(a)),key=lambda x:a[x],reverse=True)\n",
    "        c = sorted(np.arange(len(a)),key=lambda x:b[x])\n",
    "        order[data[x] == xi] = c   \n",
    "    df[\"order\"] = order\n",
    "    u, df[\"ind\"] = np.unique(df[x].values, return_inverse=True)\n",
    "    step = width/len(np.unique(df[groupby].values))\n",
    "    for xi,grp in df.groupby(groupby):\n",
    "        ax.bar(grp[\"ind\"]-width/2.+grp[\"order\"]*step+step/2.,\n",
    "               grp[y],width=step, label=xi, **kwargs)\n",
    "    ax.legend(title=groupby)\n",
    "    ax.set_xticks(np.arange(len(u)))\n",
    "    ax.set_xticklabels(u)\n",
    "    ax.set_xlabel(x)\n",
    "    ax.set_ylabel(y)\n",
    "\n",
    "\n",
    "fig, ax = plt.subplots()    \n",
    "sortedgroupedbar(ax, x=\"Class\",y=\"Percentage\", groupby=\"Age\", data=df)\n",
    "plt.show()\n"
   ]
  },
  {
   "cell_type": "code",
   "execution_count": 292,
   "metadata": {},
   "outputs": [],
   "source": [
    "def sortedgroupedbar(ax, x,y, groupby, data=None, width=0.8, **kwargs):\n",
    "    order = np.zeros(len(data))\n",
    "    df = data.copy()\n",
    "    for xi in np.unique(df[x].values):\n",
    "        group = data[df[x] == xi]\n",
    "        a = group[y].values\n",
    "        b = sorted(np.arange(len(a)),key=lambda x:a[x],reverse=True)\n",
    "        c = sorted(np.arange(len(a)),key=lambda x:b[x])\n",
    "        order[data[x] == xi] = c   \n",
    "    df[\"order\"] = order\n",
    "    u, df[\"ind\"] = np.unique(df[x].values, return_inverse=True)\n",
    "    step = width/len(np.unique(df[groupby].values))\n",
    "    for xi,grp in df.groupby(groupby):\n",
    "        ax.bar(grp[\"ind\"]-width/2.+grp[\"order\"]*step+step/2.,\n",
    "               grp[y],width=step, label=xi, **kwargs)\n",
    "    ax.legend(title=groupby)\n",
    "    ax.set_xticks(np.arange(len(u)))\n",
    "    ax.set_xticklabels(u)\n",
    "    ax.set_xlabel(x)\n",
    "    ax.set_ylabel(y)"
   ]
  },
  {
   "cell_type": "code",
   "execution_count": null,
   "metadata": {},
   "outputs": [],
   "source": [
    "# fig, ax = plt.subplots()    \n",
    "# sortedgroupedbar(ax, x=\"sum_shows\", y=\"sum_click\", groupby=\"group\", data=popular_query)\n",
    "# plt.show()"
   ]
  },
  {
   "cell_type": "code",
   "execution_count": null,
   "metadata": {},
   "outputs": [],
   "source": [
    "# fig, ax = plt.subplots()    \n",
    "# sortedgroupedbar(ax, x=\"sum_shows\", y=\"sum_click\", groupby=\"group\", data=popular_query)\n",
    "# plt.show()"
   ]
  },
  {
   "cell_type": "code",
   "execution_count": null,
   "metadata": {},
   "outputs": [],
   "source": [
    "# ORIGIN\n",
    "# Вы должны передать значения от x= до order= . В твоем случае я бы так и сделал:\n",
    "\n",
    "death = pd.read_csv('https://storage.googleapis.com/hewwo/NCHS_-_Leading_Causes_of_Death__United_States.csv', sep=',', header=0)\n",
    "\n",
    "plot_order = death.groupby('Cause Name')['Deaths'].sum().sort_values(ascending=False).index.values\n",
    "\n",
    "sns.catplot(data=death, x='Cause Name',  y='Deaths',kind='bar',ci=None, legend_out=False, order=plot_order)"
   ]
  },
  {
   "cell_type": "code",
   "execution_count": 318,
   "metadata": {},
   "outputs": [
    {
     "data": {
      "text/plain": [
       "<seaborn.axisgrid.FacetGrid at 0x5a7ae36e80>"
      ]
     },
     "execution_count": 318,
     "metadata": {},
     "output_type": "execute_result"
    },
    {
     "data": {
      "image/png": "[encoded data removed]",
      "text/plain": [
       "<Figure size 360x360 with 1 Axes>"
      ]
     },
     "metadata": {
      "needs_background": "light"
     },
     "output_type": "display_data"
    }
   ],
   "source": [
    "#plot_order = popular_query.sort_values('sum_shows', ascending=False)\n",
    "\n",
    "sns.catplot(data=popular_query, x='group', y='sum_shows', kind='bar', ci=None, legend_out=False, order=popular_query.group)"
   ]
  },
  {
   "cell_type": "code",
   "execution_count": 156,
   "metadata": {},
   "outputs": [],
   "source": [
    "#labels = ['Контрольная\\nгруппа № %i' % i for i in range(1, 6)]\n",
    "#value = (12, 24, 18, 11, 6)\n",
    "# position = np.arange(5)\n",
    "\n",
    "\n",
    "# ax = plt.subplots(x=\"group\", y=\"sum_shows\", data=popular_query)\n",
    "# #fig, ax = plt.subplots()\n",
    "\n",
    "# #ax.barh(position, value) # vertical\n",
    "# ax.bar(popular_query.sum_shows) # horizontal\n",
    "\n",
    "# #  Устанавливаем позиции тиков:\n",
    "# #ax.set_yticks(position) # vertical\n",
    "# ax.set_xticks() # horizontal\n",
    "\n",
    "# #  Устанавливаем подписи тиков\n",
    "# #ax.set_yticklabels(labels,\n",
    "# #                   fontsize = 15) # vertical\n",
    "# ax.set_xticklabels(popular_query.group,\n",
    "#                   fontsize = 15, # horizontal\n",
    "#                    color = 'b',    #  Цвет текста\n",
    "#                    rotation = 45,    #  Поворот текста\n",
    "#                    verticalalignment =  'top')    #  Вертикальное выравнивание\n",
    "\n",
    "# plt.figure(figsize=(20, 10))\n",
    "# # fig.set_figwidth(10)\n",
    "# # fig.set_figheight(6)\n",
    "\n",
    "# plt.show()\n",
    "\n"
   ]
  },
  {
   "cell_type": "code",
   "execution_count": null,
   "metadata": {},
   "outputs": [],
   "source": [
    "plt.figure(figsize=(20, 10))\n",
    "sns.barplot(x=\"group\", y=\"sum_shows\", data=popular_query)"
   ]
  },
  {
   "cell_type": "code",
   "execution_count": null,
   "metadata": {},
   "outputs": [],
   "source": [
    "# ORIGIN\n",
    "# Или, если вы хотите удалить панель \"All causes\":\n",
    "\n",
    "sns.catplot(data=death, x='Cause Name',  y='Deaths',kind='bar',ci=None, legend_out=False, order=plot_order[1:])"
   ]
  },
  {
   "cell_type": "code",
   "execution_count": null,
   "metadata": {},
   "outputs": [],
   "source": [
    "sns.catplot(data=death, x='Cause Name',  y='Deaths',kind='bar',ci=None, legend_out=False, order=plot_order[1:])"
   ]
  },
  {
   "cell_type": "code",
   "execution_count": 295,
   "metadata": {},
   "outputs": [
    {
     "data": {
      "text/plain": [
       "<seaborn.axisgrid.FacetGrid at 0x5a77e1db20>"
      ]
     },
     "execution_count": 295,
     "metadata": {},
     "output_type": "execute_result"
    },
    {
     "data": {
      "image/png": "[encoded data removed]",
      "text/plain": [
       "<Figure size 324x216 with 1 Axes>"
      ]
     },
     "metadata": {
      "needs_background": "light"
     },
     "output_type": "display_data"
    }
   ],
   "source": [
    "# ORIGIN\n",
    "# Вы можете установить order аргумент sns.catplot() в предпочтительном порядке.\n",
    "# Вы можете использовать df['col'].value_counts().index , чтобы получить этот заказ.\n",
    "\n",
    "a = np.random.choice(['cat', 'dog', 'hamster'], 100)\n",
    "\n",
    "df = pd.DataFrame(a, columns=['animals'])\n",
    "\n",
    "sns.catplot(data=df, x='animals',kind='count',ci=None,legend_out=False,\n",
    "            height=3, aspect=1.5, order=df['animals'].value_counts().index)"
   ]
  },
  {
   "cell_type": "code",
   "execution_count": 305,
   "metadata": {},
   "outputs": [],
   "source": [
    "#sns.catplot(data=popular_query, x='group', y='sum_shows', kind='count', ci=None, legend_out=False,\n",
    "#            height=3, aspect=1.5, order=popular_query['group'].value_counts().index)"
   ]
  },
  {
   "cell_type": "code",
   "execution_count": null,
   "metadata": {},
   "outputs": [],
   "source": []
  }
 ],
 "metadata": {
  "kernelspec": {
   "display_name": "Python 3",
   "language": "python",
   "name": "python3"
  },
  "language_info": {
   "codemirror_mode": {
    "name": "ipython",
    "version": 3
   },
   "file_extension": ".py",
   "mimetype": "text/x-python",
   "name": "python",
   "nbconvert_exporter": "python",
   "pygments_lexer": "ipython3",
   "version": "3.8.3"
  }
 },
 "nbformat": 4,
 "nbformat_minor": 4
}
